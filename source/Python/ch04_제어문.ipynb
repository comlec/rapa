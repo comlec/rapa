{
 "cells": [
  {
   "cell_type": "code",
   "execution_count": 1,
   "id": "adc6162d-7184-4ddb-b5b0-565f95319bd1",
   "metadata": {},
   "outputs": [
    {
     "data": {
      "text/html": [
       "\n",
       "<style>\n",
       "div.jp-WindowedPanel-outer.lm-Widget{padding:5px;}\n",
       "div.lm-Widget{width:100%;font-size:19pt;}\n",
       "div.cm-content {font-family:Consolas; font-size:17pt;}\n",
       "div.jp-OutputArea-output pre {font-size:19pt; font-weight:bold;}\n",
       "input.jp-Stdin-input {font-family:Consolas; font-size:19pt;}\n",
       "</style>\n"
      ],
      "text/plain": [
       "<IPython.core.display.HTML object>"
      ]
     },
     "metadata": {},
     "output_type": "display_data"
    }
   ],
   "source": [
    "from IPython.display import display, HTML\n",
    "display(HTML(\"\"\"\n",
    "<style>\n",
    "div.jp-WindowedPanel-outer.lm-Widget{padding:5px;}\n",
    "div.lm-Widget{width:100%;font-size:19pt;}\n",
    "div.cm-content {font-family:Consolas; font-size:17pt;}\n",
    "div.jp-OutputArea-output pre {font-size:19pt; font-weight:bold;}\n",
    "input.jp-Stdin-input {font-family:Consolas; font-size:19pt;}\n",
    "</style>\n",
    "\"\"\"))"
   ]
  },
  {
   "cell_type": "markdown",
   "id": "f7e47021-af69-4cdd-b057-a8133e6caed7",
   "metadata": {},
   "source": [
    "<font size=\"6\" color=\"red\"><b>ch04. 제어문</b></font>"
   ]
  },
  {
   "cell_type": "markdown",
   "id": "85c53a4f-2f96-4692-915e-e4c277d7ebcf",
   "metadata": {},
   "source": [
    "- if문, for-in문, while문"
   ]
  },
  {
   "cell_type": "markdown",
   "id": "f6bc295f-07f5-4858-b86d-89f76f9801c3",
   "metadata": {},
   "source": [
    "# 1절 if문"
   ]
  },
  {
   "cell_type": "code",
   "execution_count": 8,
   "id": "0887d31e-835c-42c7-b789-fa11c6d13c4e",
   "metadata": {},
   "outputs": [
    {
     "name": "stdin",
     "output_type": "stream",
     "text": [
      "Hong! Enter your score >> 102\n"
     ]
    },
    {
     "name": "stdout",
     "output_type": "stream",
     "text": [
      "입력하신 점수는 102점이고, 유효하지 않은 점수등급입니다\n"
     ]
    }
   ],
   "source": [
    "# 점수를 입력받아 학점출력\n",
    "name = \"Hong\"\n",
    "score = int(input(name + \"! Enter your score >>\"))\n",
    "if 90 <= score <= 100 :\n",
    "    grade = 'A'\n",
    "elif 80 <= score < 90 :\n",
    "    grade = 'B'\n",
    "elif 70 <= score < 80:\n",
    "    grade = 'C'\n",
    "elif 60 <= score < 70:\n",
    "    grade = 'D'\n",
    "elif 0<= score < 60 :\n",
    "    grade = 'F'\n",
    "else:\n",
    "    grade = '유효하지 않은 점수'\n",
    "print(\"입력하신 점수는 {}점이고, {}등급입니다\".format(score, grade))"
   ]
  },
  {
   "cell_type": "markdown",
   "id": "9aecda7c-34bc-4a31-90ea-28f1e164f35a",
   "metadata": {},
   "source": [
    "# 2절. for-in문\n",
    "```\n",
    "for 변수 in 나열가능한자료:\n",
    "    반복할 문장1\n",
    "    반복할 문장2\n",
    "else:\n",
    "    변수에 값이 할당되지 않은 경우 한번 실행할 문장(else구문 선택사항)\n",
    "    for문 안에 break가 있을 경우 else블럭 수행되지 않음\n",
    "```"
   ]
  },
  {
   "cell_type": "code",
   "execution_count": 12,
   "id": "f22de1f2-b113-4f25-b936-7b6ece702be6",
   "metadata": {},
   "outputs": [
    {
     "data": {
      "text/plain": [
       "[1, 3, 5, 7, 9]"
      ]
     },
     "execution_count": 12,
     "metadata": {},
     "output_type": "execute_result"
    }
   ],
   "source": [
    "list(range(1, 10, 2)) # range도 나열가능한 자료"
   ]
  },
  {
   "cell_type": "code",
   "execution_count": 18,
   "id": "8a0077f4-c03e-40f6-a029-e65bc075a715",
   "metadata": {},
   "outputs": [
    {
     "name": "stdout",
     "output_type": "stream",
     "text": [
      "1\t3\t5\t7\t9\t\n",
      "Done\n",
      "END\n"
     ]
    }
   ],
   "source": [
    "for i in range(1, 10, 2):\n",
    "    print(i, end=\"\\t\")\n",
    "else:\n",
    "    print(\"\\nDone\")\n",
    "print(\"END\")"
   ]
  },
  {
   "cell_type": "code",
   "execution_count": 19,
   "id": "ffc8c24a-0852-4bd2-bfba-9da8484cc784",
   "metadata": {},
   "outputs": [
    {
     "name": "stdout",
     "output_type": "stream",
     "text": [
      "1부터 100까지의 짝수의 합은 2550입니다\n"
     ]
    }
   ],
   "source": [
    "# 1~100까지 짝수의 합을 계산하고 출력하시오\n",
    "sum = 0 # 누적변수\n",
    "for i in range(1, 101):\n",
    "    if i%2==0:\n",
    "        sum += i\n",
    "print(\"1부터 100까지의 짝수의 합은 {}입니다\".format(sum))"
   ]
  },
  {
   "cell_type": "markdown",
   "id": "1c323790-168e-4be0-8380-4a7115ed010d",
   "metadata": {},
   "source": [
    "# 3절 while문\n",
    "```\n",
    "while 조건:\n",
    "    반복문장1\n",
    "    반복문장2\n",
    "else:\n",
    "    조건이 거짓일 경우 한번 수행할 문장(else는 선택사항)\n",
    "    while문 내 break를 통해서 빠져 나올때는 else블럭은 수행하지 않음\n",
    "```"
   ]
  },
  {
   "cell_type": "code",
   "execution_count": 21,
   "id": "98f55198-6865-430f-a75f-de76ef565b2a",
   "metadata": {},
   "outputs": [
    {
     "name": "stdin",
     "output_type": "stream",
     "text": [
      "첫번째(작은수) 정수를 입력하세요>> -100\n",
      "두번째(큰수) 정수를 입력하세요>> -10\n"
     ]
    },
    {
     "name": "stdout",
     "output_type": "stream",
     "text": [
      "-100부터 -10까지 홀수들의 누적합은 -2475\n"
     ]
    }
   ],
   "source": [
    "# 사용자에게 두수를 입력받아 첫번째(작은수)수부터 두번째(큰수)입력한 수까지 홀수의 합 누적해서 출력\n",
    "n1 = int(input('첫번째(작은수) 정수를 입력하세요>>')) # 1\n",
    "n2 = int(input('두번째(큰수) 정수를 입력하세요>>'))   # 10\n",
    "sum = 0 # 누적변수\n",
    "i = n1;\n",
    "while i<=n2:\n",
    "    if i%2 != 0:\n",
    "        sum += i\n",
    "    i += 1\n",
    "print(\"{1}부터 {2}까지 홀수들의 누적합은 {0}\".format(sum, n1, n2))"
   ]
  },
  {
   "cell_type": "markdown",
   "id": "67c4c00e-70f5-43a7-a676-1a5bc57f784c",
   "metadata": {},
   "source": [
    "# 4절. break, continue"
   ]
  },
  {
   "cell_type": "code",
   "execution_count": 3,
   "id": "20557724-7d95-4f52-b7c8-4d8b5a4e67e6",
   "metadata": {},
   "outputs": [
    {
     "name": "stdout",
     "output_type": "stream",
     "text": [
      "num=1\tnum=2\tnum=4\tnum=5\tnum=6\tnum=7\tnum=8\tnum=9\tnum=10\tnum=11\t"
     ]
    }
   ],
   "source": [
    "num = 0\n",
    "while num<=10:\n",
    "    num += 1\n",
    "    if num == 3:\n",
    "        # break\n",
    "        continue\n",
    "    print(\"num={}\".format(num), end='\\t')"
   ]
  },
  {
   "cell_type": "markdown",
   "id": "47e87dee-03aa-41fa-b549-79b87925c410",
   "metadata": {},
   "source": [
    "# 5절. 이중 loop"
   ]
  },
  {
   "cell_type": "code",
   "execution_count": 4,
   "id": "986c3df8-5a90-4989-9340-8703593ab0a4",
   "metadata": {},
   "outputs": [
    {
     "name": "stdout",
     "output_type": "stream",
     "text": [
      "2x1= 2\t3x1= 3\t4x1= 4\t5x1= 5\t6x1= 6\t7x1= 7\t8x1= 8\t9x1= 9\t\n",
      "2x2= 4\t3x2= 6\t4x2= 8\t5x2=10\t6x2=12\t7x2=14\t8x2=16\t9x2=18\t\n",
      "2x3= 6\t3x3= 9\t4x3=12\t5x3=15\t6x3=18\t7x3=21\t8x3=24\t9x3=27\t\n",
      "2x4= 8\t3x4=12\t4x4=16\t5x4=20\t6x4=24\t7x4=28\t8x4=32\t9x4=36\t\n",
      "2x5=10\t3x5=15\t4x5=20\t5x5=25\t6x5=30\t7x5=35\t8x5=40\t9x5=45\t\n",
      "2x6=12\t3x6=18\t4x6=24\t5x6=30\t6x6=36\t7x6=42\t8x6=48\t9x6=54\t\n",
      "2x7=14\t3x7=21\t4x7=28\t5x7=35\t6x7=42\t7x7=49\t8x7=56\t9x7=63\t\n",
      "2x8=16\t3x8=24\t4x8=32\t5x8=40\t6x8=48\t7x8=56\t8x8=64\t9x8=72\t\n",
      "2x9=18\t3x9=27\t4x9=36\t5x9=45\t6x9=54\t7x9=63\t8x9=72\t9x9=81\t\n"
     ]
    }
   ],
   "source": [
    "for i in range(1, 10):\n",
    "    for j in range(2, 10):\n",
    "        print(\"{}x{}={:>2}\\t\".format(j, i, i*j), end='')\n",
    "    print() # 개행용도"
   ]
  },
  {
   "cell_type": "markdown",
   "id": "0d07d7c8-a2fb-48ff-b8b2-22fe72db712c",
   "metadata": {},
   "source": [
    "# 연습문제"
   ]
  },
  {
   "cell_type": "code",
   "execution_count": 46,
   "id": "6389de9c-7d1d-4d8f-983e-ba31df00ee99",
   "metadata": {},
   "outputs": [
    {
     "name": "stdout",
     "output_type": "stream",
     "text": [
      "8\n"
     ]
    }
   ],
   "source": [
    "'''\n",
    "1번. 1~100사이의 정수를 맞추는 프로그램을 구현하시오\n",
    "     (프로그램안에 임의의 숫자가 만들어지고 그 숫자를 맞추도록 합니다)\n",
    "\n",
    "방법1. 숫자가 틀리면 UP, DOWN을 알려주고 숫자를 맞추면 종료합니다. \n",
    "       min~max사이의 수를 입력하지 않을 경우 수의 범위가 벗어났다고 출력\n",
    "       숫자가 틀리면 min~max 사이의 수라고 알려주고 숫자를 맞추면 종료합니다\n",
    "방법2. 숫자를 맞출 기회를 5회만 제공하고 5회 이내에 맞추지 않으면 실패 메세지를 출력합니다\n",
    "'''\n",
    "import random\n",
    "# random.seed(7) # seed값을 같은 값으로 넣어주면 랜덤수 결과 동일\n",
    "print(random.randint(1, 100))# 1~100사이 임의 난수 발생"
   ]
  },
  {
   "cell_type": "code",
   "execution_count": 49,
   "id": "e898f336-2b06-407d-96e7-00e4bbc86cf0",
   "metadata": {},
   "outputs": [
    {
     "name": "stdout",
     "output_type": "stream",
     "text": [
      "컴퓨터가 발생한 임의의 수 : 16\n"
     ]
    },
    {
     "name": "stdin",
     "output_type": "stream",
     "text": [
      "1~100사이의 수를 맞춰 보세요 :  0\n"
     ]
    },
    {
     "name": "stdout",
     "output_type": "stream",
     "text": [
      "수의 범위를 벗어났습니다\n"
     ]
    },
    {
     "name": "stdin",
     "output_type": "stream",
     "text": [
      "1~100사이의 수를 맞춰 보세요 :  16\n"
     ]
    },
    {
     "name": "stdout",
     "output_type": "stream",
     "text": [
      "축하축하 맞추셨습니다\n"
     ]
    }
   ],
   "source": [
    "# 1. 방법1 1~100까지 컴퓨터가 발생한 난수 알아맞추기(최소값과 최대값을 줄여가며 범위 출력)\n",
    "import random\n",
    "computerNum = random.randint(1, 100) # 컴퓨터가 발생한 임의의 수\n",
    "answer = 0 # 사용자 선택수\n",
    "min = 1\n",
    "max =100\n",
    "print(\"컴퓨터가 발생한 임의의 수 : {}\".format(computerNum))\n",
    "while computerNum != answer:\n",
    "    answer = int(input(str(min)+'~'+str(max)+'사이의 수를 맞춰 보세요 : '))\n",
    "    "
   ]
  },
  {
   "cell_type": "code",
   "execution_count": 56,
   "id": "2da420fe-1fd3-4cca-aa41-67a98aacc66e",
   "metadata": {},
   "outputs": [
    {
     "name": "stdout",
     "output_type": "stream",
     "text": [
      "컴퓨터가 발생한 임의의 수 : 74\n"
     ]
    },
    {
     "name": "stdin",
     "output_type": "stream",
     "text": [
      "1~100사이의 수를 맞춰 보세요(남은 기회는 5번) 56\n"
     ]
    },
    {
     "name": "stdout",
     "output_type": "stream",
     "text": [
      "UP ↑ \n"
     ]
    },
    {
     "name": "stdin",
     "output_type": "stream",
     "text": [
      "57~100사이의 수를 맞춰 보세요(남은 기회는 4번) 80\n"
     ]
    },
    {
     "name": "stdout",
     "output_type": "stream",
     "text": [
      "DOWN ↓\n"
     ]
    },
    {
     "name": "stdin",
     "output_type": "stream",
     "text": [
      "57~79사이의 수를 맞춰 보세요(남은 기회는 3번) 74\n"
     ]
    },
    {
     "name": "stdout",
     "output_type": "stream",
     "text": [
      "3번만에 성공하셨습니다. 축하축하 맞추셨습니다\n"
     ]
    }
   ],
   "source": [
    "# 1. 방법2 1~100까지 컴퓨터가 발생한 난수를 5번 이내로 알아맞추기(최소값과 최대값을 줄여가며 범위 출력)\n",
    "#     5번 기회 이내에 알아맞추지 않을 시 \"실패했습니다\" 출력\n",
    "import random\n",
    "computerNum = random.randint(1, 100) # 컴퓨터가 발생한 임의의 수\n",
    "answer = 0 # 사용자 선택수\n",
    "min = 1\n",
    "max =100\n",
    "print(\"컴퓨터가 발생한 임의의 수 : {}\".format(computerNum))\n",
    "for i in range(5, 0, -1):\n",
    "    \n",
    "else:\n",
    "    print('기회를 모두 사용하셨습니다. 실패하셨습니다')"
   ]
  },
  {
   "cell_type": "code",
   "execution_count": 53,
   "id": "e467e986-085c-4825-a306-6717087ccd88",
   "metadata": {},
   "outputs": [
    {
     "name": "stdout",
     "output_type": "stream",
     "text": [
      "[3, 9, 10, 19, 27, 36]\n"
     ]
    }
   ],
   "source": [
    "# 2. 중복되지 않은 로또 번호를 오름차순 정렬하여 출력하시오\n",
    "#      (set.add(n))           (list함수 이용해서 set을 list로 수정후 sort()함수 사용)"
   ]
  }
 ],
 "metadata": {
  "kernelspec": {
   "display_name": "Python 3 (ipykernel)",
   "language": "python",
   "name": "python3"
  },
  "language_info": {
   "codemirror_mode": {
    "name": "ipython",
    "version": 3
   },
   "file_extension": ".py",
   "mimetype": "text/x-python",
   "name": "python",
   "nbconvert_exporter": "python",
   "pygments_lexer": "ipython3",
   "version": "3.11.7"
  }
 },
 "nbformat": 4,
 "nbformat_minor": 5
}
