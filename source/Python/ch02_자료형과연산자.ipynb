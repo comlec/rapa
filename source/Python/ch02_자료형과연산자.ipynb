{
 "cells": [
  {
   "cell_type": "code",
   "execution_count": 53,
   "id": "dbc0361d-ee9a-47c1-81af-8ed8534dbbcb",
   "metadata": {},
   "outputs": [
    {
     "data": {
      "text/html": [
       "\n",
       "<style>\n",
       "div.jp-WindowedPanel-outer.lm-Widget{padding:5px;}\n",
       "div.lm-Widget{width:100%;font-size:19pt;}\n",
       "div.cm-content {font-family:Consolas; font-size:17pt;}\n",
       "div.jp-OutputArea-output pre {font-size:19pt; font-weight:bold;}\n",
       "input.jp-Stdin-input {font-family:Consolas; font-size:19pt;}\n",
       "</style>\n"
      ],
      "text/plain": [
       "<IPython.core.display.HTML object>"
      ]
     },
     "metadata": {},
     "output_type": "display_data"
    }
   ],
   "source": [
    "from IPython.display import display, HTML\n",
    "display(HTML(\"\"\"\n",
    "<style>\n",
    "div.jp-WindowedPanel-outer.lm-Widget{padding:5px;}\n",
    "div.lm-Widget{width:100%;font-size:19pt;}\n",
    "div.cm-content {font-family:Consolas; font-size:17pt;}\n",
    "div.jp-OutputArea-output pre {font-size:19pt; font-weight:bold;}\n",
    "input.jp-Stdin-input {font-family:Consolas; font-size:19pt;}\n",
    "</style>\n",
    "\"\"\"))"
   ]
  },
  {
   "cell_type": "markdown",
   "id": "ffb519e0-a932-42c0-bd36-7f9ddc131c3c",
   "metadata": {},
   "source": [
    "<font size=\"8\" color=\"red\"><b>ch02. 자료형과 연산자</b></font>"
   ]
  },
  {
   "cell_type": "markdown",
   "id": "730337e4-0650-4885-b251-2f98434d6802",
   "metadata": {},
   "source": [
    "# 1절. 변수\n",
    "## 1.1 변수선언\n",
    "    - 별도의 변수 선언과정 없음\n",
    "## 1.2 변수 할당\n",
    "    - 대입연산자(=) 사용"
   ]
  },
  {
   "cell_type": "code",
   "execution_count": 7,
   "id": "879ad8ec-4d95-4799-8400-fc6d457f8576",
   "metadata": {},
   "outputs": [
    {
     "name": "stdout",
     "output_type": "stream",
     "text": [
      "제공되는 pi값은 3.141592653589793\n",
      "계산된 넓이는 78.53981633974483\n",
      "area타입은 <class 'float'>\n",
      "area 주소는 1273592635920\n"
     ]
    }
   ],
   "source": [
    "import numpy as np\n",
    "print('제공되는 pi값은', np.pi)\n",
    "r = 5\n",
    "area = np.pi * r * r\n",
    "# printf(\"계산된 넓이는 %lf\", area)\n",
    "print(\"계산된 넓이는\", area)\n",
    "print('area타입은', type(area) )\n",
    "print('area 주소는', id(area))"
   ]
  },
  {
   "cell_type": "code",
   "execution_count": 8,
   "id": "296ba3b5-c510-4ad9-8fc3-cf946201fc39",
   "metadata": {},
   "outputs": [
    {
     "name": "stdout",
     "output_type": "stream",
     "text": [
      "area 값은 10\n",
      "area타입은 <class 'int'>\n",
      "area 주소는 140727940924488\n"
     ]
    }
   ],
   "source": [
    "area = 10\n",
    "print(\"area 값은\", area)\n",
    "print('area타입은', type(area) )\n",
    "print('area 주소는', id(area))"
   ]
  },
  {
   "cell_type": "code",
   "execution_count": 9,
   "id": "62bee36e-243f-4997-a830-afbf0ca0f475",
   "metadata": {},
   "outputs": [
    {
     "name": "stdout",
     "output_type": "stream",
     "text": [
      "area 값은 파이썬은 좋아요\n",
      "area타입은 <class 'str'>\n",
      "area 주소는 1273563428880\n"
     ]
    }
   ],
   "source": [
    "area = '파이썬은 좋아요'\n",
    "print(\"area 값은\", area)\n",
    "print('area타입은', type(area) )\n",
    "print('area 주소는', id(area))"
   ]
  },
  {
   "cell_type": "markdown",
   "id": "3d352eb7-0fba-42c1-9123-77e1e874222b",
   "metadata": {},
   "source": [
    "## 1.3 변수이름 규칙\n",
    "    - 문자(특수문자는 _제외하고 안됨), 숫자, _로 명명.\n",
    "    - 문자로 시작\n",
    "    - 파이썬에서 제공되는 기본 함수명 피하자. 꼭 써야한다면 int_식으로 _를 붙임\n",
    "    - 파이썬 예약어는 변수명 불가(ex. if)"
   ]
  },
  {
   "cell_type": "code",
   "execution_count": 10,
   "id": "e8bda766-831e-4600-8c38-26d372652589",
   "metadata": {},
   "outputs": [
    {
     "data": {
      "text/plain": [
       "'북한'"
      ]
     },
     "execution_count": 10,
     "metadata": {},
     "output_type": "execute_result"
    }
   ],
   "source": [
    "불용어 = '북한'\n",
    "불용어"
   ]
  },
  {
   "cell_type": "code",
   "execution_count": 11,
   "id": "10b70f2f-8751-47b9-bc04-f9e0432a8d14",
   "metadata": {},
   "outputs": [
    {
     "ename": "SyntaxError",
     "evalue": "invalid syntax (1720054281.py, line 1)",
     "output_type": "error",
     "traceback": [
      "\u001b[1;36m  Cell \u001b[1;32mIn[11], line 1\u001b[1;36m\u001b[0m\n\u001b[1;33m    if = 4\u001b[0m\n\u001b[1;37m       ^\u001b[0m\n\u001b[1;31mSyntaxError\u001b[0m\u001b[1;31m:\u001b[0m invalid syntax\n"
     ]
    }
   ],
   "source": [
    "if = 4"
   ]
  },
  {
   "cell_type": "code",
   "execution_count": 12,
   "id": "96b43b0e-5c0b-4b24-a6ba-c19f74cc1cd9",
   "metadata": {},
   "outputs": [
    {
     "name": "stdout",
     "output_type": "stream",
     "text": [
      "북한\n"
     ]
    }
   ],
   "source": [
    "print(불용어)"
   ]
  },
  {
   "cell_type": "code",
   "execution_count": 18,
   "id": "5ea1cbca-783b-4aa2-9f80-a28f15bd4e19",
   "metadata": {},
   "outputs": [],
   "source": [
    "# 파이썬 변수는 함수 할당\n",
    "print = 5"
   ]
  },
  {
   "cell_type": "code",
   "execution_count": 19,
   "id": "38cf36a6-fc67-4401-a2c6-1a3942790d6e",
   "metadata": {},
   "outputs": [
    {
     "ename": "TypeError",
     "evalue": "'int' object is not callable",
     "output_type": "error",
     "traceback": [
      "\u001b[1;31m---------------------------------------------------------------------------\u001b[0m",
      "\u001b[1;31mTypeError\u001b[0m                                 Traceback (most recent call last)",
      "Cell \u001b[1;32mIn[19], line 1\u001b[0m\n\u001b[1;32m----> 1\u001b[0m \u001b[38;5;28mprint\u001b[39m(불용어)\n",
      "\u001b[1;31mTypeError\u001b[0m: 'int' object is not callable"
     ]
    }
   ],
   "source": [
    "print(불용어)"
   ]
  },
  {
   "cell_type": "code",
   "execution_count": 20,
   "id": "2316bd14-291f-4f26-ae71-596b4df4f5e2",
   "metadata": {},
   "outputs": [],
   "source": [
    "del print # print 변수 삭제"
   ]
  },
  {
   "cell_type": "code",
   "execution_count": 21,
   "id": "edd55533-2dbf-4769-bbb7-089f97db05ed",
   "metadata": {},
   "outputs": [
    {
     "name": "stdout",
     "output_type": "stream",
     "text": [
      "북한\n"
     ]
    }
   ],
   "source": [
    "print(불용어)"
   ]
  },
  {
   "cell_type": "code",
   "execution_count": 22,
   "id": "064f6471-9c94-430c-9f01-4671dc2ea16e",
   "metadata": {},
   "outputs": [
    {
     "data": {
      "text/plain": [
       "complex"
      ]
     },
     "execution_count": 22,
     "metadata": {},
     "output_type": "execute_result"
    }
   ],
   "source": [
    "i = 3 + 3j # 복소수\n",
    "type(i)"
   ]
  },
  {
   "cell_type": "code",
   "execution_count": 23,
   "id": "99b730c4-9f32-49ce-aaf2-65d49dea87bb",
   "metadata": {},
   "outputs": [],
   "source": [
    "a = 10\n",
    "b = 20"
   ]
  },
  {
   "cell_type": "code",
   "execution_count": 24,
   "id": "0cc41a99-b5f2-472f-9cc2-a8b9ba5cd187",
   "metadata": {},
   "outputs": [],
   "source": [
    "a, b = 10, 20 # 다중 선언"
   ]
  },
  {
   "cell_type": "code",
   "execution_count": 25,
   "id": "df1d5a03-b040-4fdf-aa8e-08033eb1d321",
   "metadata": {},
   "outputs": [
    {
     "data": {
      "text/plain": [
       "(10, 20)"
      ]
     },
     "execution_count": 25,
     "metadata": {},
     "output_type": "execute_result"
    }
   ],
   "source": [
    "a, b"
   ]
  },
  {
   "cell_type": "code",
   "execution_count": 26,
   "id": "eeb42c9c-1627-4010-a423-376eb97fea11",
   "metadata": {},
   "outputs": [
    {
     "name": "stdout",
     "output_type": "stream",
     "text": [
      "a= 20 \t b= 30\n"
     ]
    }
   ],
   "source": [
    "a, b = b, a+b # 다중 선언\n",
    "print('a=',a,'\\t b=', b)"
   ]
  },
  {
   "cell_type": "markdown",
   "id": "ffc34eaa-978a-4370-aae8-98bdf862140c",
   "metadata": {},
   "source": [
    "## 1.4 도움말"
   ]
  },
  {
   "cell_type": "code",
   "execution_count": 27,
   "id": "5bbdfcd2-bbef-4b50-84d4-f56767f71e35",
   "metadata": {},
   "outputs": [
    {
     "name": "stdout",
     "output_type": "stream",
     "text": [
      "Help on built-in function print in module builtins:\n",
      "\n",
      "print(*args, sep=' ', end='\\n', file=None, flush=False)\n",
      "    Prints the values to a stream, or to sys.stdout by default.\n",
      "    \n",
      "    sep\n",
      "      string inserted between values, default a space.\n",
      "    end\n",
      "      string appended after the last value, default a newline.\n",
      "    file\n",
      "      a file-like object (stream); defaults to the current sys.stdout.\n",
      "    flush\n",
      "      whether to forcibly flush the stream.\n",
      "\n"
     ]
    }
   ],
   "source": [
    "help(print)"
   ]
  },
  {
   "cell_type": "code",
   "execution_count": 28,
   "id": "245a0af9-e3aa-4e8d-9748-adaf653ac5e2",
   "metadata": {},
   "outputs": [
    {
     "data": {
      "text/plain": [
       "\u001b[1;31mSignature:\u001b[0m \u001b[0mprint\u001b[0m\u001b[1;33m(\u001b[0m\u001b[1;33m*\u001b[0m\u001b[0margs\u001b[0m\u001b[1;33m,\u001b[0m \u001b[0msep\u001b[0m\u001b[1;33m=\u001b[0m\u001b[1;34m' '\u001b[0m\u001b[1;33m,\u001b[0m \u001b[0mend\u001b[0m\u001b[1;33m=\u001b[0m\u001b[1;34m'\\n'\u001b[0m\u001b[1;33m,\u001b[0m \u001b[0mfile\u001b[0m\u001b[1;33m=\u001b[0m\u001b[1;32mNone\u001b[0m\u001b[1;33m,\u001b[0m \u001b[0mflush\u001b[0m\u001b[1;33m=\u001b[0m\u001b[1;32mFalse\u001b[0m\u001b[1;33m)\u001b[0m\u001b[1;33m\u001b[0m\u001b[1;33m\u001b[0m\u001b[0m\n",
       "\u001b[1;31mDocstring:\u001b[0m\n",
       "Prints the values to a stream, or to sys.stdout by default.\n",
       "\n",
       "sep\n",
       "  string inserted between values, default a space.\n",
       "end\n",
       "  string appended after the last value, default a newline.\n",
       "file\n",
       "  a file-like object (stream); defaults to the current sys.stdout.\n",
       "flush\n",
       "  whether to forcibly flush the stream.\n",
       "\u001b[1;31mType:\u001b[0m      builtin_function_or_method"
      ]
     },
     "metadata": {},
     "output_type": "display_data"
    }
   ],
   "source": [
    "print?"
   ]
  },
  {
   "cell_type": "code",
   "execution_count": 30,
   "id": "0750e6ff-41c6-488c-92fd-e6b82fbb12c1",
   "metadata": {},
   "outputs": [
    {
     "name": "stdout",
     "output_type": "stream",
     "text": [
      "a~b\n"
     ]
    }
   ],
   "source": [
    "# 도움말 기능 : 함수내에서 shift+tab키\n",
    "print('a','b', sep='~')"
   ]
  },
  {
   "cell_type": "code",
   "execution_count": 31,
   "id": "2ddfe91f-745f-40cc-aa4c-69f7116453ed",
   "metadata": {},
   "outputs": [],
   "source": [
    "def make_number(x, y=0):\n",
    "    \"\"\"doc string(함수의 도움말)\n",
    "    매개변수 2개를 이용해서 2자리 정수를 만들어요\n",
    "    x = 10의 자리수\n",
    "    y = 1의 자리수 (default값 0)\n",
    "    \"\"\"\n",
    "    return x*10 + y"
   ]
  },
  {
   "cell_type": "code",
   "execution_count": 32,
   "id": "a3765b72-2348-46d1-a7a0-105a029572eb",
   "metadata": {},
   "outputs": [
    {
     "data": {
      "text/plain": [
       "32"
      ]
     },
     "execution_count": 32,
     "metadata": {},
     "output_type": "execute_result"
    }
   ],
   "source": [
    "make_number(3, 2)"
   ]
  },
  {
   "cell_type": "code",
   "execution_count": 33,
   "id": "15b15836-ffcd-401c-9c6d-745ecdf2f30e",
   "metadata": {},
   "outputs": [
    {
     "data": {
      "text/plain": [
       "50"
      ]
     },
     "execution_count": 33,
     "metadata": {},
     "output_type": "execute_result"
    }
   ],
   "source": [
    "make_number(5)"
   ]
  },
  {
   "cell_type": "code",
   "execution_count": 34,
   "id": "77fe4ccf-9c94-4f17-89df-add99962903c",
   "metadata": {},
   "outputs": [],
   "source": [
    "make = make_number # 함수를 변수에 할당"
   ]
  },
  {
   "cell_type": "code",
   "execution_count": 35,
   "id": "3d45babf-bda7-4433-862e-fbade6df0fde",
   "metadata": {},
   "outputs": [
    {
     "data": {
      "text/plain": [
       "60"
      ]
     },
     "execution_count": 35,
     "metadata": {},
     "output_type": "execute_result"
    }
   ],
   "source": [
    "make(6)"
   ]
  },
  {
   "cell_type": "markdown",
   "id": "5d692c1d-7c96-41f3-98f0-c53300ffc4d5",
   "metadata": {},
   "source": [
    "## 1.5 변수 삭제"
   ]
  },
  {
   "cell_type": "code",
   "execution_count": 36,
   "id": "e29ab697-f8bc-4ccb-892a-c4c0355e9a12",
   "metadata": {},
   "outputs": [],
   "source": [
    "del make"
   ]
  },
  {
   "cell_type": "code",
   "execution_count": 37,
   "id": "3ebe3317-22de-4292-a1ee-e0fc982bc4ce",
   "metadata": {
    "scrolled": true
   },
   "outputs": [
    {
     "ename": "NameError",
     "evalue": "name 'make' is not defined",
     "output_type": "error",
     "traceback": [
      "\u001b[1;31m---------------------------------------------------------------------------\u001b[0m",
      "\u001b[1;31mNameError\u001b[0m                                 Traceback (most recent call last)",
      "Cell \u001b[1;32mIn[37], line 1\u001b[0m\n\u001b[1;32m----> 1\u001b[0m make(\u001b[38;5;241m6\u001b[39m)\n",
      "\u001b[1;31mNameError\u001b[0m: name 'make' is not defined"
     ]
    }
   ],
   "source": [
    "make(6)"
   ]
  },
  {
   "cell_type": "markdown",
   "id": "b55452ba-c39e-465e-ad50-36413f6b212a",
   "metadata": {},
   "source": [
    "# 2절 화면 I/O"
   ]
  },
  {
   "cell_type": "code",
   "execution_count": 44,
   "id": "c24155e7-ab18-414a-a191-0bc136b0a071",
   "metadata": {},
   "outputs": [
    {
     "name": "stdin",
     "output_type": "stream",
     "text": [
      "첫번째 숫자는? 20\n",
      "두번째 숫자는? 1\n"
     ]
    }
   ],
   "source": [
    "first = int(input('첫번째 숫자는?')) # 문자로 return\n",
    "second = int(input('두번째 숫자는?'))"
   ]
  },
  {
   "cell_type": "code",
   "execution_count": 45,
   "id": "f7d7f869-e699-4398-b217-e402e48627a4",
   "metadata": {},
   "outputs": [
    {
     "name": "stdout",
     "output_type": "stream",
     "text": [
      "두수의 합은 21\n"
     ]
    }
   ],
   "source": [
    "print('두수의 합은 {}'.format(first+second)) #문자+문자"
   ]
  },
  {
   "cell_type": "code",
   "execution_count": 48,
   "id": "0dce8407-7947-4696-8115-2c9163ca37b8",
   "metadata": {},
   "outputs": [
    {
     "name": "stdout",
     "output_type": "stream",
     "text": [
      "Hello~world, Hello Python\n"
     ]
    }
   ],
   "source": [
    "print('Hello', 'world', sep='~', end=', ')\n",
    "print('Hello', 'Python')"
   ]
  },
  {
   "cell_type": "markdown",
   "id": "55da96dc-061e-4f0e-a542-339683c6ed47",
   "metadata": {},
   "source": [
    "# 3. 기본 자료형\n",
    "    - 숫자 : int, float, complex\n",
    "    - 문자 : str\n",
    "    - 논리 : bool\n",
    "    파이썬은 타입을 지칭하는 키워드가 없고, 변수 할당시 타입이 정해져"
   ]
  },
  {
   "cell_type": "markdown",
   "id": "a37a0c23-2c6e-49be-a517-c46e143f9477",
   "metadata": {},
   "source": [
    "## 3.1 숫자형"
   ]
  },
  {
   "cell_type": "code",
   "execution_count": 49,
   "id": "6462d2e4-7ef8-4de8-b69a-3495c4f6b6f3",
   "metadata": {},
   "outputs": [
    {
     "name": "stdout",
     "output_type": "stream",
     "text": [
      "9223372036854775807\n"
     ]
    }
   ],
   "source": [
    "import sys\n",
    "print(sys.maxsize) # 모든 크기의 정수를 다 처리 가능"
   ]
  },
  {
   "cell_type": "code",
   "execution_count": 50,
   "id": "713521f0-6e69-491e-9bd5-52fd3baf89dd",
   "metadata": {},
   "outputs": [
    {
     "name": "stdout",
     "output_type": "stream",
     "text": [
      "값:9223372036854775817 / 주소:1273606319072\n",
      "<class 'int'>\n"
     ]
    }
   ],
   "source": [
    "a = sys.maxsize + 10\n",
    "print(\"값:{} / 주소:{}\".format(a, id(a)))\n",
    "print(type(a))"
   ]
  },
  {
   "cell_type": "code",
   "execution_count": 51,
   "id": "e315fa7a-afa4-441d-9c13-f326d21c5591",
   "metadata": {},
   "outputs": [
    {
     "name": "stdout",
     "output_type": "stream",
     "text": [
      "값:1 / 주소:140727940924200\n",
      "<class 'int'>\n"
     ]
    }
   ],
   "source": [
    "a = 1\n",
    "print(\"값:{} / 주소:{}\".format(a, id(a)))\n",
    "print(type(a))"
   ]
  },
  {
   "cell_type": "code",
   "execution_count": 52,
   "id": "514bf1a1-353d-466e-9717-725f879381f7",
   "metadata": {},
   "outputs": [
    {
     "name": "stdout",
     "output_type": "stream",
     "text": [
      "값:1.5 / 주소:1273591188304\n",
      "<class 'float'>\n"
     ]
    }
   ],
   "source": [
    "a = 3/2 # 정수형/정수형 => 실수형(float)\n",
    "print(\"값:{} / 주소:{}\".format(a, id(a)))\n",
    "print(type(a))"
   ]
  },
  {
   "cell_type": "code",
   "execution_count": 54,
   "id": "192be4f6-33bb-4ecf-869b-e5fb9855ba0b",
   "metadata": {},
   "outputs": [
    {
     "name": "stdout",
     "output_type": "stream",
     "text": [
      "값:1 / 주소:140727940924200\n",
      "<class 'int'>\n"
     ]
    }
   ],
   "source": [
    "a = int(3/2)# C언어 결과처럼하고자 하면 명시적 형변환\n",
    "a = 3 // 2 # C언어 결과처럼하고자 하면 몫연산자\n",
    "print(\"값:{} / 주소:{}\".format(a, id(a)))\n",
    "print(type(a))"
   ]
  },
  {
   "cell_type": "code",
   "execution_count": 56,
   "id": "4522e445-c496-4fdc-9312-37bc5ac2e286",
   "metadata": {},
   "outputs": [
    {
     "name": "stdout",
     "output_type": "stream",
     "text": [
      "1.12e+20\n",
      "1.12e-20\n"
     ]
    }
   ],
   "source": [
    "f = 1.12e20  # 1.12의 10의 20승\n",
    "print(f)\n",
    "f = 1.12e-20 # 1.12의 10의 -20\n",
    "print(f)"
   ]
  },
  {
   "cell_type": "markdown",
   "id": "7d2cfafa-1408-4b7b-8e9c-1d790b34300f",
   "metadata": {},
   "source": [
    "## 3.2 문자형"
   ]
  },
  {
   "cell_type": "code",
   "execution_count": 58,
   "id": "0a6f4d88-08a1-4ea4-be5b-964121efef92",
   "metadata": {},
   "outputs": [
    {
     "name": "stdout",
     "output_type": "stream",
     "text": [
      "홍길동\"님\" 서울시 \"금천구\"  가산디지털1로\n"
     ]
    }
   ],
   "source": [
    "name = \"홍길동'님'\"\n",
    "name = '홍길동\"님\"'\n",
    "address = \"서울시 \\\"금천구\\\"  \\\n",
    "가산디지털1로\"\n",
    "# \\ 다음줄로 계속\n",
    "print(name, address)"
   ]
  },
  {
   "cell_type": "code",
   "execution_count": 60,
   "id": "c97d3158-dfa5-4731-b9b2-9abc02fe6c96",
   "metadata": {},
   "outputs": [
    {
     "name": "stdout",
     "output_type": "stream",
     "text": [
      "안녕하세요\n",
      "홍길동입니다\n",
      "반갑습니다\n"
     ]
    }
   ],
   "source": [
    "text = \"안녕하세요\\n홍길동입니다\\n반갑습니다\"\n",
    "print(text)"
   ]
  },
  {
   "cell_type": "code",
   "execution_count": 61,
   "id": "d1378f9d-000a-42f6-be6c-054460d29617",
   "metadata": {},
   "outputs": [
    {
     "name": "stdout",
     "output_type": "stream",
     "text": [
      "안녕하세요\n",
      "홍길동입니다\n",
      "반갑습니다\n",
      "\n"
     ]
    }
   ],
   "source": [
    "text = \"\"\"안녕하세요\n",
    "홍길동입니다\n",
    "반갑습니다\n",
    "\"\"\"\n",
    "print(text)"
   ]
  },
  {
   "cell_type": "code",
   "execution_count": 62,
   "id": "122e0a2a-2e6d-4ef5-a286-a1405eb601bf",
   "metadata": {},
   "outputs": [],
   "source": [
    "# 문자열 슬라이싱"
   ]
  },
  {
   "cell_type": "code",
   "execution_count": 66,
   "id": "a32ed491-96fd-4d2d-96b2-24e3acbfd756",
   "metadata": {},
   "outputs": [
    {
     "data": {
      "text/plain": [
       "'0123456789'"
      ]
     },
     "execution_count": 66,
     "metadata": {},
     "output_type": "execute_result"
    }
   ],
   "source": [
    "str_ = \"0123456789\"\n",
    "str_"
   ]
  },
  {
   "cell_type": "code",
   "execution_count": 69,
   "id": "53a3cd31-9a5c-45ae-af01-ee946e96673e",
   "metadata": {},
   "outputs": [
    {
     "data": {
      "text/plain": [
       "'012'"
      ]
     },
     "execution_count": 69,
     "metadata": {},
     "output_type": "execute_result"
    }
   ],
   "source": [
    "str_[0:3] # 0번째부터 3번째 앞까지"
   ]
  },
  {
   "cell_type": "code",
   "execution_count": 71,
   "id": "61f86656-a5a1-43e6-85ef-3677e039ddb9",
   "metadata": {},
   "outputs": [
    {
     "data": {
      "text/plain": [
       "'8'"
      ]
     },
     "execution_count": 71,
     "metadata": {},
     "output_type": "execute_result"
    }
   ],
   "source": [
    "str_[-2] # 음수인덱스는 뒤에서부터"
   ]
  },
  {
   "cell_type": "code",
   "execution_count": 72,
   "id": "cac3297c-cc10-4bf5-9281-def762eb1056",
   "metadata": {},
   "outputs": [
    {
     "data": {
      "text/plain": [
       "'5678'"
      ]
     },
     "execution_count": 72,
     "metadata": {},
     "output_type": "execute_result"
    }
   ],
   "source": [
    "str_ = \"0123456789\"\n",
    "str_[-5:-1]"
   ]
  },
  {
   "cell_type": "code",
   "execution_count": 73,
   "id": "2bc5bb55-3055-41d5-be48-2958e9b89292",
   "metadata": {},
   "outputs": [
    {
     "data": {
      "text/plain": [
       "'56789'"
      ]
     },
     "execution_count": 73,
     "metadata": {},
     "output_type": "execute_result"
    }
   ],
   "source": [
    "str_[5:] # 5번째인덱스부터 끝까지"
   ]
  },
  {
   "cell_type": "code",
   "execution_count": 74,
   "id": "92d61b88-70a3-44d2-b5e0-3311c3c35129",
   "metadata": {},
   "outputs": [
    {
     "data": {
      "text/plain": [
       "'01234'"
      ]
     },
     "execution_count": 74,
     "metadata": {},
     "output_type": "execute_result"
    }
   ],
   "source": [
    "str_[:-5] # 처음부터 -5번째 앞까지"
   ]
  },
  {
   "cell_type": "code",
   "execution_count": 76,
   "id": "8b8e5787-dd88-49d1-b538-5841289a5ae5",
   "metadata": {},
   "outputs": [
    {
     "data": {
      "text/plain": [
       "'56789'"
      ]
     },
     "execution_count": 76,
     "metadata": {},
     "output_type": "execute_result"
    }
   ],
   "source": [
    "# str_[19] #없는 인덱스는 에러남\n",
    "str_[5:19] # 슬라이싱에서는 인덱스를 벗어나면 끝까지"
   ]
  },
  {
   "cell_type": "code",
   "execution_count": 77,
   "id": "275f746c-4052-498c-8ab8-ad8835793f0b",
   "metadata": {},
   "outputs": [
    {
     "name": "stdout",
     "output_type": "stream",
     "text": [
      "02468\n",
      "02468\n"
     ]
    }
   ],
   "source": [
    "# str_[from:to:step]\n",
    "print(str_[0:9:2]) # 0번째부터 9번째 앞까지 2씩 인덱스 증가해서 \n",
    "print(str_[::2])   # 처음부터 끝까지 2씩 인덱스 증가해서"
   ]
  },
  {
   "cell_type": "code",
   "execution_count": 79,
   "id": "59643c20-3adf-4514-9b23-185bc4e4773e",
   "metadata": {},
   "outputs": [
    {
     "name": "stdout",
     "output_type": "stream",
     "text": [
      "9876543210\n",
      "9876543210\n"
     ]
    }
   ],
   "source": [
    "# 끝부터 처음까지(꺼꾸로)\n",
    "print(str_[9::-1])\n",
    "print(str_[::-1])"
   ]
  },
  {
   "cell_type": "markdown",
   "id": "dd77e4a3-fc32-4ae0-9855-53a6ce2524e5",
   "metadata": {},
   "source": [
    "## 3.3 논리형(True, False)"
   ]
  },
  {
   "cell_type": "code",
   "execution_count": 81,
   "id": "671c230f-fac1-41a7-b467-6e53e79ef5c6",
   "metadata": {},
   "outputs": [
    {
     "name": "stdout",
     "output_type": "stream",
     "text": [
      "True\n",
      "<class 'bool'>\n",
      "True\n"
     ]
    }
   ],
   "source": [
    "a = True\n",
    "print(a)\n",
    "print(type(a))\n",
    "print(isinstance(a, bool)) # a가 bool형이냐?"
   ]
  },
  {
   "cell_type": "code",
   "execution_count": null,
   "id": "ac805edd-5a11-4852-8a74-ae905d4ab76a",
   "metadata": {},
   "outputs": [],
   "source": [
    "# False로 간주하는 것 : 0, None, \"\"(빈스트링) ''(빈스트링), [], (), {}\n",
    "# True로 간주하는 것 : \" \", '\\0'(널문자)"
   ]
  },
  {
   "cell_type": "code",
   "execution_count": 87,
   "id": "5ca61c17-292c-4e30-a78b-2564b0e88879",
   "metadata": {},
   "outputs": [
    {
     "name": "stdout",
     "output_type": "stream",
     "text": [
      "False다\n"
     ]
    }
   ],
   "source": [
    "if 0+0j:\n",
    "    print('True다')\n",
    "else:\n",
    "    print('False다')"
   ]
  },
  {
   "cell_type": "markdown",
   "id": "29995eb4-af96-4eee-a5ff-dcc5cdd12287",
   "metadata": {},
   "source": [
    "## 3.4 자료형 확인 및 변환\n",
    "    - type() : 자료형 확인\n",
    "    - int() : 정수형 변환\n",
    "    - float() : 실수형 변환\n",
    "    - str() : 문자형 변환\n",
    "    - bool() : 논리형 변환"
   ]
  },
  {
   "cell_type": "code",
   "execution_count": 89,
   "id": "26b2ee8a-c111-4408-a38e-13b2388e88f4",
   "metadata": {},
   "outputs": [
    {
     "ename": "ValueError",
     "evalue": "invalid literal for int() with base 10: ' '",
     "output_type": "error",
     "traceback": [
      "\u001b[1;31m---------------------------------------------------------------------------\u001b[0m",
      "\u001b[1;31mValueError\u001b[0m                                Traceback (most recent call last)",
      "Cell \u001b[1;32mIn[89], line 1\u001b[0m\n\u001b[1;32m----> 1\u001b[0m \u001b[38;5;28mint\u001b[39m(\u001b[38;5;124m'\u001b[39m\u001b[38;5;124m \u001b[39m\u001b[38;5;124m'\u001b[39m)\n",
      "\u001b[1;31mValueError\u001b[0m: invalid literal for int() with base 10: ' '"
     ]
    }
   ],
   "source": [
    "int(' ')"
   ]
  },
  {
   "cell_type": "code",
   "execution_count": 90,
   "id": "a40fbec7-9c42-4a91-9285-93b3f194345a",
   "metadata": {},
   "outputs": [
    {
     "ename": "ValueError",
     "evalue": "invalid literal for int() with base 10: '2,000'",
     "output_type": "error",
     "traceback": [
      "\u001b[1;31m---------------------------------------------------------------------------\u001b[0m",
      "\u001b[1;31mValueError\u001b[0m                                Traceback (most recent call last)",
      "Cell \u001b[1;32mIn[90], line 1\u001b[0m\n\u001b[1;32m----> 1\u001b[0m \u001b[38;5;28mint\u001b[39m(\u001b[38;5;124m'\u001b[39m\u001b[38;5;124m2,000\u001b[39m\u001b[38;5;124m'\u001b[39m)\n",
      "\u001b[1;31mValueError\u001b[0m: invalid literal for int() with base 10: '2,000'"
     ]
    }
   ],
   "source": [
    "int('2,000')"
   ]
  },
  {
   "cell_type": "code",
   "execution_count": 91,
   "id": "c65b50a6-b1c8-44ed-b068-9a8d4e36f420",
   "metadata": {},
   "outputs": [
    {
     "data": {
      "text/plain": [
       "1.0"
      ]
     },
     "execution_count": 91,
     "metadata": {},
     "output_type": "execute_result"
    }
   ],
   "source": [
    "float(True)"
   ]
  },
  {
   "cell_type": "markdown",
   "id": "d68778dd-e36b-4229-a453-446b87dfb67a",
   "metadata": {},
   "source": [
    "# 4절 포맷팅"
   ]
  },
  {
   "cell_type": "code",
   "execution_count": 102,
   "id": "11d24f93-4461-4caf-b4b4-a02d5274857e",
   "metadata": {},
   "outputs": [
    {
     "name": "stdout",
     "output_type": "stream",
     "text": [
      "이름은 홍길동, 주소는 서울시 금천구\n"
     ]
    }
   ],
   "source": [
    "name = \"홍길동\"\n",
    "add = '서울시 금천구'\n",
    "print(\"이름은 {0}, 주소는 {1}\".format(name, add))"
   ]
  },
  {
   "cell_type": "code",
   "execution_count": 98,
   "id": "cfc55507-68fb-47e3-ad6a-ff4cd57673eb",
   "metadata": {},
   "outputs": [
    {
     "name": "stdout",
     "output_type": "stream",
     "text": [
      "이름은 홍길동, 주소는 서울시 금천구\n"
     ]
    }
   ],
   "source": [
    "print(\"이름은 %s, 주소는 %s\"%(name, add))"
   ]
  },
  {
   "cell_type": "code",
   "execution_count": 100,
   "id": "1629a184-2896-4937-8e21-6a26a2be2abd",
   "metadata": {},
   "outputs": [
    {
     "name": "stdout",
     "output_type": "stream",
     "text": [
      "이름은 홍길동, 주소는 서울시 금천구\n"
     ]
    }
   ],
   "source": [
    "print(f\"이름은 {name}, 주소는 {add}\")"
   ]
  },
  {
   "cell_type": "markdown",
   "id": "9741de4d-609a-4565-a5eb-2548f840100c",
   "metadata": {},
   "source": [
    "format()함수\n",
    "```\n",
    "- \"{[인덱스]:[공백대체문자][정렬방법][자릿수][타입]}\".format(변수명,...)\n",
    "      - 정렬방법 : <(왼쪽정렬), >(오른쪽 정렬), ^(가운데정렬)\n",
    "      - 타입 : d(10진수), x(16진수), b(2진수), f(실수), s(문자)\n",
    "```"
   ]
  },
  {
   "cell_type": "code",
   "execution_count": 104,
   "id": "a4ac44df-753b-4c98-828e-278f873be76f",
   "metadata": {},
   "outputs": [
    {
     "name": "stdout",
     "output_type": "stream",
     "text": [
      " [$$$$$$$$10], [He******************]\n"
     ]
    }
   ],
   "source": [
    "a = 10\n",
    "s = 'Hello'\n",
    "print(\" [{0:$>10d}], [{1:*<20.2}]\".format(a, s) )"
   ]
  },
  {
   "cell_type": "markdown",
   "id": "20f4be10-f2a8-414d-bb53-7b9b2dbd9ac5",
   "metadata": {},
   "source": [
    "# 5절 연산자\n",
    "## 5.1 산술연산자 : + - / * //(몫) %(나머지) **(제곱)\n",
    "## 5.2 할당연산자 : = += -= /= %= ..\n",
    "## 5.3 논리연산자 &, and, |, or, not (연산자 우선순위가 높음)\n",
    "## 5.4 비트연산자 &, |, ^(OR) (연산자 우선순위가 높음)"
   ]
  },
  {
   "cell_type": "code",
   "execution_count": 105,
   "id": "e7ed5db7-c4a8-47b8-9d77-2a8c22ea31a5",
   "metadata": {},
   "outputs": [
    {
     "name": "stdout",
     "output_type": "stream",
     "text": [
      "True\n"
     ]
    }
   ],
   "source": [
    "print( (10>3) & (10>5) ) # 논리 연산자  True & True"
   ]
  },
  {
   "cell_type": "code",
   "execution_count": 106,
   "id": "dd0a8621-c879-4aa5-9bbd-a9091500494c",
   "metadata": {},
   "outputs": [
    {
     "name": "stdout",
     "output_type": "stream",
     "text": [
      "0\n",
      "13\n"
     ]
    }
   ],
   "source": [
    "print( 12 & 1 ) # 비트연산 12 : 1 1 0 0\n",
    "                #           1 : 0 0 0 1\n",
    "print( 12 | 1)"
   ]
  },
  {
   "cell_type": "markdown",
   "id": "8b6c42c3-e3e3-4042-9b39-c5e2fbffe7d9",
   "metadata": {},
   "source": [
    "## 5.5 비교연산자 > >= < <= == !="
   ]
  },
  {
   "cell_type": "code",
   "execution_count": 109,
   "id": "b3ec77ae-914f-4e44-bc43-5ac54f998dc4",
   "metadata": {},
   "outputs": [
    {
     "data": {
      "text/plain": [
       "True"
      ]
     },
     "execution_count": 109,
     "metadata": {},
     "output_type": "execute_result"
    }
   ],
   "source": [
    "'아'<'하'"
   ]
  },
  {
   "cell_type": "code",
   "execution_count": 110,
   "id": "99cbf57e-faf3-4dc9-a727-d6b3989198c6",
   "metadata": {},
   "outputs": [
    {
     "data": {
      "text/plain": [
       "True"
      ]
     },
     "execution_count": 110,
     "metadata": {},
     "output_type": "execute_result"
    }
   ],
   "source": [
    "'*' < '1' < 'A' < 'a' # 코드 순 : 특수문자<숫자<대문자<소문자"
   ]
  },
  {
   "cell_type": "code",
   "execution_count": 112,
   "id": "2e86badc-6f27-492d-998b-d318a1acb88c",
   "metadata": {},
   "outputs": [
    {
     "data": {
      "text/plain": [
       "True"
      ]
     },
     "execution_count": 112,
     "metadata": {},
     "output_type": "execute_result"
    }
   ],
   "source": [
    "score = 85\n",
    "80<=score <90 < 100"
   ]
  },
  {
   "cell_type": "markdown",
   "id": "b48e6444-0d41-433f-b367-6b732ec543d9",
   "metadata": {},
   "source": [
    "# 6절 문자열 다루기\n",
    "    - 문자열 슬라이싱 : 문자변수[from:to:step]\n",
    "    - len(문자열) : 문자갯수\n",
    "    - upper() : 대문자로\n",
    "    - lower() : 소문자로\n",
    "    - title() : 각 단어의 앞글자만 대문자로\n",
    "    - capitalize() : 첫문자만 대문자로. 그외는 소문자\n",
    "    - count('찾을문자열') : 찾을 문자열이 몇개 들어있는지 갯수 반환\n",
    "    - find('찾을문자열') : 찾을문자열을 왼쪽부터 시작하여 몇번째에 있는지 index반환\n",
    "                    찾을문자열이 없으면 -1을 반환\n",
    "    - rfind('찾을문자열') :찾을문자열을 오른쪽부터 시작하여 몇번째에 있는지 index반환\n",
    "    - startswith('특정문자열') : 특정문자열로 시작하는지 여부 T/F 반환\n",
    "    - endswith('특정문자열') : 특정문자열로 끝나는지 여부 T/F 반환\n",
    "    - strip() : 좌우 공백제거\n",
    "    - lstrip() : 왼쪽 공백제거\n",
    "    - rstrip() : 오른쪽 공백제거\n",
    "    - isdigit() : 문자열이 숫자 문자열인지 여부 T/F 반환\n",
    "    - islower() : 문자열이 소문자인지 여부 T/F반환\n",
    "    - isupper() : 문자열이 대문자인지 여부 T/F 반환\n",
    "    - replace(oldStr, newStr) oldStr을 newStr 변경"
   ]
  },
  {
   "cell_type": "code",
   "execution_count": 115,
   "id": "2469faf4-faa0-4d65-be24-ee3d8e4b35ac",
   "metadata": {},
   "outputs": [
    {
     "data": {
      "text/plain": [
       "['__add__',\n",
       " '__class__',\n",
       " '__contains__',\n",
       " '__delattr__',\n",
       " '__dir__',\n",
       " '__doc__',\n",
       " '__eq__',\n",
       " '__format__',\n",
       " '__ge__',\n",
       " '__getattribute__',\n",
       " '__getitem__',\n",
       " '__getnewargs__',\n",
       " '__getstate__',\n",
       " '__gt__',\n",
       " '__hash__',\n",
       " '__init__',\n",
       " '__init_subclass__',\n",
       " '__iter__',\n",
       " '__le__',\n",
       " '__len__',\n",
       " '__lt__',\n",
       " '__mod__',\n",
       " '__mul__',\n",
       " '__ne__',\n",
       " '__new__',\n",
       " '__reduce__',\n",
       " '__reduce_ex__',\n",
       " '__repr__',\n",
       " '__rmod__',\n",
       " '__rmul__',\n",
       " '__setattr__',\n",
       " '__sizeof__',\n",
       " '__str__',\n",
       " '__subclasshook__',\n",
       " 'capitalize',\n",
       " 'casefold',\n",
       " 'center',\n",
       " 'count',\n",
       " 'encode',\n",
       " 'endswith',\n",
       " 'expandtabs',\n",
       " 'find',\n",
       " 'format',\n",
       " 'format_map',\n",
       " 'index',\n",
       " 'isalnum',\n",
       " 'isalpha',\n",
       " 'isascii',\n",
       " 'isdecimal',\n",
       " 'isdigit',\n",
       " 'isidentifier',\n",
       " 'islower',\n",
       " 'isnumeric',\n",
       " 'isprintable',\n",
       " 'isspace',\n",
       " 'istitle',\n",
       " 'isupper',\n",
       " 'join',\n",
       " 'ljust',\n",
       " 'lower',\n",
       " 'lstrip',\n",
       " 'maketrans',\n",
       " 'partition',\n",
       " 'removeprefix',\n",
       " 'removesuffix',\n",
       " 'replace',\n",
       " 'rfind',\n",
       " 'rindex',\n",
       " 'rjust',\n",
       " 'rpartition',\n",
       " 'rsplit',\n",
       " 'rstrip',\n",
       " 'split',\n",
       " 'splitlines',\n",
       " 'startswith',\n",
       " 'strip',\n",
       " 'swapcase',\n",
       " 'title',\n",
       " 'translate',\n",
       " 'upper',\n",
       " 'zfill']"
      ]
     },
     "execution_count": 115,
     "metadata": {},
     "output_type": "execute_result"
    }
   ],
   "source": [
    "# 문자열을 다룰수 있는 함수 목록\n",
    "dir(str)"
   ]
  },
  {
   "cell_type": "code",
   "execution_count": 116,
   "id": "4c6ba5a0-a0e0-4379-8e9b-cb44dd05baf3",
   "metadata": {},
   "outputs": [
    {
     "data": {
      "text/plain": [
       "('PYTHON IS EASY. PYTHON IS SMART.', 32)"
      ]
     },
     "execution_count": 116,
     "metadata": {},
     "output_type": "execute_result"
    }
   ],
   "source": [
    "temp = 'Python is easy. Python is smart.'\n",
    "#       01234567890123456789012345678901\n",
    "temp.upper(), len(temp)"
   ]
  },
  {
   "cell_type": "code",
   "execution_count": 118,
   "id": "cf8ada20-3600-4851-808f-b960431b3598",
   "metadata": {},
   "outputs": [
    {
     "name": "stdout",
     "output_type": "stream",
     "text": [
      "첫번째 글자:P, 마지막글자:.\n"
     ]
    }
   ],
   "source": [
    "print(\"첫번째 글자:{}, 마지막글자:{}\".format(temp[0], temp[-1]))"
   ]
  },
  {
   "cell_type": "code",
   "execution_count": 126,
   "id": "210b678f-5bc2-4dd6-a1e5-13437a836a42",
   "metadata": {},
   "outputs": [
    {
     "name": "stdout",
     "output_type": "stream",
     "text": [
      "대문자로: PYTHON IS EASY. PYTHON IS SMART.\n",
      "첫글자만대문자: Python is easy. python is smart.\n",
      "title() : Python Is Easy. Python Is Smart.\n",
      "count() : 2\n",
      "find() : 0\n",
      "rfind() : 16\n",
      "replace('Python', ' ') :   is easy.   is smart.\n",
      "startswith() : True\n"
     ]
    }
   ],
   "source": [
    "temp = 'Python is easy. Python is smart.'\n",
    "#       01234567890123456789012345678901\n",
    "print('대문자로:', temp.upper() )\n",
    "print('첫글자만대문자:', temp.capitalize())\n",
    "print('title() :', temp.title())\n",
    "print('count() :', temp.count('Python'))\n",
    "print('find() :', temp.find('Python'))\n",
    "print('rfind() :', temp.rfind('Python'))\n",
    "print(\"replace('Python', ' ') :\", temp.replace(\"Python\",\" \"))\n",
    "print(\"startswith() :\", temp.startswith(\"Py\"))"
   ]
  },
  {
   "cell_type": "code",
   "execution_count": 131,
   "id": "01f363f5-ecb4-4eb8-9d6a-53303f249825",
   "metadata": {},
   "outputs": [
    {
     "name": "stdout",
     "output_type": "stream",
     "text": [
      " temp : [      Python      ]\n",
      "strip : [Python]\n",
      "lstrip: [Python      ]\n",
      "rstrip: [      Python]\n"
     ]
    }
   ],
   "source": [
    "temp = \"      Python      \"\n",
    "print(\" temp : [{}]\".format(temp))\n",
    "print(\"strip : [{}]\".format(temp.strip()))\n",
    "print(\"lstrip: [{}]\".format(temp.lstrip()))\n",
    "print(\"rstrip: [{}]\".format(temp.rstrip()))"
   ]
  },
  {
   "cell_type": "code",
   "execution_count": 132,
   "id": "2ad18e74-43bc-4317-b967-1d4e11a0977e",
   "metadata": {},
   "outputs": [
    {
     "name": "stdout",
     "output_type": "stream",
     "text": [
      "space단위로 분리하여 list로 반환 : ['Python', 'is', 'easy', 'Python', 'is', 'smart']\n"
     ]
    }
   ],
   "source": [
    "temp = 'Python is easy Python is smart'\n",
    "print('space단위로 분리하여 list로 반환 :', temp.split())"
   ]
  },
  {
   "cell_type": "code",
   "execution_count": 135,
   "id": "68603aac-3a46-4bc8-a3d5-2df3f02500d8",
   "metadata": {},
   "outputs": [
    {
     "name": "stdout",
     "output_type": "stream",
     "text": [
      "년월일 분리 : ['2024', '05', '30']\n",
      "연결된 temp : 2024~05~30\n"
     ]
    }
   ],
   "source": [
    "temp = \"2024-05-30\"\n",
    "temp_list = temp.split('-')\n",
    "temp_join = '~'.join(temp_list)\n",
    "print('년월일 분리 :', temp_list)\n",
    "print('연결된 temp :', temp_join)"
   ]
  },
  {
   "cell_type": "markdown",
   "id": "b9a3da06-af0b-4fa9-9be4-de3b954cf8aa",
   "metadata": {},
   "source": [
    "# 7절. 날짜 다루기\n",
    "## 7.1 날짜"
   ]
  },
  {
   "cell_type": "code",
   "execution_count": 136,
   "id": "d0231756-3554-448e-b79f-75cfb0cbd76f",
   "metadata": {},
   "outputs": [
    {
     "data": {
      "text/plain": [
       "datetime.date(2024, 5, 30)"
      ]
     },
     "execution_count": 136,
     "metadata": {},
     "output_type": "execute_result"
    }
   ],
   "source": [
    "from datetime import date\n",
    "someday = date(2024, 5, 30)\n",
    "someday"
   ]
  },
  {
   "cell_type": "code",
   "execution_count": 138,
   "id": "d996f4dc-2cf6-4ba0-a8d9-57b91fd9d064",
   "metadata": {},
   "outputs": [
    {
     "name": "stdout",
     "output_type": "stream",
     "text": [
      "2024년05월30일 00시 00분\n"
     ]
    }
   ],
   "source": [
    "print(\"{:%Y년%m월%d일 %H시 %M분}\".format(someday))"
   ]
  },
  {
   "cell_type": "code",
   "execution_count": 139,
   "id": "3c2d8f15-c0c9-4337-bc13-d0af844ab46f",
   "metadata": {},
   "outputs": [
    {
     "name": "stdout",
     "output_type": "stream",
     "text": [
      "2024년05월30일 00시 00분\n"
     ]
    }
   ],
   "source": [
    "today = date.today() # 오늘\n",
    "print(\"{:%Y년%m월%d일 %H시 %M분}\".format(someday))"
   ]
  },
  {
   "cell_type": "markdown",
   "id": "8720a17b-6916-43cc-8a78-efd67854c428",
   "metadata": {},
   "source": [
    "## 7.2 시간"
   ]
  },
  {
   "cell_type": "code",
   "execution_count": 141,
   "id": "277a5041-d11f-45dd-b4bc-822e3b71de48",
   "metadata": {},
   "outputs": [
    {
     "name": "stdout",
     "output_type": "stream",
     "text": [
      "2024년05월30일 12시 47분\n"
     ]
    }
   ],
   "source": [
    "from datetime import datetime\n",
    "now = datetime.today()\n",
    "print(\"{:%Y년%m월%d일 %H시 %M분}\".format(now))"
   ]
  },
  {
   "cell_type": "markdown",
   "id": "71b35687-e42c-4da7-a710-925282b83f6f",
   "metadata": {},
   "source": [
    "# 8절 연습문제"
   ]
  },
  {
   "cell_type": "code",
   "execution_count": 1,
   "id": "faaa5437-43c3-4b8c-909f-a3c8bfcb1587",
   "metadata": {},
   "outputs": [
    {
     "name": "stdin",
     "output_type": "stream",
     "text": [
      "이름 > 홍길동\n",
      "나이 >  23\n"
     ]
    },
    {
     "name": "stdout",
     "output_type": "stream",
     "text": [
      "홍길동님의 나이는 23살입니다\n",
      "홍길동님의 나이는 23살입니다\n",
      "홍길동님의 나이는 23살입니다\n"
     ]
    }
   ],
   "source": [
    "# 1. [출력형식 : 홍길동님의 나이는 23살입니다]\n",
    "name = input('이름 >')\n",
    "age = int(input('나이 > '))\n",
    "print('{}님의 나이는 {}살입니다'.format(name, age))\n",
    "print('%s님의 나이는 %d살입니다'% (name, age))\n",
    "print(f'{name}님의 나이는 {age}살입니다')"
   ]
  },
  {
   "cell_type": "code",
   "execution_count": 16,
   "id": "cc2fcbb7-0458-4624-a0f6-89e25d1c4f27",
   "metadata": {},
   "outputs": [
    {
     "name": "stdin",
     "output_type": "stream",
     "text": [
      "첫번째 수 10\n",
      "두번째 수 0\n"
     ]
    },
    {
     "name": "stdout",
     "output_type": "stream",
     "text": [
      "num1 + num2 =  10\n",
      "num1 - num2 =  10\n",
      "num1 * num2 =  0\n",
      "떼끼\n"
     ]
    }
   ],
   "source": [
    "# 2. 두 정수를 입력받아 두 수의 덧셈, 뺄셈, 곱셈, 나눗셈, 몫, 나머지를 출력하세요\n",
    "num1 = int(input('첫번째 수'))\n",
    "num2 = int(input('두번째 수'))\n",
    "print('num1 + num2 = ', (num1+num2))\n",
    "print('num1 - num2 = ', (num1-num2))\n",
    "print('num1 * num2 = ', (num1*num2))\n",
    "try:\n",
    "    print('num1 / num2 = ', (num1/num2))\n",
    "    print('num1 // num2 = ', (num1//num2))\n",
    "    print('num1 % num2 = ', (num1%num2))\n",
    "except ZeroDivisionError:\n",
    "    print(\"떼끼\")"
   ]
  },
  {
   "cell_type": "code",
   "execution_count": 2,
   "id": "c44afd23-6d78-42eb-8670-09ecac55d551",
   "metadata": {},
   "outputs": [
    {
     "name": "stdin",
     "output_type": "stream",
     "text": [
      "첫번째 수 12\n",
      "두번째 수 10\n"
     ]
    },
    {
     "name": "stdout",
     "output_type": "stream",
     "text": [
      "num1 + num2 =  22\n",
      "num1 - num2 =  2\n",
      "num1 * num2 =  120\n",
      "num1 / num2 =  1.2\n",
      "num1 // num2 =  1\n",
      "num1 % num2 =  2\n"
     ]
    }
   ],
   "source": [
    "# 2. 두 정수를 입력받아 두 수의 덧셈, 뺄셈, 곱셈, 나눗셈, 몫, 나머지를 출력하세요\n",
    "num1 = int(input('첫번째 수'))\n",
    "num2 = int(input('두번째 수'))\n",
    "print('num1 + num2 = ', (num1+num2))\n",
    "print('num1 - num2 = ', (num1-num2))\n",
    "print('num1 * num2 = ', (num1*num2))\n",
    "try:\n",
    "    print('num1 / num2 = ', (num1/num2))\n",
    "    print('num1 // num2 = ', (num1//num2))\n",
    "    print('num1 % num2 = ', (num1%num2))\n",
    "except Exception :\n",
    "    print('두번째 수에 0을 입력하여 나누기 연산이 불가합니다')"
   ]
  },
  {
   "cell_type": "code",
   "execution_count": 3,
   "id": "8fbeb434-f553-4674-9e7a-e06689689d1b",
   "metadata": {},
   "outputs": [
    {
     "name": "stdout",
     "output_type": "stream",
     "text": [
      "world Hello\n",
      "world Hello\n"
     ]
    }
   ],
   "source": [
    "# 3.‘Hello World’를 ‘World Hello’로 출력\n",
    "str = 'Hello world'\n",
    "print(str[-5:],str[:5])\n",
    "splited_str = str.split()\n",
    "print(splited_str[1], splited_str[0])"
   ]
  },
  {
   "cell_type": "code",
   "execution_count": 4,
   "id": "823006df-490e-4158-a175-edd5a5eebd8f",
   "metadata": {},
   "outputs": [
    {
     "name": "stdout",
     "output_type": "stream",
     "text": [
      "['world', 'Hello']\n",
      "world Hello\n"
     ]
    }
   ],
   "source": [
    "print(splited_str[::-1])\n",
    "print(' '.join(splited_str[::-1]))"
   ]
  },
  {
   "cell_type": "code",
   "execution_count": 5,
   "id": "a926c4b9-d116-476a-82c3-52e0ea933d59",
   "metadata": {},
   "outputs": [
    {
     "name": "stdout",
     "output_type": "stream",
     "text": [
      "bcdefa\n",
      "bcdefa\n"
     ]
    }
   ],
   "source": [
    "# 4. x = 'abcdef＇를 이용하여 ‘bcdefa’로 출력하세요\n",
    "x='abcdef'\n",
    "print(x[1:]+x[0])\n",
    "print(x[1:], x[0], sep='')"
   ]
  },
  {
   "cell_type": "code",
   "execution_count": 6,
   "id": "a1468b2b-660c-434d-b642-719d82bc4338",
   "metadata": {},
   "outputs": [
    {
     "name": "stdout",
     "output_type": "stream",
     "text": [
      "fdecba\n"
     ]
    }
   ],
   "source": [
    "# 5. x = ‘abcdef’를 이용하여 ‘fedcba’로 출력\n",
    "x = 'abcedf'\n",
    "print(x[::-1])"
   ]
  },
  {
   "cell_type": "code",
   "execution_count": 7,
   "id": "95c73df0-898d-441d-96af-53ead52a4772",
   "metadata": {},
   "outputs": [
    {
     "name": "stdin",
     "output_type": "stream",
     "text": [
      "섭씨 온도를 입력하세요 26\n"
     ]
    },
    {
     "name": "stdout",
     "output_type": "stream",
     "text": [
      "섭씨 26도는 화씨온도로 바꾸면 78.80도입니다\n"
     ]
    }
   ],
   "source": [
    "# 6.섭씨온도로 입력받아 화씨 온도로 변환\n",
    "c = int(input('섭씨 온도를 입력하세요'))\n",
    "f = (c*1.8)+32\n",
    "if f==round(f):\n",
    "    print('섭씨 {}도는 화씨온도로 바꾸면 {:.0f}도입니다'.format(c, f))\n",
    "else:\n",
    "    print('섭씨 {}도는 화씨온도로 바꾸면 {:.2f}도입니다'.format(c, f))"
   ]
  },
  {
   "cell_type": "code",
   "execution_count": 8,
   "id": "cd7a6470-04aa-47c0-a78b-ecc915239964",
   "metadata": {},
   "outputs": [],
   "source": [
    "# 7 (2)"
   ]
  },
  {
   "cell_type": "code",
   "execution_count": 9,
   "id": "696d31ba-16f4-4a0a-b891-d4975983e0e1",
   "metadata": {},
   "outputs": [
    {
     "name": "stdout",
     "output_type": "stream",
     "text": [
      "SeounSeoul\n",
      "Seou n Seoul\n"
     ]
    }
   ],
   "source": [
    "# 8 \n",
    "text = \"Seoul A001 - programming with python\"\n",
    "print(text[:4] + text[-1] + text.split()[0])\n",
    "print(text[:4], text[-1], text.split()[0])"
   ]
  },
  {
   "cell_type": "code",
   "execution_count": 10,
   "id": "bd43a134-be7c-4f0b-a828-988094b4ffb9",
   "metadata": {},
   "outputs": [],
   "source": [
    "# 9 (2)"
   ]
  }
 ],
 "metadata": {
  "kernelspec": {
   "display_name": "Python 3 (ipykernel)",
   "language": "python",
   "name": "python3"
  },
  "language_info": {
   "codemirror_mode": {
    "name": "ipython",
    "version": 3
   },
   "file_extension": ".py",
   "mimetype": "text/x-python",
   "name": "python",
   "nbconvert_exporter": "python",
   "pygments_lexer": "ipython3",
   "version": "3.11.7"
  }
 },
 "nbformat": 4,
 "nbformat_minor": 5
}
