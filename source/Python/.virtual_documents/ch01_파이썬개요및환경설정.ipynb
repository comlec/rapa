from IPython.display import display, HTML
display(HTML("""
<style>
div.jp-WindowedPanel-outer.lm-Widget{padding:5px;}
div.lm-Widget{width:100%;font-size:17pt;}
div.cm-content {font-family:Consolas; font-size:17pt;}
div.jp-OutputArea-output pre {font-size:17pt; font-weight:bold;}
input.jp-Stdin-input {font-family:Consolas; font-size:17pt;}
</style>
"""))








print('Hello')


a = 1
b = '2'
a + int(b) # 문자 + 숫자 불가능


# for i in range(1000000000000000):
#     print(i)
# 중지 : kernel > 다양한 restart기능이나 shotdown기능











!dir #주피터노트북에서 !는 cmd명령어 수행 가능



