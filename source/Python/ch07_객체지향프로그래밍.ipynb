{
 "cells": [
  {
   "cell_type": "code",
   "execution_count": 1,
   "id": "6b85d02b-5728-4c34-b70d-8a27901026e0",
   "metadata": {},
   "outputs": [
    {
     "data": {
      "text/html": [
       "\n",
       "<style>\n",
       "div.jp-WindowedPanel-outer.lm-Widget{padding:5px;}\n",
       "div.lm-Widget{font-size:15pt;}\n",
       "div.cm-content {font-family:Consolas; font-size:17pt;}\n",
       "div.jp-OutputArea-output pre {font-size:19pt; font-weight:bold;}\n",
       "input.jp-Stdin-input {font-family:Consolas; font-size:19pt;}\n",
       "</style>\n"
      ],
      "text/plain": [
       "<IPython.core.display.HTML object>"
      ]
     },
     "metadata": {},
     "output_type": "display_data"
    }
   ],
   "source": [
    "from IPython.display import display, HTML\n",
    "display(HTML(\"\"\"\n",
    "<style>\n",
    "div.jp-WindowedPanel-outer.lm-Widget{padding:5px;}\n",
    "div.lm-Widget{font-size:15pt;}\n",
    "div.cm-content {font-family:Consolas; font-size:17pt;}\n",
    "div.jp-OutputArea-output pre {font-size:19pt; font-weight:bold;}\n",
    "input.jp-Stdin-input {font-family:Consolas; font-size:19pt;}\n",
    "</style>\n",
    "\"\"\"))"
   ]
  },
  {
   "cell_type": "markdown",
   "id": "e01d851d-7243-4f91-9828-4e34dc071569",
   "metadata": {},
   "source": [
    "<font size=\"6\" color=\"red\"><b>ch07. 객체지향 프로그래밍</b></font>"
   ]
  },
  {
   "cell_type": "markdown",
   "id": "9f72018e-4e20-491d-a742-973a070918f8",
   "metadata": {},
   "source": [
    "# 1절. 객체와 클래스\n",
    "```\n",
    "class 클래스명(상속받을 클래스명):\n",
    "    변수나 함수들을 선언\n",
    "```"
   ]
  },
  {
   "cell_type": "code",
   "execution_count": 3,
   "id": "d7880bfd-22c9-4224-9fa2-7d90d95bdb80",
   "metadata": {},
   "outputs": [],
   "source": [
    "class Person:\n",
    "    \"Person 클래스는 어쩌구 저쩌구 여러 줄 설명하는 독스트링\"\n",
    "    pass\n",
    "p1 = Person()"
   ]
  },
  {
   "cell_type": "code",
   "execution_count": 30,
   "id": "a6ea0054-9d75-4e23-936a-c634768d5d02",
   "metadata": {},
   "outputs": [],
   "source": [
    "class Person:\n",
    "    'Person은 이름과 성별 멤버변수가 있는 객체타입입니다'\n",
    "    def __init__(self, name='홍길동', gender='남자'): # 생성자함수\n",
    "        self.name = name\n",
    "        self.gender = gender\n",
    "        print(\"{}, {} Person 객체가 생성되었습니다\".format(self.name, self.gender))\n",
    "    def print_info(self):\n",
    "        print(\"{}님은 {}입니다\".format(self.name, self.gender) , end='\\t')    \n",
    "    def printCnt(self, cnt):\n",
    "        for i in range(cnt):\n",
    "            print(self.name, end='\\t')\n",
    "    def __str__(self):\n",
    "        return \"{}\\t 성별은 {}\".format(self.name, self.gender)"
   ]
  },
  {
   "cell_type": "code",
   "execution_count": 23,
   "id": "f5909286-dadd-4ed6-92f5-300e02617bc9",
   "metadata": {},
   "outputs": [
    {
     "name": "stdout",
     "output_type": "stream",
     "text": [
      "성춘향, 여자 Person 객체가 생성되었습니다\n"
     ]
    }
   ],
   "source": [
    "p1 = Person(\"성춘향\", \"여자\")"
   ]
  },
  {
   "cell_type": "code",
   "execution_count": 24,
   "id": "7c12dfde-4349-41c7-acdc-bd4d0b988887",
   "metadata": {},
   "outputs": [
    {
     "name": "stdout",
     "output_type": "stream",
     "text": [
      "성춘향 여자\n"
     ]
    }
   ],
   "source": [
    "print(p1.name, p1.gender)"
   ]
  },
  {
   "cell_type": "code",
   "execution_count": 25,
   "id": "cbb8309c-2958-4e30-8f13-0d171d5db84b",
   "metadata": {},
   "outputs": [
    {
     "name": "stdout",
     "output_type": "stream",
     "text": [
      "성춘향님은 여자입니다\n"
     ]
    }
   ],
   "source": [
    "p1.print_info()"
   ]
  },
  {
   "cell_type": "code",
   "execution_count": 26,
   "id": "4e421110-2da9-4fe7-aba6-9fd52ae5bd15",
   "metadata": {},
   "outputs": [
    {
     "name": "stdout",
     "output_type": "stream",
     "text": [
      "성춘향\t성춘향\t성춘향\t성춘향\t성춘향\t"
     ]
    }
   ],
   "source": [
    "p1.printCnt(5)"
   ]
  },
  {
   "cell_type": "code",
   "execution_count": 28,
   "id": "4672dd20-a17e-4cbe-ae3f-1f5e81773213",
   "metadata": {},
   "outputs": [
    {
     "name": "stdout",
     "output_type": "stream",
     "text": [
      "성춘향\t 성별은 여자\n"
     ]
    }
   ],
   "source": [
    "print(p1)"
   ]
  },
  {
   "cell_type": "markdown",
   "id": "f5c8d618-80a7-4e7b-9a54-98199849eb9e",
   "metadata": {},
   "source": [
    "# 2절. 상속과 재정의(overide)"
   ]
  },
  {
   "cell_type": "code",
   "execution_count": 31,
   "id": "8a71b96b-1689-4df9-9018-d6b241e5b1c1",
   "metadata": {},
   "outputs": [],
   "source": [
    "class Student(Person):\n",
    "    'name, gender, major 멤버변수를 갖는 Student타입'\n",
    "    def __init__(self, name, gender, major):\n",
    "        # 부모클래스의 생성자 함수로 name, gender 초기화\n",
    "        super().__init__(name, gender)\n",
    "        # Person.__init__(name, gender)\n",
    "        self.major = major\n",
    "    def print_info(self):\n",
    "        super().print_info()\n",
    "        print(\"그리고 전공은 {}입니다\".format(self.major))\n",
    "    def __str__(self):\n",
    "        return super().__str__() + \"그리고 전공은 {}\".format(self.major)"
   ]
  },
  {
   "cell_type": "code",
   "execution_count": 33,
   "id": "09f678af-ab8b-4f62-92c3-d853fe85dcdd",
   "metadata": {},
   "outputs": [
    {
     "name": "stdout",
     "output_type": "stream",
     "text": [
      "김철수, 남자 Person 객체가 생성되었습니다\n"
     ]
    }
   ],
   "source": [
    "s1 = Student('김철수', '남자', '컴공')"
   ]
  },
  {
   "cell_type": "code",
   "execution_count": 34,
   "id": "af78b1b0-d38c-4c00-98d7-50cdd2dade6e",
   "metadata": {},
   "outputs": [
    {
     "data": {
      "text/plain": [
       "('김철수', '남자', '컴공')"
      ]
     },
     "execution_count": 34,
     "metadata": {},
     "output_type": "execute_result"
    }
   ],
   "source": [
    "s1.name, s1.gender, s1.major"
   ]
  },
  {
   "cell_type": "code",
   "execution_count": 35,
   "id": "b3d0d847-e78e-4b4f-b390-c7d0b6ea06a8",
   "metadata": {},
   "outputs": [
    {
     "name": "stdout",
     "output_type": "stream",
     "text": [
      "김철수님은 남자입니다\t그리고 전공은 컴공입니다\n"
     ]
    }
   ],
   "source": [
    "s1.print_info()"
   ]
  },
  {
   "cell_type": "code",
   "execution_count": 36,
   "id": "999eedf7-dc0c-4344-b735-f97dcb5d8ae0",
   "metadata": {},
   "outputs": [
    {
     "name": "stdout",
     "output_type": "stream",
     "text": [
      "김철수\t김철수\t김철수\t김철수\t김철수\t"
     ]
    }
   ],
   "source": [
    "s1.printCnt(5)"
   ]
  },
  {
   "cell_type": "code",
   "execution_count": 37,
   "id": "33cdcf04-7276-4116-a74e-a6d5d7dd8b84",
   "metadata": {},
   "outputs": [
    {
     "name": "stdout",
     "output_type": "stream",
     "text": [
      "김철수\t 성별은 남자그리고 전공은 컴공\n"
     ]
    }
   ],
   "source": [
    "print(s1)"
   ]
  },
  {
   "cell_type": "code",
   "execution_count": null,
   "id": "4b0d0851-ca19-4065-991b-6914d1a90add",
   "metadata": {},
   "outputs": [],
   "source": []
  },
  {
   "cell_type": "code",
   "execution_count": null,
   "id": "80aa45f2-3422-4de2-a552-a86bc292cef1",
   "metadata": {},
   "outputs": [],
   "source": []
  },
  {
   "cell_type": "code",
   "execution_count": null,
   "id": "b1a8b63a-72a3-4b4a-a011-4cf6b23fb6b0",
   "metadata": {},
   "outputs": [],
   "source": []
  },
  {
   "cell_type": "code",
   "execution_count": null,
   "id": "11255c10-3724-439c-b67c-348cf39f0922",
   "metadata": {},
   "outputs": [],
   "source": []
  },
  {
   "cell_type": "code",
   "execution_count": null,
   "id": "38865cd3-6f05-496f-ba2d-747deceb777f",
   "metadata": {},
   "outputs": [],
   "source": []
  },
  {
   "cell_type": "code",
   "execution_count": null,
   "id": "7c949660-0b7c-43e1-b600-c2e09454a8db",
   "metadata": {},
   "outputs": [],
   "source": []
  }
 ],
 "metadata": {
  "kernelspec": {
   "display_name": "Python 3 (ipykernel)",
   "language": "python",
   "name": "python3"
  },
  "language_info": {
   "codemirror_mode": {
    "name": "ipython",
    "version": 3
   },
   "file_extension": ".py",
   "mimetype": "text/x-python",
   "name": "python",
   "nbconvert_exporter": "python",
   "pygments_lexer": "ipython3",
   "version": "3.11.7"
  }
 },
 "nbformat": 4,
 "nbformat_minor": 5
}
