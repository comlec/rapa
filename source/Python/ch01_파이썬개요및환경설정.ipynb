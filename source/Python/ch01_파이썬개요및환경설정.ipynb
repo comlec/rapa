{
 "cells": [
  {
   "cell_type": "code",
   "execution_count": 1,
   "id": "9020cf71-5e07-4d44-9876-8de2add21682",
   "metadata": {},
   "outputs": [
    {
     "data": {
      "text/html": [
       "\n",
       "<style>\n",
       "div.jp-WindowedPanel-outer.lm-Widget{padding:5px;}\n",
       "div.lm-Widget{width:100%;font-size:17pt;}\n",
       "div.cm-content {font-family:Consolas; font-size:17pt;}\n",
       "div.jp-OutputArea-output pre {font-size:17pt; font-weight:bold;}\n",
       "input.jp-Stdin-input {font-family:Consolas; font-size:17pt;}\n",
       "</style>\n"
      ],
      "text/plain": [
       "<IPython.core.display.HTML object>"
      ]
     },
     "metadata": {},
     "output_type": "display_data"
    }
   ],
   "source": [
    "# 주피터 노트북 새버전\n",
    "from IPython.display import display, HTML\n",
    "display(HTML(\"\"\"\n",
    "<style>\n",
    "div.jp-WindowedPanel-outer.lm-Widget{padding:5px;}\n",
    "div.lm-Widget{font-size:19pt;}\n",
    "div.cm-content {font-family:Consolas; font-size:19pt;}\n",
    "div.jp-OutputArea-output pre {font-size:19pt; font-weight:bold;}\n",
    "input.jp-Stdin-input {font-family:Consolas; font-size:19pt;}\n",
    "td,th{font-size:17pt;padding:0}\n",
    "</style>\n",
    "\"\"\"))"
   ]
  },
  {
   "cell_type": "markdown",
   "id": "a4e0e934-d24c-45a6-943f-eb4c9064fd24",
   "metadata": {},
   "source": [
    "<font color=\"red\" size=\"10\"><b>ch01. 파이썬 개요 및 환경설정</b></font>"
   ]
  },
  {
   "cell_type": "markdown",
   "id": "a52e3a4b-f745-4e67-a7f5-4754abff1121",
   "metadata": {},
   "source": [
    "# 1. 주피터 노트북 사용법(큰제목)\n",
    "    - shift+Enter : 포커스된 셀이 실행되고 다음셀로 이동\n",
    "    - alt+Enter : 포커스된 셀이 실행되고 다음셀이 생성된 후 이동\n",
    "    - ctrl+Enter : 포커스된 셀이 실행되고 포커스 이동없음\n",
    "    - Enter=클릭 : 셀이 포커스됨(편집 상태)"
   ]
  },
  {
   "cell_type": "code",
   "execution_count": null,
   "id": "564d8b2a-02fc-4377-b635-bea3148da43a",
   "metadata": {},
   "outputs": [],
   "source": [
    "print('Hello')"
   ]
  },
  {
   "cell_type": "code",
   "execution_count": null,
   "id": "d8202707-c216-4f98-a454-b67b01204596",
   "metadata": {},
   "outputs": [],
   "source": [
    "a = 1\n",
    "b = '2'\n",
    "a + int(b) # 문자 + 숫자 불가능"
   ]
  },
  {
   "cell_type": "code",
   "execution_count": null,
   "id": "90c6fced-2b45-4d19-92f7-3c53a29ccaa2",
   "metadata": {},
   "outputs": [],
   "source": [
    "# for i in range(1000000000000000):\n",
    "#     print(i)\n",
    "# 중지 : kernel > 다양한 restart기능이나 shotdown기능"
   ]
  },
  {
   "cell_type": "markdown",
   "id": "49bb3188-5363-4942-bd7c-03a7c08bbcda",
   "metadata": {},
   "source": [
    "# 2. ESC키 누르고 핫키\n",
    "- dd : 셀삭제\n",
    "- a : 윗셀추가\n",
    "- b : 아랫셀 추가\n",
    "- m : 마크 다운셀로 전환\n",
    "- y : 코드셀로 전환"
   ]
  },
  {
   "cell_type": "markdown",
   "id": "e78e641c-9d3c-4813-a67c-d8f0b3499096",
   "metadata": {},
   "source": [
    "# 3. 마크다운이란?\n",
    "    - 코드와 함께 문서화할 수 있다.\n",
    "여러줄 설명은\n",
    "줄바꿈으로 할 수 있습니다.\n",
    "```\n",
    "    여러줄 설명은\n",
    "    줄바꿈으로 할 수 있습니다\n",
    "```"
   ]
  },
  {
   "cell_type": "markdown",
   "id": "b6dfade0-e366-4fb3-aedf-0a9f48c47854",
   "metadata": {},
   "source": [
    "# 4. Table of contents\n",
    "- View > Table of Contents"
   ]
  },
  {
   "cell_type": "code",
   "execution_count": null,
   "id": "cddeeb02-dd3b-4967-a408-1aef95611f63",
   "metadata": {},
   "outputs": [],
   "source": [
    "!dir #주피터노트북에서 !는 cmd명령어 수행 가능"
   ]
  },
  {
   "cell_type": "code",
   "execution_count": null,
   "id": "a2292a99-8d02-426b-837f-59b0e6ab1fa1",
   "metadata": {},
   "outputs": [],
   "source": []
  }
 ],
 "metadata": {
  "kernelspec": {
   "display_name": "Python 3 (ipykernel)",
   "language": "python",
   "name": "python3"
  },
  "language_info": {
   "codemirror_mode": {
    "name": "ipython",
    "version": 3
   },
   "file_extension": ".py",
   "mimetype": "text/x-python",
   "name": "python",
   "nbconvert_exporter": "python",
   "pygments_lexer": "ipython3",
   "version": "3.11.7"
  }
 },
 "nbformat": 4,
 "nbformat_minor": 5
}
