{
 "cells": [
  {
   "cell_type": "code",
   "execution_count": 1,
   "id": "3e5eca7e",
   "metadata": {},
   "outputs": [
    {
     "data": {
      "text/html": [
       "\n",
       "<style>\n",
       "div.container{width:100% !important;}\n",
       "div.CodeMirror {font-family:Consolas; font-size:22pt;}\n",
       "div.output {font-size:24pt; font-weight:bold;}\n",
       "div.input {font-family:Consolas; font-size:22pt;}\n",
       "div.prompt {min-width:70px;}\n",
       "</style>\n"
      ],
      "text/plain": [
       "<IPython.core.display.HTML object>"
      ]
     },
     "metadata": {},
     "output_type": "display_data"
    }
   ],
   "source": [
    "from IPython.display import display, HTML\n",
    "display(HTML(\"\"\"\n",
    "<style>\n",
    "div.container{width:100% !important;}\n",
    "div.CodeMirror {font-family:Consolas; font-size:22pt;}\n",
    "div.output {font-size:24pt; font-weight:bold;}\n",
    "div.input {font-family:Consolas; font-size:22pt;}\n",
    "div.prompt {min-width:70px;}\n",
    "</style>\n",
    "\"\"\"))"
   ]
  },
  {
   "cell_type": "markdown",
   "id": "dab21b20",
   "metadata": {},
   "source": [
    "<b><font size=\"6\" color=\"red\">ch14. 웹데이터 수집</font></b>"
   ]
  },
  {
   "cell_type": "markdown",
   "id": "08190761",
   "metadata": {},
   "source": [
    "# 3절. Selenium을 이용한 웹 데이터 수집\n",
    " * https://selenium-python.readthedocs.io\n",
    " `pip install selenium`"
   ]
  },
  {
   "cell_type": "code",
   "execution_count": 5,
   "id": "98f03187",
   "metadata": {},
   "outputs": [],
   "source": [
    "from selenium import webdriver\n",
    "# dv = webdriver.Chrome('c:/bigdata/Download/21_chromedriver_win32/chromedriver.exe')\n",
    "dv = webdriver.Chrome()"
   ]
  },
  {
   "cell_type": "code",
   "execution_count": 6,
   "id": "d10b4da8",
   "metadata": {},
   "outputs": [],
   "source": [
    "dv.get('http://python.org')"
   ]
  },
  {
   "cell_type": "code",
   "execution_count": 7,
   "id": "a92f4947",
   "metadata": {},
   "outputs": [],
   "source": [
    "elem = dv.find_element_by_name('q')\n",
    "elem.clear()\n",
    "elem.send_keys('pycon')"
   ]
  },
  {
   "cell_type": "code",
   "execution_count": 8,
   "id": "e0731019",
   "metadata": {},
   "outputs": [],
   "source": [
    "from selenium.webdriver.common.keys import Keys\n",
    "elem.send_keys(Keys.RETURN) # Enter키 효과"
   ]
  },
  {
   "cell_type": "code",
   "execution_count": 10,
   "id": "0fb0098f",
   "metadata": {},
   "outputs": [
    {
     "name": "stdout",
     "output_type": "stream",
     "text": [
      "PSF PyCon Trademark Usage Policy - https://www.python.org/psf/trademarks/pycon\n",
      "Conferences and Workshops - https://www.python.org/community/workshops\n",
      "PyCon Italia 2016 (PyCon Sette) - https://www.python.org/events/python-events/378/\n",
      "2008-04-14 PSF Board Meeting Minutes - https://www.python.org/psf/records/board/minutes/2008-04-14\n",
      "2012-07-16 PSF Board Meeting Minutes - https://www.python.org/psf/records/board/minutes/2012-07-16\n",
      "PyCon Home at python.org - https://www.python.org/community/pycon\n",
      "2013-02-06 PSF Board Meeting Minutes - https://www.python.org/psf/records/board/minutes/2013-02-06\n",
      "PyCon Australia 2013 - https://www.python.org/events/python-events/57/\n",
      "PyCon AU 2019 - https://www.python.org/events/python-events/776/\n",
      "PyCon Australia 2014 - https://www.python.org/events/python-events/10/\n",
      "PyCon Ireland 2012 - https://www.python.org/events/python-events/76/\n",
      "PyCon Ireland 2016 - https://www.python.org/events/python-events/429/\n",
      "PyCon AU 2018 - https://www.python.org/events/python-events/696/\n",
      "PyCon Ireland 2015 - https://www.python.org/events/python-events/333/\n",
      "PyCon AU 2015 - https://www.python.org/events/python-events/273/\n",
      "PyCon PL 2014 - https://www.python.org/events/python-events/191/\n",
      "PyCon MY 2015 - https://www.python.org/events/python-events/313/\n",
      "PyCon Australia 2016 - https://www.python.org/events/python-events/357/\n",
      "PyCon MY 2014 - https://www.python.org/events/python-events/151/\n",
      "PyCon Ireland 2014 - https://www.python.org/events/python-events/149/\n"
     ]
    }
   ],
   "source": [
    "result_list = dv.find_elements_by_css_selector('li > h3 > a')\n",
    "for result in result_list:\n",
    "    print(\"%s - %s\" % (result.text, result.get_attribute('href')))"
   ]
  },
  {
   "cell_type": "code",
   "execution_count": 15,
   "id": "b4222417",
   "metadata": {},
   "outputs": [
    {
     "name": "stdout",
     "output_type": "stream",
     "text": [
      "PSF PyCon Trademark Usage Policy - http://python.org/psf/trademarks/pycon\n",
      "Conferences and Workshops - http://python.org/community/workshops\n",
      "PyCon Italia 2016 (PyCon Sette) - http://python.org/events/python-events/378/\n",
      "2008-04-14 PSF Board Meeting Minutes - http://python.org/psf/records/board/minutes/2008-04-14\n",
      "2012-07-16 PSF Board Meeting Minutes - http://python.org/psf/records/board/minutes/2012-07-16\n",
      "PyCon Home at python.org - http://python.org/community/pycon\n",
      "2013-02-06 PSF Board Meeting Minutes - http://python.org/psf/records/board/minutes/2013-02-06\n",
      "PyCon Australia 2013 - http://python.org/events/python-events/57/\n",
      "PyCon AU 2019 - http://python.org/events/python-events/776/\n",
      "PyCon Australia 2014 - http://python.org/events/python-events/10/\n",
      "PyCon Ireland 2012 - http://python.org/events/python-events/76/\n",
      "PyCon Ireland 2016 - http://python.org/events/python-events/429/\n",
      "PyCon AU 2018 - http://python.org/events/python-events/696/\n",
      "PyCon Ireland 2015 - http://python.org/events/python-events/333/\n",
      "PyCon AU 2015 - http://python.org/events/python-events/273/\n",
      "PyCon PL 2014 - http://python.org/events/python-events/191/\n",
      "PyCon MY 2015 - http://python.org/events/python-events/313/\n",
      "PyCon Australia 2016 - http://python.org/events/python-events/357/\n",
      "PyCon MY 2014 - http://python.org/events/python-events/151/\n",
      "PyCon Ireland 2014 - http://python.org/events/python-events/149/\n"
     ]
    }
   ],
   "source": [
    "from bs4 import BeautifulSoup\n",
    "soup = BeautifulSoup(dv.page_source, \"html.parser\")\n",
    "result_list = soup.select('li > h3 > a')\n",
    "for result in result_list:\n",
    "    print(\"%s - %s\" % (result.text, \n",
    "                       'http://python.org'+result.attrs['href']))"
   ]
  },
  {
   "cell_type": "code",
   "execution_count": 16,
   "id": "4be045db",
   "metadata": {},
   "outputs": [],
   "source": [
    "# 브라우저 종료\n",
    "dv.close()"
   ]
  },
  {
   "cell_type": "markdown",
   "id": "1d75b905",
   "metadata": {},
   "source": [
    "### 맞춤법 검사기(네이버 맞춤법 검사기 이용)"
   ]
  },
  {
   "cell_type": "code",
   "execution_count": 29,
   "id": "299ef1f3",
   "metadata": {},
   "outputs": [],
   "source": [
    "from selenium import webdriver\n",
    "from selenium.webdriver.common.keys import Keys\n",
    "from bs4 import BeautifulSoup\n",
    "import time\n",
    "\n",
    "driver = webdriver.Chrome()\n",
    "driver.get('http://www.naver.com')\n",
    "elem = driver.find_element_by_name('query')\n",
    "elem.send_keys('맞춤법 검사기')\n",
    "elem.send_keys(Keys.RETURN)"
   ]
  },
  {
   "cell_type": "code",
   "execution_count": 30,
   "id": "54d2f5d4",
   "metadata": {},
   "outputs": [],
   "source": [
    "textarea = driver.find_element_by_class_name('txt_gray')\n",
    "textarea.send_keys('한녕하세요. 반갑숩니다')"
   ]
  },
  {
   "cell_type": "code",
   "execution_count": 31,
   "id": "83451177",
   "metadata": {},
   "outputs": [],
   "source": [
    "button = driver.find_element_by_class_name('btn_check')\n",
    "button.click()"
   ]
  },
  {
   "cell_type": "code",
   "execution_count": 32,
   "id": "1122105d",
   "metadata": {},
   "outputs": [
    {
     "data": {
      "text/plain": [
       "'안녕하세요. 반갑습니다'"
      ]
     },
     "execution_count": 32,
     "metadata": {},
     "output_type": "execute_result"
    }
   ],
   "source": [
    "soup = BeautifulSoup(driver.page_source, \"html.parser\")\n",
    "result = soup.select_one('p._result_text.stand_txt').text\n",
    "result"
   ]
  },
  {
   "cell_type": "code",
   "execution_count": 33,
   "id": "f413ba53",
   "metadata": {},
   "outputs": [],
   "source": [
    "driver.close()"
   ]
  },
  {
   "cell_type": "code",
   "execution_count": 39,
   "id": "2f2ec936",
   "metadata": {},
   "outputs": [
    {
     "name": "stdout",
     "output_type": "stream",
     "text": [
      "안녕하세요. 반갑습니다\n"
     ]
    }
   ],
   "source": [
    "from selenium import webdriver\n",
    "from selenium.webdriver.common.keys import Keys\n",
    "from bs4 import BeautifulSoup\n",
    "import time\n",
    "driver = webdriver.Chrome()\n",
    "driver.get('http://www.naver.com')\n",
    "elem = driver.find_element_by_name('query')\n",
    "elem.send_keys('맞춤법 검사기')\n",
    "elem.send_keys(Keys.RETURN)\n",
    "time.sleep(1)\n",
    "# driver.implicitly_wait(1) 1초동안 잠깐 멈춤 위랑 같은 의미\n",
    "textarea = driver.find_element_by_class_name('txt_gray')\n",
    "\n",
    "textarea.send_keys('한녕하세요. 반갑숩니다')\n",
    "button = driver.find_element_by_class_name('btn_check')\n",
    "button.click()\n",
    "time.sleep(1)\n",
    "# driver.implicitly_wait(1) 1초동안 잠깐 멈춤 위랑 같은 의미\n",
    "soup = BeautifulSoup(driver.page_source, \"html.parser\")\n",
    "result = soup.select_one('p._result_text.stand_txt').text\n",
    "print(result)"
   ]
  },
  {
   "cell_type": "markdown",
   "id": "a918d7ae",
   "metadata": {},
   "source": [
    "### 맞춤법 검사가 안 된 text파일을 맞춤법 검사가 완료된 text파일로 output"
   ]
  },
  {
   "cell_type": "code",
   "execution_count": 48,
   "id": "e7491a6e",
   "metadata": {},
   "outputs": [
    {
     "name": "stdout",
     "output_type": "stream",
     "text": [
      "안녕하세요. 반갑습니다.국내 신종 코로나바이러스 감염증(코로나19) 신규 확진자 수가 처음으로 2천 명을 넘으면서 신속한 백신 접종이 더욱 중요해지고 있다.최고 수준의 '사회적 거리 두기'(수도권 4단계, 비수도권 3단계)와 사적 모임 금지 조치 등 정부의 고강도 방역대책에도 불구하고 4차 대유행의 확산세가 꺾이지 않으면서 결국 백신이 유일한 해결책인 상황으로 흐르고 있다.정부가 백신 접종을 통한 '집단면역'에 사활을 걸고 있는 것도 이 때문이다.전문가들도 백신 접종의 중요성을 강조하고 있다.정재훈 가천대 의대 예방의학과 교수는 \"접종률을 빠르게 올리는 게 최고의 방역 정책이라고 생각한다. 2차 접종 비율을 늘리는 것이 가장 중요하다\"라고 단언했다.이처럼 신속한 접종이 시급하지만 현실은 녹록지 않다.당장 이달 중 공급될 예정이던 모더나 백신 물량이 절반 이하로 줄어든 데다 노바백스 백신의 경우 미국 현지의 승인 절차가 늦어지면서 아직 국내 도입 계획은 윤곽조차 나오지않는 등 집단면역 목표 달성까지는 여전히 변수가 산적해있다.11일 코로나19 예방접종 대응 추진단(추진단)에 따르면 이날 0시 기준 국내 1차 누적 접종 자는 2천163만 5천106명으로, 전체 인구(작년 12월 기준 5천134만 9천116명)의 42.1%가 1차 접종을 마쳤다.백신별 권고 접종 횟수대로 모두 맞은 사람은 총 806만 2천980명으로, 인구 대비 15.7% 수준이다.정부는 오는 9월까지 전체 국민의 70%인 3천600만 명에 대한 1차 접종을 마치고, 11월까지 2차 접종을 완료해 집단면역을 달성하겠다는 목표를 세워 놓은 상태다.이를 위해서는 일단 내달까지 약 1천500만 명이 더 1차 접종을 받아야 하는 셈이다.정부는 지금 계획대로 접종이 차질 없이 진행된다면 목표 달성이 충분히 가능하다는 입장이다.손영래 중앙사고 수습본부(중수본) 사회전략 반장은 앞선 브리핑에서 \"9월 말까지 전 국민의 70%까지 1차 접종을 완료한다는 그 계획대로 예방 접종을 진행중\"이라면서 \"대부분이 화이자와 모더나 접종자인 만큼 4주의 접종 주기를 고려하면 10월 말에서 11월 초에 대부분이 2차 접종까지 완료하게 될 것\"이라고 전망했다.예진표 작성(서울=연합뉴스) 임헌정 기자 = 11일 오전 서울 서대문구 북아현 문화 체육센터에 마련된 예방접종 센터에서 시민들이 예진표를 작성하고 있다. 2021.8.11 kane@yna.co.kr하지만 제조사의 생산 차질 문제로 모더나 백신의 국내 공급 일정이 늦춰지면서 모더나는 물론 같은 mRNA(메신저 리보핵산) 계열인 화이자 백신마저 1·2차 접종 간 격이 4주에서 6주로 2주 늘어난 상태다.더욱이 3분기까지 최대 2천만 회분을 들여오기로 했던 노바백스 백신 공급 일정은 오리무중인 상황이다.정부는 모더나 백신 공급 차질에도 11월 집단면역 형성이 가능하고, 심지어 노바백스 백신이 연내에 공급되지 않더라도 이미 확보한 물량으로 4분기 접종까지는 문제가 없다는 입장이다.그러나 백신 수급 불안이 해소되지않으면 앞으로도 접종 일정은 순차적으로 더 지연될 가능성을 배제할 수 없다.정부가 지금까지 확보한 백신은 5개 종류, 약 1억 9천300만 회(1억 명) 분이다.백신 공동구매 국제 프로젝트인 '코팩스 퍼실러티'로부터 2천만 회(1천만 명) 분을 확보했고, 각 제약사와는 직접 구매 계약을 맺어 1억 7천200만 회(8천900만 명) 분의 물량을 받기로 했다. 제약사별 구체적인 물량은 화이자 6천600만 회(3천300만 명) 분, 모더나 와 노바백스 각 4천만 회(2천만 명) 분, 아스트라제네카 2천만 회(1천만 명) 분, 얀센 700만 회분 등이다.이런 가운데 해외에서는 백신 효능을 떨어뜨리는 변이 바이러스의 출현으로 집단면역을 달성하는 것 자체가 불가능하다고 보는 의견도 나온다.외신에 따르면 아스트라제네카(AZ) 백신 임상시험을 이끈 앤드루 폴 러드 영국 옥스퍼드대 교수는 10일(현지시간) 영국 의회 내 코로나19에 관한 초당파 모임에서 \"집단면역이 가능하지 않은 상황\"이라며 \"백신 접종자를 전보다 더 잘감염시키는 새로운 변이가 나올 것으로 보인다\"라고 예상했다.그러면서 \"앞으로는 상태가 좋지 않은 사람들을 검사하고 중증 입원환자 치료를 개선하는 데 집중해야 한다\"라고 주장했다.백신 접종 부스터 샷 (3차 접종) (PG)[홍수영 제작] 일러스트국내 한 전문가는 백신의 감염예방 효과보다는 변이 바이러스에 감염되더라도 입원하거나 사망하는 비율이 높게 낮아진다는 접종 효과에 더 주목해야 한다고 강조했다.설 대우 중앙대 약학과 교수는 \"백신 자체의 기본 기능이 위중증으로 인한 입원율·사망률을 큰 폭으로 떨어뜨리는 것\"이라며 \"델타 변이와 관련해서도 백신으로 아예 손을 쓸 수 없는 것이 아니라 백신은 델타 변이 감염자의 상태가 위중증으로 악화해 입원·사망하는 사례를 줄이는 역할을 할 수 있다\"라고 설명했다.설 교수는 델타 변이가 전체 확진자의 95%가량을 차지하는 영국의 사례를 예로 들면서 \"영국 상황만 봐도 백신 접종 전 일일 확진자가 6만 7천 명에 달한 뒤 그 영향으로하루 사망자가 1천800명까지 나왔었다\"라며 \"그러나 접종 이후부터 확진자는 절반 정도로 줄고, 사망자는 이보다 더 감소해 100명 안팎까지 떨어졌다\"라고 부연했다.그는 \"국내 일정에 맞춰 백신 접종을 진행하되 가능한 속도를 높여야 한다\"면서 \"할 수만 있다면 백신 물량을 효율적으로 배정해 '부스터 샷'(3차 추가접종)도 시행해야 한다\"라고 덧붙였다.국내 신종 코로나바이러스 감염증(코로나19) 신규 확진자 수가 처음으로 2천 명을 넘으면서 신속한 백신 접종이 더욱 중요해지고 있다.최고 수준의 '사회적 거리 두기'(수도권 4단계, 비수도권 3단계)와 사적 모임 금지 조치 등 정부의 고강도 방역대책에도 불구하고 4차 대유행의 확산세가 꺾이지 않으면서 결국 백신이 유일한 해결책인 상황으로 흐르고 있다.정부가 백신 접종을 통한 '집단면역'에 사활을 걸고 있는 것도 이 때문이다.전문가들도 백신 접종의 중요성을 강조하고 있다.정재훈 가천대 의대 예방의학과 교수는 \"접종률을 빠르게올리는 게 최고의 방역 정책이라고 생각한다. 2차 접종 비율을 늘리는 것이 가장 중요하다\"라고 단언했다.이처럼 신속한 접종이 시급하지만 현실은 녹록지 않다.당장 이달 중 공급될 예정이던 모더나 백신 물량이 절반 이하로 줄어든 데다 노바백스 백신의 경우 미국 현지의 승인 절차가 늦어지면서 아직 국내 도입 계획은 윤곽조차 나오지 않는 등 집단면역 목표 달성까지는 여전히 변수가 산적해있다.11일 코로나19 예방접종 대응 추진단(추진단)에 따르면 이날 0시 기준 국내 1차 누적 접종 자는 2천163만 5천106명으로, 전체 인구(작년 12월 기준 5천134만 9천116명)의 42.1%가 1차 접종을 마쳤다.백신별 권고 접종 횟수대로 모두 맞은 사람은 총 806만 2천980명으로, 인구 대비 15.7% 수준이다.정부는 오는 9월까지 전체 국민의 70%인 3천600만 명에 대한 1차 접종을 마치고, 11월까지 2차 접종을 완료해 집단면역을 달성하겠다는 목표를 세워 놓은 상태다.이를위해서는 일단 내달까지 약 1천500만 명이 더 1차 접종을 받아야 하는 셈이다.정부는 지금 계획대로 접종이 차질 없이 진행된다면 목표 달성이 충분히 가능하다는 입장이다.손영래 중앙사고 수습본부(중수본) 사회전략 반장은 앞선 브리핑에서 \"9월 말까지 전 국민의 70%까지 1차 접종을 완료한다는 그 계획대로 예방 접종을 진행 중\"이라면서 \"대부분이 화이자와 모더나 접종자인 만큼 4주의 접종 주기를 고려하면 10월 말에서 11월 초에 대부분이 2차 접종까지 완료하게 될 것\"이라고 전망했다.예진표 작성(서울=연합뉴스) 임헌정 기자 = 11일 오전 서울 서대문구 북아현 문화 체육센터에 마련된 예방접종 센터에서 시민들이 예진표를 작성하고 있다. 2021.8.11 kane@yna.co.kr하지만 제조사의 생산 차질 문제로 모더나 백신의 국내 공급 일정이 늦춰지면서 모더나는 물론 같은 mRNA(메신저 리보핵산) 계열인 화이자 백신마저 1·2차 접종 간 격이 4주에서 6주로 2주 늘어난상태다.더욱이 3분기까지 최대 2천만 회분을 들여오기로 했던 노바백스 백신 공급 일정은 오리무중인 상황이다.정부는 모더나 백신 공급 차질에도 11월 집단면역 형성이 가능하고, 심지어 노바백스 백신이 연내에 공급되지 않더라도 이미 확보한 물량으로 4분기 접종까지는 문제가 없다는 입장이다.그러나 백신 수급 불안이 해소되지 않으면 앞으로도 접종 일정은 순차적으로 더 지연될 가능성을 배제할 수 없다.정부가 지금까지 확보한 백신은 5개 종류, 약 1억 9천300만 회(1억 명) 분이다.백신 공동구매 국제 프로젝트인 '코팩스 퍼실러티'로부터 2천만 회(1천만 명) 분을 확보했고, 각 제약사와는 직접 구매 계약을 맺어 1억 7천200만 회(8천900만 명) 분의 물량을 받기로 했다. 제약사별 구체적인 물량은 화이자 6천600만 회(3천300만 명) 분, 모더나 와 노바백스 각 4천만 회(2천만 명) 분, 아스트라제네카 2천만 회(1천만 명) 분, 얀센 700만 회분 등이다.이런 가운데 해외에서는 백신 효능을떨어뜨리는 변이 바이러스의 출현으로 집단면역을 달성하는 것 자체가 불가능하다고 보는 의견도 나온다.외신에 따르면 아스트라제네카(AZ) 백신 임상시험을 이끈 앤드루 폴 러드 영국 옥스퍼드대 교수는 10일(현지시간) 영국 의회 내 코로나19에 관한 초당파 모임에서 \"집단면역이 가능하지 않은 상황\"이라며 \"백신 접종자를 전보다 더 잘 감염시키는 새로운 변이가 나올 것으로 보인다\"라고 예상했다.그러면서 \"앞으로는 상태가 좋지 않은 사람들을 검사하고 중증 입원환자 치료를 개선하는 데 집중해야 한다\"라고 주장했다.백신 접종 부스터 샷 (3차 접종) (PG)[홍수영 제작] 일러스트국내 한 전문가는 백신의 감염예방 효과보다는 변이 바이러스에 감염되더라도 입원하거나 사망하는 비율이 높게 낮아진다는 접종 효과에 더 주목해야 한다고 강조했다.설 대우 중앙대 약학과 교수는 \"백신 자체의 기본 기능이 위중증으로 인한 입원율·사망률을 큰 폭으로 떨어뜨리는 것\"이라며 \"델타 변이와 관련해서도백신으로 아예 손을 쓸 수 없는 것이 아니라 백신은 델타 변이 감염자의 상태가 위중증으로 악화해 입원·사망하는 사례를 줄이는 역할을 할 수 있다\"라고 설명했다.설 교수는 델타 변이가 전체 확진자의 95%가량을 차지하는 영국의 사례를 예로 들면서 \"영국 상황만 봐도 백신 접종 전 일일 확진자가 6만 7천 명에 달한 뒤 그 영향으로 하루 사망자가 1천800명까지 나왔었다\"라며 \"그러나 접종 이후부터 확진자는 절반 정도로 줄고, 사망자는 이보다 더 감소해 100명 안팎까지 떨어졌다\"라고 부연했다.그는 \"국내 일정에 맞춰 백신 접종을 진행하되 가능한 속도를 높여야 한다\"면서 \"할 수만 있다면 백신 물량을 효율적으로 배정해 '부스터 샷'(3차 추가접종)도 시행해야 한다\"라고 덧붙였다.안녕하세요. 반갑습니다.\n"
     ]
    }
   ],
   "source": [
    "with open('data/ch14.txt', 'r', encoding='utf-8') as f:\n",
    "    text = f.read()\n",
    "ready_list = []\n",
    "while len(text) > 500:\n",
    "    temp_str = text[:500]\n",
    "    last_space_idx = temp_str.rfind(' ')\n",
    "    ready_list.append(text[:last_space_idx])\n",
    "    text = text[last_space_idx:] # ready_list에 append된 앞부분 날림\n",
    "ready_list.append(text)\n",
    "# [len(ready) for ready in ready_list]\n",
    "driver = webdriver.Chrome()\n",
    "driver.get('http://www.naver.com')\n",
    "elem = driver.find_element_by_name('query')\n",
    "elem.send_keys('맞춤법 검사기')\n",
    "elem.send_keys(Keys.RETURN)\n",
    "time.sleep(1)\n",
    "# driver.implicitly_wait(1) 1초동안 잠깐 멈춤 위랑 같은 의미\n",
    "textarea = driver.find_element_by_class_name('txt_gray')\n",
    "results = \"\"\n",
    "for ready in ready_list:\n",
    "    textarea.send_keys(Keys.CONTROL, \"a\")\n",
    "    textarea.send_keys(ready)\n",
    "    button = driver.find_element_by_class_name('btn_check')\n",
    "    button.click()\n",
    "    time.sleep(1)\n",
    "    # driver.implicitly_wait(1) 1초동안 잠깐 멈춤 위랑 같은 의미\n",
    "    soup = BeautifulSoup(driver.page_source, \"html.parser\")\n",
    "    result = soup.select_one('p._result_text.stand_txt').text\n",
    "    #results += result.replace('.','.\\n')\n",
    "    results += result\n",
    "print(results)\n",
    "with open('data/ch14_checked.txt', 'w', encoding='utf-8') as f:\n",
    "    f.write(results)\n",
    "driver.close()"
   ]
  },
  {
   "cell_type": "markdown",
   "id": "7cb3c1b0",
   "metadata": {},
   "source": [
    "# 4절. Open API(특정 프로그램을 만들기 위해 제공되는 모듈)를 활용한 공공 DB 수집"
   ]
  },
  {
   "cell_type": "markdown",
   "id": "dab8976e",
   "metadata": {},
   "source": [
    "* 서울시 버스 정보와 버스 위치 정보를 공공데이터 포털 사이트에서 받아옵니다.\n",
    "* 활용신청 -> 인증키발부 -> 도큐먼트를 참조하여 xml파일을 받아옵니다."
   ]
  },
  {
   "cell_type": "code",
   "execution_count": null,
   "id": "1025c389",
   "metadata": {},
   "outputs": [],
   "source": [
    "## 버스번호로 버스 id받아오기"
   ]
  },
  {
   "cell_type": "code",
   "execution_count": 3,
   "id": "af54c1cb",
   "metadata": {},
   "outputs": [
    {
     "name": "stdout",
     "output_type": "stream",
     "text": [
      "http://ws.bus.go.kr/api/rest/busRouteInfo/getBusRouteList?serviceKey=ZS3iEVZ82iG9dvZc3urYq03YK9x0dwPWsaXcaNd1XACv8yWys1TONILRRSHiRNyrFo1qVk379RdHIUhAtRaL5w%3D%3D&strSrch=400\n",
      "100100596\n"
     ]
    }
   ],
   "source": [
    "from bs4 import BeautifulSoup\n",
    "import urllib.request as req\n",
    "# 버스번호\n",
    "busNum = '400'\n",
    "# 일반인증키\n",
    "key = 'ZS3iEVZ82iG9dvZc3urYq03YK9x0dwPWsaXcaNd1XACv8yWys1TONILRRSHiRNyrFo1qVk379RdHIUhAtRaL5w%3D%3D'\n",
    "url1 = \"http://ws.bus.go.kr/api/rest/busRouteInfo/getBusRouteList?serviceKey=\"+key+\"&strSrch=\"+busNum\n",
    "print(url1)\n",
    "savefilename = 'c:/bigdata/src/1_businfo.xml'\n",
    "req.urlretrieve(url1, savefilename)\n",
    "xml = open(savefilename, 'r', encoding='utf-8').read()\n",
    "soup = BeautifulSoup(xml, \"xml\")\n",
    "busRouteId = None\n",
    "\n",
    "for itemList in soup.find_all('itemList'):\n",
    "    busRouteNm = itemList.find('busRouteNm').text\n",
    "    if busRouteNm == busNum:\n",
    "        busRouteId = itemList.find('busRouteId').text\n",
    "        break;\n",
    "print(busRouteId)"
   ]
  },
  {
   "cell_type": "code",
   "execution_count": 12,
   "id": "c3ed08ee",
   "metadata": {},
   "outputs": [
    {
     "name": "stdout",
     "output_type": "stream",
     "text": [
      "400번 버스 정류소 및 위치\n",
      "104 개 정류소\n",
      "정류소이름\t위도\t경도\n",
      "염곡동구룡사 37.468475 127.047211\n",
      "구룡사입구 37.4719206884 127.0507511248\n",
      "언남고포이성당앞 37.4720326359 127.0458263366\n",
      "소방서앞 37.4699309709 127.0417267679\n",
      "양재2동주민센터.양재꽃시장 37.4695857229 127.0394643327\n",
      "언남고교 37.4732795382 127.0389281035\n",
      "교육개발원입구 37.477818 127.038758\n",
      "양재역.서초문화예술회관 37.481927 127.036827\n",
      "뱅뱅사거리 37.486653 127.033097\n",
      "래미안아파트.파이낸셜뉴스 37.491087 127.030987\n",
      "신분당선강남역 37.494993 127.029112\n",
      "지하철2호선강남역 37.500785 127.02637\n",
      "논현역 37.506367 127.023728\n",
      "신사역 37.512972 127.020607\n",
      "한남대교전망카페 37.5244775345 127.0160048712\n",
      "한남5거리 37.5328656324 127.0083381045\n",
      "순천향대학병원 37.5364422432 127.0057302453\n",
      "한강진역.블루스퀘어 37.5407264564 127.001669577\n",
      "한남동새마을금고 37.5368442711 127.0003213662\n",
      "이태원119안전센터 37.5347500738 126.9966370647\n",
      "이태원역.보광동입구 37.5336208994 126.9941047683\n",
      "한국폴리텍1대학 37.5303662302 126.9965252457\n",
      "기업은행보광동지점 37.5281820141 126.9988968458\n",
      "보광동주민센터 37.5264591178 127.0005046107\n",
      "보광신동아아파트삼성리버빌아파트 37.5247380028 127.0020297105\n",
      "동빙고동 37.5211822412 126.9968594154\n",
      "서빙고동주민센터 37.5203261231 126.9947800822\n",
      "서빙고역교차로 37.5204258449 126.9900918723\n",
      "국립중앙박물관용산가족공원 37.5208282256 126.9797989863\n",
      "이촌역 37.5226689183 126.9739086458\n",
      "용산세무서 37.5236213922 126.970154424\n",
      "용산철도고등학교 37.5252432638 126.9673665226\n",
      "용산푸르지오써밋 37.527330606 126.9646779694\n",
      "용산역광장앞 37.5283424787 126.9653975717\n",
      "신용산.지하차도 37.5327703191 126.9639636846\n",
      "용산전자상가입구 37.5345701678 126.9622225151\n",
      "남정초등학교 37.5363187485 126.9636632444\n",
      "용산꿈나무종합타운.보건분소 37.5384268178 126.9649997667\n",
      "효창공원앞역.이봉창역사울림관 37.5392080537 126.9620345918\n",
      "국민은행효창동지점 37.5416239572 126.9622336676\n",
      "숙명여대정문 37.5449594985 126.9641094647\n",
      "숙명여대도서관앞 37.5448412411 126.9664464653\n",
      "숙대입구역 37.5444252003 126.9708398554\n",
      "남영우체국 37.5451241168 126.973235384\n",
      "남영동주민센터 37.5453624049 126.9750573355\n",
      "용산중고 37.54679039 126.978350169\n",
      "후암시장 37.5497467332 126.9775446282\n",
      "후암삼거리 37.5533418143 126.9760823693\n",
      "남대문경찰서 37.5540144353 126.9737449241\n",
      "숭례문 37.5584195299 126.9740436876\n",
      "남대문시장앞.이회영활동터 37.5609394169 126.978580386\n",
      "롯데영프라자 37.562885 126.982008\n",
      "을지로입구.시청입구 37.5661382638 126.9811712097\n",
      "시청앞 37.562764205 126.976148714\n",
      "숭례문.한국일보 37.5587713091 126.9737375955\n",
      "서울역 37.5535629948 126.973780169\n",
      "후암3거리 37.5525408404 126.9765772255\n",
      "후암시장 37.5506891863 126.9770644706\n",
      "용산중고 37.5469110901 126.9780966281\n",
      "남영동주민센터 37.5457484198 126.976752502\n",
      "남영우체국 37.5453224193 126.9735080526\n",
      "숙명여대입구 37.5448844577 126.9696434774\n",
      "숙명여대도서관앞 37.5448468654 126.9672216718\n",
      "숙명여대정문 37.5451307674 126.9643096929\n",
      "숙명여대후문.이봉창활동터 37.5459093844 126.9632082782\n",
      "효창공원후문 37.5467620916 126.9625026885\n",
      "한겨레신문사입구 37.5458806239 126.9591928852\n",
      "대한노인회 37.5435687851 126.9576924158\n",
      "효창운동장.효창동주민센터 37.5422095196 126.9617671315\n",
      "서울금양초등학교.국민은행효창동지점 37.5412679213 126.9619135936\n",
      "효창공원앞역.이봉창역사울림관 37.5388068257 126.9624982594\n",
      "용산꿈나무종합타운.보건분소 37.538295 126.964648\n",
      "원효로2가 37.536237441 126.9629911361\n",
      "용산전자상가입구 37.5344763909 126.9620268068\n",
      "신용산.지하차도 37.5325504129 126.9638381932\n",
      "용산역 37.5287491072 126.9654698469\n",
      "용산푸르지오써밋 37.527252133 126.9644200412\n",
      "용산철도고등학교 37.5255972846 126.9660149714\n",
      "용산세무서 37.5236283885 126.969325126\n",
      "이촌역 37.5223012804 126.9739562906\n",
      "국립중앙박물관용산가족공원 37.5209306979 126.978370088\n",
      "서빙고역1번출구 37.5200094838 126.9894776223\n",
      "서빙고동 37.5198043185 126.9934202794\n",
      "동빙고동 37.5207461002 126.9965437932\n",
      "보광동신동아아파트 37.5256237907 127.0015149467\n",
      "기업은행보광동지점 37.5278738421 126.9994127849\n",
      "한국폴리텍1대학 37.5305599639 126.9964449019\n",
      "이태원역.보광동입구 37.5336290179 126.9942801537\n",
      "이태원119안전센터 37.5345410337 126.9971949215\n",
      "한남동주민센터 37.5367073033 127.0006042579\n",
      "한강진역.블루스퀘어 37.5408748585 127.0021070988\n",
      "서울시중부기술교육원.블루스퀘어 37.5411748997 127.0031776354\n",
      "순천향대학병원.한남오거리 37.5354906847 127.0057290409\n",
      "신사역.푸른저축은행 37.5144890979 127.0199389362\n",
      "논현역 37.5072264964 127.0230319441\n",
      "지하철2호선강남역 37.501817 127.025438\n",
      "신분당선강남역 37.4960417459 127.0284005454\n",
      "래미안아파트.파이낸셜뉴스 37.491895 127.030405\n",
      "뱅뱅사거리 37.487667 127.032432\n",
      "양재역 37.4832966004 127.0348614229\n",
      "일동제약사거리 37.4788621279 127.0382039618\n",
      "시민의숲 37.473135 127.038353\n",
      "AT센터.양재꽃시장 37.468707 127.039655\n",
      "도로교통공단서울지부.코트라 37.4662408667 127.0443893195\n"
     ]
    }
   ],
   "source": [
    "# 버스 ID로 노선목록 출력(busRouteId, key) - 4번 서비스\n",
    "url2 = 'http://ws.bus.go.kr/api/rest/busRouteInfo/getStaionByRoute?serviceKey='+key+'&busRouteId='+busRouteId\n",
    "# print(url2)\n",
    "savefilename = 'c:/bigdata/src/2_satation.xml'\n",
    "req.urlretrieve(url2, savefilename)\n",
    "xml = open(savefilename, 'r', encoding='utf-8').read()\n",
    "soup = BeautifulSoup(xml, 'xml')\n",
    "busStation = []\n",
    "for itemList in soup.find_all('itemList'):\n",
    "    stationNm = itemList.find('stationNm').text\n",
    "    gpsX      = itemList.find('gpsX').text\n",
    "    gpsY      = itemList.find('gpsY').text\n",
    "    busStation.append( (stationNm, gpsX, gpsY) )\n",
    "print(busNum + '번 버스 정류소 및 위치')\n",
    "print(len(busStation), '개 정류소')\n",
    "print('정류소이름\\t위도\\t경도')\n",
    "for stationNm, gpsX, gpsY in busStation:\n",
    "    print(stationNm, gpsY, gpsX )"
   ]
  },
  {
   "cell_type": "code",
   "execution_count": 18,
   "id": "32deded7",
   "metadata": {},
   "outputs": [
    {
     "name": "stdout",
     "output_type": "stream",
     "text": [
      "400 번 운행중인 버스 위치 ( 18 대 운행중)\n",
      "차량번호, 위도, 경도, 만차여부\n",
      "서울74사5750 37.46886 127.047625 0\n",
      "서울75사2633 37.471904 127.038615 0\n",
      "서울74사3139 37.491384 127.03085 0\n",
      "서울74사3158 37.532866 127.008338 0\n",
      "서울74사3194 37.534566 126.994575 0\n",
      "서울74사5755 37.520426 126.990092 0\n",
      "서울74사2046 37.532775 126.963827 0\n",
      "서울74사3195 37.544471 126.963869 0\n",
      "서울70사5707 37.549692 126.977475 0\n",
      "서울74사3165 37.566138 126.981171 0\n",
      "서울74사3149 37.54517 126.965587 0\n",
      "서울74사3161 37.538375 126.964749 0\n",
      "서울74사4428 37.523848 126.969051 0\n",
      "서울75사2636 37.534673 126.99747 0\n",
      "서울75사2631 37.517249 127.019016 0\n",
      "서울74사4400 37.493393 127.02962 0\n",
      "서울74사3102 37.478887 127.038251 0\n",
      "서울74사3193 37.466459 127.04176 0\n"
     ]
    }
   ],
   "source": [
    "# 버스 위치 정보 조회 서비스(인증키, 버스id) - 2번 서비스\n",
    "key = 'ZS3iEVZ82iG9dvZc3urYq03YK9x0dwPWsaXcaNd1XACv8yWys1TONILRRSHiRNyrFo1qVk379RdHIUhAtRaL5w%3D%3D'\n",
    "url3 = 'http://ws.bus.go.kr/api/rest/buspos/getBusPosByRtid?serviceKey='+key+'&busRouteId='+busRouteId\n",
    "# print(url3)\n",
    "savefilename = 'c:/bigdata/src/3_busPosition.xml'\n",
    "req.urlretrieve(url3, savefilename)\n",
    "xml = open(savefilename, 'r', encoding='utf-8').read()\n",
    "soup = BeautifulSoup(xml, 'xml')\n",
    "busPos = []\n",
    "for itemList in soup.find_all('itemList'):\n",
    "    plainNo = itemList.find('plainNo').text\n",
    "    gpsX = itemList.find('gpsX').text\n",
    "    gpsY = itemList.find('gpsY').text\n",
    "    isFullFlag = itemList.find('isFullFlag').text\n",
    "    busPos.append( (plainNo, gpsY, gpsX, isFullFlag))\n",
    "print(busNum, '번 운행중인 버스 위치 (', len(busPos), '대 운행중)')\n",
    "if len(busPos) != 0 :\n",
    "    print('차량번호, 위도, 경도, 만차여부')\n",
    "    for no, x, y, isFull in busPos:\n",
    "        print(no, x, y, isFull)"
   ]
  },
  {
   "cell_type": "code",
   "execution_count": null,
   "id": "8d87829f",
   "metadata": {},
   "outputs": [],
   "source": []
  },
  {
   "cell_type": "code",
   "execution_count": null,
   "id": "e29cc063",
   "metadata": {},
   "outputs": [],
   "source": []
  },
  {
   "cell_type": "code",
   "execution_count": null,
   "id": "3d4228cc",
   "metadata": {},
   "outputs": [],
   "source": []
  }
 ],
 "metadata": {
  "kernelspec": {
   "display_name": "Python 3 (ipykernel)",
   "language": "python",
   "name": "python3"
  },
  "language_info": {
   "codemirror_mode": {
    "name": "ipython",
    "version": 3
   },
   "file_extension": ".py",
   "mimetype": "text/x-python",
   "name": "python",
   "nbconvert_exporter": "python",
   "pygments_lexer": "ipython3",
   "version": "3.9.7"
  },
  "toc": {
   "base_numbering": 1,
   "nav_menu": {},
   "number_sections": false,
   "sideBar": true,
   "skip_h1_title": false,
   "title_cell": "Table of Contents",
   "title_sidebar": "Contents",
   "toc_cell": false,
   "toc_position": {},
   "toc_section_display": true,
   "toc_window_display": false
  },
  "varInspector": {
   "cols": {
    "lenName": 16,
    "lenType": 16,
    "lenVar": 40
   },
   "kernels_config": {
    "python": {
     "delete_cmd_postfix": "",
     "delete_cmd_prefix": "del ",
     "library": "var_list.py",
     "varRefreshCmd": "print(var_dic_list())"
    },
    "r": {
     "delete_cmd_postfix": ") ",
     "delete_cmd_prefix": "rm(",
     "library": "var_list.r",
     "varRefreshCmd": "cat(var_dic_list()) "
    }
   },
   "types_to_exclude": [
    "module",
    "function",
    "builtin_function_or_method",
    "instance",
    "_Feature"
   ],
   "window_display": false
  }
 },
 "nbformat": 4,
 "nbformat_minor": 5
}
