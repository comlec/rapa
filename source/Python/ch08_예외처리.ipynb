{
 "cells": [
  {
   "cell_type": "code",
   "execution_count": null,
   "id": "13195023-d0f1-4b63-aad0-a4314c3139ae",
   "metadata": {},
   "outputs": [],
   "source": [
    "# 주피터 노트북 구버전\n",
    "from IPython.display import display, HTML\n",
    "display(HTML(\"\"\"\n",
    "<style>\n",
    "div.container{width:97% !important;}\n",
    "div.CodeMirror {font-family:Consolas; font-size:22pt;}\n",
    "div.output {font-size:22pt; font-weight:bold;}\n",
    "div.input {font-family:Consolas; font-size:22pt;}\n",
    "div.prompt {min-width:70px;}\n",
    "</style>\n",
    "\"\"\"))"
   ]
  },
  {
   "cell_type": "code",
   "execution_count": 6,
   "id": "6278ffc9-0ad0-4b3f-9e12-07b4ee0a5581",
   "metadata": {},
   "outputs": [
    {
     "data": {
      "text/html": [
       "\n",
       "<style>\n",
       "div.jp-WindowedPanel-outer.lm-Widget{padding:5px;}\n",
       "div.lm-Widget{font-size:19pt;}\n",
       "div.cm-content {font-family:Consolas; font-size:19pt;}\n",
       "div.jp-OutputArea-output pre {font-size:19pt; font-weight:bold;}\n",
       "input.jp-Stdin-input {font-family:Consolas; font-size:19pt;}\n",
       "</style>\n"
      ],
      "text/plain": [
       "<IPython.core.display.HTML object>"
      ]
     },
     "metadata": {},
     "output_type": "display_data"
    }
   ],
   "source": [
    "# 주피터 노트북 새버전\n",
    "from IPython.display import display, HTML\n",
    "display(HTML(\"\"\"\n",
    "<style>\n",
    "div.jp-WindowedPanel-outer.lm-Widget{padding:5px;}\n",
    "div.lm-Widget{font-size:19pt;}\n",
    "div.cm-content {font-family:Consolas; font-size:19pt;}\n",
    "div.jp-OutputArea-output pre {font-size:19pt; font-weight:bold;}\n",
    "input.jp-Stdin-input {font-family:Consolas; font-size:19pt;}\n",
    "</style>\n",
    "\"\"\"))"
   ]
  },
  {
   "cell_type": "markdown",
   "id": "9e783e45-57c8-448d-81e4-50c2bf7d24e4",
   "metadata": {},
   "source": [
    "<font color=\"red\" size=\"6\"><b>ch08. 예외처리</b></font>"
   ]
  },
  {
   "cell_type": "markdown",
   "id": "1181094f-9cbe-48aa-b03d-ae72dd7b4dd9",
   "metadata": {},
   "source": [
    "# 1절. 예외처리\n",
    "- 예외가 날 가능성이 있는 부분을 미리 예상하고 그에 대한 처리를 프로그래밍하는 것 (이유 : 안정적으로 실행될 수 있도록 하기 위함)"
   ]
  },
  {
   "cell_type": "code",
   "execution_count": 5,
   "id": "b4bea814-a004-4a8a-b93a-92c72d7b67e7",
   "metadata": {},
   "outputs": [
    {
     "name": "stdin",
     "output_type": "stream",
     "text": [
      "파일명? ch08.txt\n"
     ]
    },
    {
     "data": {
      "text/plain": [
       "['This is Test File\\n', 'Hello, Python\\n', '테스트 파일입니다']"
      ]
     },
     "execution_count": 5,
     "metadata": {},
     "output_type": "execute_result"
    }
   ],
   "source": [
    "# 있는 파일의 경우 예외 발생 안 함\n",
    "filename = input('파일명?')\n",
    "f = open('data/'+filename , 'r', encoding=\"utf-8\") # encoding의 default값은 cp949\n",
    "f.readlines()"
   ]
  },
  {
   "cell_type": "code",
   "execution_count": 7,
   "id": "1b464363-1c79-4e16-9dca-e9d65c7675ae",
   "metadata": {},
   "outputs": [],
   "source": [
    "f.close()"
   ]
  },
  {
   "cell_type": "code",
   "execution_count": 8,
   "id": "d1a71018-8b71-4550-8c4b-c655873c9320",
   "metadata": {},
   "outputs": [
    {
     "name": "stdin",
     "output_type": "stream",
     "text": [
      "파일명? z.txt\n"
     ]
    },
    {
     "ename": "FileNotFoundError",
     "evalue": "[Errno 2] No such file or directory: 'data/z.txt'",
     "output_type": "error",
     "traceback": [
      "\u001b[1;31m------------------------------------------------------------\u001b[0m",
      "\u001b[1;31mFileNotFoundError\u001b[0m          Traceback (most recent call last)",
      "Cell \u001b[1;32mIn[8], line 3\u001b[0m\n\u001b[0;32m      1\u001b[0m \u001b[38;5;66;03m# 없는 파일명의 경우 예외 발생\u001b[39;00m\n\u001b[0;32m      2\u001b[0m filename \u001b[38;5;241m=\u001b[39m \u001b[38;5;28minput\u001b[39m(\u001b[38;5;124m'\u001b[39m\u001b[38;5;124m파일명?\u001b[39m\u001b[38;5;124m'\u001b[39m)\n\u001b[1;32m----> 3\u001b[0m f \u001b[38;5;241m=\u001b[39m \u001b[38;5;28mopen\u001b[39m(\u001b[38;5;124m'\u001b[39m\u001b[38;5;124mdata/\u001b[39m\u001b[38;5;124m'\u001b[39m\u001b[38;5;241m+\u001b[39mfilename , \u001b[38;5;124m'\u001b[39m\u001b[38;5;124mr\u001b[39m\u001b[38;5;124m'\u001b[39m, encoding\u001b[38;5;241m=\u001b[39m\u001b[38;5;124m\"\u001b[39m\u001b[38;5;124mutf-8\u001b[39m\u001b[38;5;124m\"\u001b[39m) \u001b[38;5;66;03m# encoding의 default값은 cp949\u001b[39;00m\n\u001b[0;32m      4\u001b[0m f\u001b[38;5;241m.\u001b[39mreadlines()\n",
      "File \u001b[1;32m~\\anaconda3\\Lib\\site-packages\\IPython\\core\\interactiveshell.py:310\u001b[0m, in \u001b[0;36m_modified_open\u001b[1;34m(file, *args, **kwargs)\u001b[0m\n\u001b[0;32m    303\u001b[0m \u001b[38;5;28;01mif\u001b[39;00m file \u001b[38;5;129;01min\u001b[39;00m {\u001b[38;5;241m0\u001b[39m, \u001b[38;5;241m1\u001b[39m, \u001b[38;5;241m2\u001b[39m}:\n\u001b[0;32m    304\u001b[0m     \u001b[38;5;28;01mraise\u001b[39;00m \u001b[38;5;167;01mValueError\u001b[39;00m(\n\u001b[0;32m    305\u001b[0m         \u001b[38;5;124mf\u001b[39m\u001b[38;5;124m\"\u001b[39m\u001b[38;5;124mIPython won\u001b[39m\u001b[38;5;124m'\u001b[39m\u001b[38;5;124mt let you open fd=\u001b[39m\u001b[38;5;132;01m{\u001b[39;00mfile\u001b[38;5;132;01m}\u001b[39;00m\u001b[38;5;124m by default \u001b[39m\u001b[38;5;124m\"\u001b[39m\n\u001b[0;32m    306\u001b[0m         \u001b[38;5;124m\"\u001b[39m\u001b[38;5;124mas it is likely to crash IPython. If you know what you are doing, \u001b[39m\u001b[38;5;124m\"\u001b[39m\n\u001b[0;32m    307\u001b[0m         \u001b[38;5;124m\"\u001b[39m\u001b[38;5;124myou can use builtins\u001b[39m\u001b[38;5;124m'\u001b[39m\u001b[38;5;124m open.\u001b[39m\u001b[38;5;124m\"\u001b[39m\n\u001b[0;32m    308\u001b[0m     )\n\u001b[1;32m--> 310\u001b[0m \u001b[38;5;28;01mreturn\u001b[39;00m io_open(file, \u001b[38;5;241m*\u001b[39margs, \u001b[38;5;241m*\u001b[39m\u001b[38;5;241m*\u001b[39mkwargs)\n",
      "\u001b[1;31mFileNotFoundError\u001b[0m: [Errno 2] No such file or directory: 'data/z.txt'"
     ]
    }
   ],
   "source": [
    "# 없는 파일명의 경우 예외 발생\n",
    "filename = input('파일명?')\n",
    "f = open('data/'+filename , 'r', encoding=\"utf-8\") # encoding의 default값은 cp949\n",
    "f.readlines()"
   ]
  },
  {
   "cell_type": "code",
   "execution_count": 10,
   "id": "f5b406bb-5eee-42ed-a036-218f4bbc5abb",
   "metadata": {},
   "outputs": [
    {
     "name": "stdin",
     "output_type": "stream",
     "text": [
      "나눌 숫자를 입력하세요 >> 0\n"
     ]
    },
    {
     "ename": "ZeroDivisionError",
     "evalue": "division by zero",
     "output_type": "error",
     "traceback": [
      "\u001b[1;31m------------------------------------------------------------\u001b[0m",
      "\u001b[1;31mZeroDivisionError\u001b[0m          Traceback (most recent call last)",
      "Cell \u001b[1;32mIn[10], line 4\u001b[0m\n\u001b[0;32m      1\u001b[0m \u001b[38;5;66;03m# ValueError예외 객체 : 숫자가 아닌 문자를 입력했을 경우\u001b[39;00m\n\u001b[0;32m      3\u001b[0m num \u001b[38;5;241m=\u001b[39m \u001b[38;5;28mint\u001b[39m(\u001b[38;5;28minput\u001b[39m(\u001b[38;5;124m'\u001b[39m\u001b[38;5;124m나눌 숫자를 입력하세요 >>\u001b[39m\u001b[38;5;124m'\u001b[39m))\n\u001b[1;32m----> 4\u001b[0m \u001b[38;5;241m100\u001b[39m\u001b[38;5;241m/\u001b[39mnum\n",
      "\u001b[1;31mZeroDivisionError\u001b[0m: division by zero"
     ]
    }
   ],
   "source": [
    "# ValueError예외 객체 : 숫자가 아닌 문자를 입력했을 경우\n",
    "# ZeroDivisionError 예외 객체 : 0을 입력했을 경우\n",
    "num = int(input('나눌 숫자를 입력하세요 >>'))\n",
    "100/num"
   ]
  },
  {
   "cell_type": "code",
   "execution_count": 13,
   "id": "41522559-f98b-44a1-be1d-2fcc2838ae32",
   "metadata": {},
   "outputs": [
    {
     "ename": "IndexError",
     "evalue": "list index out of range",
     "output_type": "error",
     "traceback": [
      "\u001b[1;31m------------------------------------------------------------\u001b[0m",
      "\u001b[1;31mIndexError\u001b[0m                 Traceback (most recent call last)",
      "Cell \u001b[1;32mIn[13], line 3\u001b[0m\n\u001b[0;32m      1\u001b[0m \u001b[38;5;66;03m# 인덱스를 벗어났을 경우\u001b[39;00m\n\u001b[0;32m      2\u001b[0m a \u001b[38;5;241m=\u001b[39m [\u001b[38;5;241m1\u001b[39m,\u001b[38;5;241m2\u001b[39m,\u001b[38;5;241m3\u001b[39m]\n\u001b[1;32m----> 3\u001b[0m a[\u001b[38;5;241m3\u001b[39m]\n",
      "\u001b[1;31mIndexError\u001b[0m: list index out of range"
     ]
    }
   ],
   "source": [
    "# 인덱스를 벗어났을 경우\n",
    "a = [1,2,3]\n",
    "a[3]"
   ]
  },
  {
   "cell_type": "code",
   "execution_count": null,
   "id": "fb28caf9-ca4b-43ae-a771-757dcb01be0e",
   "metadata": {},
   "outputs": [],
   "source": []
  },
  {
   "cell_type": "markdown",
   "id": "71628143-a240-4081-bc41-df6395f0debe",
   "metadata": {},
   "source": [
    "# 2절. try~ except로 예외 처리\n",
    "```\n",
    "try:\n",
    "    예외가 발생할 가능성이 있는 명령어1\n",
    "    명령어.....\n",
    "except [예외 타입  [as 예외객체변수명]]:\n",
    "    예외가 발생했을 경우\n",
    "[else:\n",
    "    예외가 발생되지 않을 경우 수행 명령어]\n",
    "[finally:\n",
    "    예외가 발생되든 안되든 반드시 실행할 명령어]\n",
    "``"
   ]
  },
  {
   "cell_type": "code",
   "execution_count": 16,
   "id": "4614d64b-0c76-4094-bc8e-ab7ab91915e9",
   "metadata": {},
   "outputs": [
    {
     "name": "stdin",
     "output_type": "stream",
     "text": [
      "100을 나눌 정수를 입력하세요 >> 0\n"
     ]
    },
    {
     "name": "stdout",
     "output_type": "stream",
     "text": [
      "입력한 수는 0\n"
     ]
    },
    {
     "ename": "ZeroDivisionError",
     "evalue": "division by zero",
     "output_type": "error",
     "traceback": [
      "\u001b[1;31m------------------------------------------------------------\u001b[0m",
      "\u001b[1;31mZeroDivisionError\u001b[0m          Traceback (most recent call last)",
      "Cell \u001b[1;32mIn[16], line 5\u001b[0m\n\u001b[0;32m      3\u001b[0m x \u001b[38;5;241m=\u001b[39m \u001b[38;5;28mint\u001b[39m(\u001b[38;5;28minput\u001b[39m(\u001b[38;5;124m'\u001b[39m\u001b[38;5;124m100을 나눌 정수를 입력하세요 >>\u001b[39m\u001b[38;5;124m'\u001b[39m))\n\u001b[0;32m      4\u001b[0m \u001b[38;5;28mprint\u001b[39m(\u001b[38;5;124m\"\u001b[39m\u001b[38;5;124m입력한 수는 \u001b[39m\u001b[38;5;132;01m{}\u001b[39;00m\u001b[38;5;124m\"\u001b[39m\u001b[38;5;241m.\u001b[39mformat(x))\n\u001b[1;32m----> 5\u001b[0m \u001b[38;5;28mprint\u001b[39m(\u001b[38;5;124m\"\u001b[39m\u001b[38;5;124m100을 입력한 정수로 나누면 \u001b[39m\u001b[38;5;132;01m{:.2f}\u001b[39;00m\u001b[38;5;124m입니다\u001b[39m\u001b[38;5;124m\"\u001b[39m\u001b[38;5;241m.\u001b[39mformat( \u001b[38;5;241m100\u001b[39m\u001b[38;5;241m/\u001b[39mx ))\n",
      "\u001b[1;31mZeroDivisionError\u001b[0m: division by zero"
     ]
    }
   ],
   "source": [
    "# 100을 입력받은 정수값으로 나눠 출력한다\n",
    "# ValueError\n",
    "# ZeroDivisionError\n",
    "x = int(input('100을 나눌 정수를 입력하세요 >>'))\n",
    "print(\"입력한 수는 {}\".format(x))\n",
    "print(\"100을 입력한 정수로 나누면 {:.2f}입니다\".format( 100/x ))"
   ]
  },
  {
   "cell_type": "code",
   "execution_count": 18,
   "id": "3840c04a-7749-4b2b-a19e-fefb4b5990a4",
   "metadata": {},
   "outputs": [
    {
     "name": "stdin",
     "output_type": "stream",
     "text": [
      "100을 나눌 정수를 입력하세요 >> ㅁ\n"
     ]
    },
    {
     "name": "stdout",
     "output_type": "stream",
     "text": [
      "유효한 정수가 아닙니다\n"
     ]
    }
   ],
   "source": [
    "# 100을 입력받은 정수값으로 나눠 출력한다\n",
    "# ValueError\n",
    "# ZeroDivisionError\n",
    "try:\n",
    "    x = int(input('100을 나눌 정수를 입력하세요 >>'))\n",
    "    print(\"입력한 수는 {}\".format(x))\n",
    "    print(\"100을 입력한 정수로 나누면 {:.2f}입니다\".format( 100/x ))\n",
    "except:\n",
    "    print('유효한 정수가 아닙니다')"
   ]
  },
  {
   "cell_type": "code",
   "execution_count": 23,
   "id": "c25748ed-08ab-45f3-ba66-00439bc394a8",
   "metadata": {},
   "outputs": [
    {
     "name": "stdin",
     "output_type": "stream",
     "text": [
      "100을 나눌 정수를 입력하세요 >> a\n"
     ]
    },
    {
     "name": "stdout",
     "output_type": "stream",
     "text": [
      "0으로는 나눌 수 없습니다\n"
     ]
    }
   ],
   "source": [
    "# 100을 입력받은 정수값으로 나눠 출력한다\n",
    "# ValueError\n",
    "# ZeroDivisionError\n",
    "try:\n",
    "    x = int(input('100을 나눌 정수를 입력하세요 >>'))\n",
    "    print(\"입력한 수는 {}\".format(x))\n",
    "    print(\"100을 입력한 정수로 나누면 {:.2f}입니다\".format( 100/x ))\n",
    "except ValueError:\n",
    "    print('유효한 숫자를 입력하세요')\n",
    "except ZeroDivisionError:\n",
    "    print('0으로는 나눌 수 없습니다')\n",
    "except Exception: # except절이 많을 경우 상위 클래스를 아래에 명시\n",
    "    print('알 수 없는 혹시 모를 예외입니다')"
   ]
  },
  {
   "cell_type": "code",
   "execution_count": null,
   "id": "48c10257-2e1b-44c0-ba0a-8b6a0e6a4d8f",
   "metadata": {},
   "outputs": [],
   "source": []
  },
  {
   "cell_type": "code",
   "execution_count": 25,
   "id": "7cda186f-8677-49bf-96cb-2cce29715f1f",
   "metadata": {},
   "outputs": [
    {
     "name": "stdin",
     "output_type": "stream",
     "text": [
      "100을 나눌 정수를 입력하세요 >> a\n"
     ]
    },
    {
     "name": "stdout",
     "output_type": "stream",
     "text": [
      "유효한 숫자를 입력하세요\n"
     ]
    },
    {
     "name": "stdin",
     "output_type": "stream",
     "text": [
      "100을 나눌 정수를 입력하세요 >> 0\n"
     ]
    },
    {
     "name": "stdout",
     "output_type": "stream",
     "text": [
      "입력한 수는 0\n",
      "유효한 숫자를 입력하세요\n"
     ]
    },
    {
     "name": "stdin",
     "output_type": "stream",
     "text": [
      "100을 나눌 정수를 입력하세요 >> 4\n"
     ]
    },
    {
     "name": "stdout",
     "output_type": "stream",
     "text": [
      "입력한 수는 4\n",
      "100을 입력한 정수로 나누면 25.00입니다\n"
     ]
    }
   ],
   "source": [
    "# 100을 입력받은 정수값으로 나눠 출력한다. 유효한 숫자를 입력할 때까지 수를 입력받음\n",
    "# ValueError\n",
    "# ZeroDivisionError\n",
    "while True:\n",
    "    try:\n",
    "        x = int(input('100을 나눌 정수를 입력하세요 >>'))\n",
    "        print(\"입력한 수는 {}\".format(x))\n",
    "        print(\"100을 입력한 정수로 나누면 {:.2f}입니다\".format( 100/x ))\n",
    "        break\n",
    "    except (ValueError, ZeroDivisionError):\n",
    "        print('유효한 숫자를 입력하세요')\n",
    "    except Exception: # except절이 많을 경우 상위 클래스를 아래에 명시\n",
    "        print('알 수 없는 혹시 모를 예외입니다')"
   ]
  },
  {
   "cell_type": "code",
   "execution_count": 27,
   "id": "8f8500e9-b820-40e9-a311-bdc45a735562",
   "metadata": {},
   "outputs": [
    {
     "name": "stdin",
     "output_type": "stream",
     "text": [
      "100을 나눌 정수를 입력하세요 >> 0\n"
     ]
    },
    {
     "name": "stdout",
     "output_type": "stream",
     "text": [
      "입력한 수는 0\n",
      "division by zero\n",
      "예외 객체의 타입 : <class 'ZeroDivisionError'>\n",
      "예외 메세지 e.args : ('division by zero',)\n"
     ]
    },
    {
     "name": "stdin",
     "output_type": "stream",
     "text": [
      "100을 나눌 정수를 입력하세요 >> 3\n"
     ]
    },
    {
     "name": "stdout",
     "output_type": "stream",
     "text": [
      "입력한 수는 3\n",
      "100을 입력한 정수로 나누면 33.33입니다\n"
     ]
    }
   ],
   "source": [
    "# 100을 입력받은 정수값으로 나눠 출력한다. 유효한 숫자를 입력할 때까지 수를 입력받음\n",
    "# ValueError\n",
    "# ZeroDivisionError\n",
    "while True:\n",
    "    try:\n",
    "        x = int(input('100을 나눌 정수를 입력하세요 >>'))\n",
    "        print(\"입력한 수는 {}\".format(x))\n",
    "        print(\"100을 입력한 정수로 나누면 {:.2f}입니다\".format( 100/x ))\n",
    "        break\n",
    "    except (ValueError, ZeroDivisionError) as e:\n",
    "        print(e) #print(e.__str__())\n",
    "        print('예외 객체의 타입 :', type(e))\n",
    "        print('예외 메세지 e.args :', e.args)"
   ]
  },
  {
   "cell_type": "code",
   "execution_count": 30,
   "id": "701be43c-c528-453d-b1e4-b3834d82f84c",
   "metadata": {},
   "outputs": [
    {
     "name": "stdout",
     "output_type": "stream",
     "text": [
      "This is Test File\n",
      "Hello, Python\n",
      "테스트 파일입니다\n"
     ]
    }
   ],
   "source": [
    "try:\n",
    "    f = open('data/ch08.txt', 'r', encoding=\"utf-8\")\n",
    "    data = f.read() # 파일을 끝까지 텍스트 형태로 읽어서 반환\n",
    "    print(data)\n",
    "except FileNotFoundError as e:\n",
    "    print(e)\n",
    "finally:\n",
    "    f.close() # 중요"
   ]
  },
  {
   "cell_type": "code",
   "execution_count": 31,
   "id": "f64e3a85-82a4-43e2-8da2-8680d6f7fd9c",
   "metadata": {},
   "outputs": [
    {
     "name": "stdout",
     "output_type": "stream",
     "text": [
      "This is Test File\n",
      "Hello, Python\n",
      "테스트 파일입니다\n"
     ]
    }
   ],
   "source": [
    "try:\n",
    "    f = open('data/ch08.txt', 'r', encoding=\"utf-8\")\n",
    "    data = f.read() # 파일을 끝까지 텍스트 형태로 읽어서 반환\n",
    "    #print(data)\n",
    "except FileNotFoundError as e:\n",
    "    print(e)\n",
    "else:\n",
    "    print(data)\n",
    "finally:\n",
    "    f.close() # 중요"
   ]
  },
  {
   "cell_type": "markdown",
   "id": "5398e151-9a93-4b9c-affa-95fedbc5d227",
   "metadata": {},
   "source": [
    "# 3절. 강제로 예외발생(raise)"
   ]
  },
  {
   "cell_type": "code",
   "execution_count": 34,
   "id": "bfa0017c-348f-4a2e-b004-ecf9a09f0cfb",
   "metadata": {},
   "outputs": [
    {
     "ename": "Exception",
     "evalue": "예외가 발생했습니다",
     "output_type": "error",
     "traceback": [
      "\u001b[1;31m------------------------------------------------------------\u001b[0m",
      "\u001b[1;31mException\u001b[0m                  Traceback (most recent call last)",
      "Cell \u001b[1;32mIn[34], line 1\u001b[0m\n\u001b[1;32m----> 1\u001b[0m \u001b[38;5;28;01mraise\u001b[39;00m \u001b[38;5;167;01mException\u001b[39;00m(\u001b[38;5;124m\"\u001b[39m\u001b[38;5;124m예외가 발생했습니다\u001b[39m\u001b[38;5;124m\"\u001b[39m)\n",
      "\u001b[1;31mException\u001b[0m: 예외가 발생했습니다"
     ]
    }
   ],
   "source": [
    "raise Exception(\"예외가 발생했습니다\")"
   ]
  },
  {
   "cell_type": "code",
   "execution_count": 38,
   "id": "2c8d4b48-04f5-498f-b33c-d0468c635af5",
   "metadata": {},
   "outputs": [],
   "source": [
    "# 사용자 정의 예외 타입 : 기존 파이썬에서 제공되는 Exception 상속\n",
    "class LengthZeroError(Exception):\n",
    "    \"길이가 0일때 발생하는 예외\"\n",
    "    def __init__(self):\n",
    "        super().__init__(\"매개 변수 길이가 0이면 예외\")"
   ]
  },
  {
   "cell_type": "code",
   "execution_count": 39,
   "id": "cd901feb-00a6-4c3d-896f-5dd8f92e4fc0",
   "metadata": {},
   "outputs": [
    {
     "ename": "LengthZeroError",
     "evalue": "매개 변수 길이가 0이면 예외",
     "output_type": "error",
     "traceback": [
      "\u001b[1;31m------------------------------------------------------------\u001b[0m",
      "\u001b[1;31mLengthZeroError\u001b[0m            Traceback (most recent call last)",
      "Cell \u001b[1;32mIn[39], line 1\u001b[0m\n\u001b[1;32m----> 1\u001b[0m \u001b[38;5;28;01mraise\u001b[39;00m LengthZeroError()\n",
      "\u001b[1;31mLengthZeroError\u001b[0m: 매개 변수 길이가 0이면 예외"
     ]
    }
   ],
   "source": [
    "raise LengthZeroError()"
   ]
  },
  {
   "cell_type": "code",
   "execution_count": 41,
   "id": "3b5249e5-db7c-48ef-910d-c2a4e8d81ed6",
   "metadata": {},
   "outputs": [],
   "source": [
    "def insert(*data): # 튜플 매개변수\n",
    "    if len(data)==0:\n",
    "        raise LengthZeroError()\n",
    "    for item in data:\n",
    "        print(item, end=\" \")\n",
    "    print(\"등을 입력하셨습니다\")"
   ]
  },
  {
   "cell_type": "code",
   "execution_count": 44,
   "id": "df74b7af-45a4-4382-8117-1cbbbcdf1087",
   "metadata": {},
   "outputs": [
    {
     "name": "stdout",
     "output_type": "stream",
     "text": [
      "2 3 4 등을 입력하셨습니다\n"
     ]
    }
   ],
   "source": [
    "insert(2,3,4)"
   ]
  },
  {
   "cell_type": "code",
   "execution_count": 45,
   "id": "81a0ff31-e476-402b-9411-d7c3f8f373fe",
   "metadata": {},
   "outputs": [
    {
     "name": "stdout",
     "output_type": "stream",
     "text": [
      "1 2 3 등을 입력하셨습니다\n"
     ]
    }
   ],
   "source": [
    "l = (1,2,3)\n",
    "insert(*l) # 언패킹"
   ]
  },
  {
   "cell_type": "markdown",
   "id": "1d46a55e-dd6b-44d8-8ee8-8243311aa96a",
   "metadata": {},
   "source": [
    "# 4절. 파일 정리 작업(with절 이용)"
   ]
  },
  {
   "cell_type": "code",
   "execution_count": 46,
   "id": "b760e197-05f1-4701-a551-ef9c6bef0244",
   "metadata": {},
   "outputs": [
    {
     "name": "stdout",
     "output_type": "stream",
     "text": [
      "['This is Test File\\n', 'Hello, Python\\n', '테스트 파일입니다']\n"
     ]
    }
   ],
   "source": [
    "# 파일 입출력시 자원 반납 필수(close)\n",
    "try:\n",
    "    f = open('data/ch08.txt','r', encoding=\"utf-8\")\n",
    "    lines = f.readlines() # 한줄한줄 모든 줄을 list형태로 반환\n",
    "    print(lines)\n",
    "except Exception:\n",
    "    print('없는 파일이거나 encoding 확인 요망', e)\n",
    "finally:\n",
    "    f.close()"
   ]
  },
  {
   "cell_type": "code",
   "execution_count": 47,
   "id": "128f86eb-b232-4a82-aacc-b749307382f1",
   "metadata": {},
   "outputs": [
    {
     "name": "stdout",
     "output_type": "stream",
     "text": [
      "['This is Test File\\n', 'Hello, Python\\n', '테스트 파일입니다']\n"
     ]
    }
   ],
   "source": [
    "# with절 이용시 자동 close()실행\n",
    "with open('data/ch08.txt','r',encoding=\"UTF-8\") as f:\n",
    "    lines = f.readlines()\n",
    "print(lines)"
   ]
  },
  {
   "cell_type": "markdown",
   "id": "ea5797e2-f724-4371-848c-f70d7c75ef32",
   "metadata": {},
   "source": [
    "# 연습문제"
   ]
  },
  {
   "cell_type": "code",
   "execution_count": 48,
   "id": "cc126fb2-6673-4f9b-bd70-6de082f51361",
   "metadata": {},
   "outputs": [
    {
     "name": "stdin",
     "output_type": "stream",
     "text": [
      "첫번째 숫자를 입력하세요 3\n",
      "두번째 숫자를 입력하세요 2\n"
     ]
    },
    {
     "name": "stdout",
     "output_type": "stream",
     "text": [
      "입력한 수는 3.0와 2.0\n",
      "3.0을 2.0로 나누면 1.5입니다\n"
     ]
    }
   ],
   "source": [
    "# 실습형 연습문제\n",
    "while True:\n",
    "    try:\n",
    "        num1 = float(input('첫번째 숫자를 입력하세요'))\n",
    "        num2 = float(input('두번째 숫자를 입력하세요'))\n",
    "        print('입력한 수는 {}와 {}'.format(num1, num2))\n",
    "        print('{}을 {}로 나누면 {}입니다'.format(num1, num2, num1/num2))\n",
    "        break\n",
    "    except:\n",
    "        print('유효한 숫자가 아닙니다. 다시 시도하세요')"
   ]
  },
  {
   "cell_type": "code",
   "execution_count": 49,
   "id": "d9f29f4a-7e84-4686-8aa2-aadc3450e58d",
   "metadata": {},
   "outputs": [],
   "source": [
    "# 연습문제(문제풀이형) 1(3) 2(2) 3(4) 4(3)"
   ]
  }
 ],
 "metadata": {
  "kernelspec": {
   "display_name": "Python 3 (ipykernel)",
   "language": "python",
   "name": "python3"
  },
  "language_info": {
   "codemirror_mode": {
    "name": "ipython",
    "version": 3
   },
   "file_extension": ".py",
   "mimetype": "text/x-python",
   "name": "python",
   "nbconvert_exporter": "python",
   "pygments_lexer": "ipython3",
   "version": "3.11.7"
  }
 },
 "nbformat": 4,
 "nbformat_minor": 5
}
