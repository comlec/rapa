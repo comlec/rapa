{
 "cells": [
  {
   "cell_type": "code",
   "execution_count": null,
   "id": "cc1d473f-5f2e-4af4-a447-dd79a74a18df",
   "metadata": {},
   "outputs": [],
   "source": [
    "# 주피터 노트북 구버전\n",
    "from IPython.display import display, HTML\n",
    "display(HTML(\"\"\"\n",
    "<style>\n",
    "div.container{width:97% !important;}\n",
    "div.CodeMirror {font-family:Consolas; font-size:22pt;}\n",
    "div.output {font-size:22pt; font-weight:bold;}\n",
    "div.input {font-family:Consolas; font-size:22pt;}\n",
    "div.prompt {min-width:70px;}\n",
    "</style>\n",
    "\"\"\"))"
   ]
  },
  {
   "cell_type": "code",
   "execution_count": 1,
   "id": "bee1f9f6-735d-4eb9-9046-401f22e84836",
   "metadata": {},
   "outputs": [
    {
     "data": {
      "text/html": [
       "\n",
       "<style>\n",
       "div.jp-WindowedPanel-outer.lm-Widget{padding:5px;}\n",
       "div.lm-Widget{font-size:15pt;}\n",
       "div.cm-content {font-family:Consolas; font-size:19pt;}\n",
       "div.jp-OutputArea-output pre {font-size:19pt; font-weight:bold;}\n",
       "input.jp-Stdin-input {font-family:Consolas; font-size:19pt;}\n",
       "td,th{font-size:15pt;}\n",
       "</style>\n"
      ],
      "text/plain": [
       "<IPython.core.display.HTML object>"
      ]
     },
     "metadata": {},
     "output_type": "display_data"
    }
   ],
   "source": [
    "# 주피터 노트북 새버전\n",
    "from IPython.display import display, HTML\n",
    "display(HTML(\"\"\"\n",
    "<style>\n",
    "div.jp-WindowedPanel-outer.lm-Widget{padding:5px;}\n",
    "div.lm-Widget{font-size:15pt;}\n",
    "div.cm-content {font-family:Consolas; font-size:19pt;}\n",
    "div.jp-OutputArea-output pre {font-size:19pt; font-weight:bold;}\n",
    "input.jp-Stdin-input {font-family:Consolas; font-size:19pt;}\n",
    "td,th{font-size:15pt;}\n",
    "</style>\n",
    "\"\"\"))"
   ]
  },
  {
   "cell_type": "markdown",
   "id": "f1aba4f7-88a8-44e3-b12c-280c8ab96b51",
   "metadata": {},
   "source": [
    "<b><font size=\"6\" color=\"red\">ch14. 웹데이터 수집</font></b>"
   ]
  },
  {
   "cell_type": "markdown",
   "id": "84ebf102-faec-4e1d-adc8-ea5e6505278a",
   "metadata": {},
   "source": [
    "# 1절. BeautifulSoup과 parser\n",
    "`pip install bs4` 아나콘다 설치하면 자동 설치되는 패키지 7500개에 포함\n",
    "\n",
    "`pip install requests_file`\n",
    "\n",
    "공식 사이트 : https://www.crummy.com/software/BeautifulSoup <br>\n",
    "Documentation : https://www.crummy.com/software/BeautifulSoup/bs4/doc"
   ]
  },
  {
   "cell_type": "code",
   "execution_count": null,
   "id": "bed96709-a2bc-40fe-ab87-4e5b6eb7a768",
   "metadata": {},
   "outputs": [],
   "source": [
    "import requests\n",
    "from requests_file import FileAdapter"
   ]
  },
  {
   "cell_type": "code",
   "execution_count": null,
   "id": "12eb7a6c-e081-464d-81bf-aa316a993281",
   "metadata": {},
   "outputs": [],
   "source": [
    "s = requests.Session()\n",
    "s.mount(\"file://\", FileAdapter())\n",
    "response = s.get('file:///D:/C_Python_RAPA/source/python/ch12_sample.html')\n",
    "# D:/C_Python_RAPA/source/python/ch12_sample.html\n",
    "response"
   ]
  },
  {
   "cell_type": "code",
   "execution_count": null,
   "id": "7c73c12b-c854-4398-903a-f870623c4792",
   "metadata": {},
   "outputs": [],
   "source": [
    "if response.status_code == 200:\n",
    "    print('success!')\n",
    "if response.status_code == 404:\n",
    "    print('Not found')"
   ]
  },
  {
   "cell_type": "code",
   "execution_count": null,
   "id": "1854fc27-49a2-4f0b-813c-b137ed71607d",
   "metadata": {},
   "outputs": [],
   "source": [
    "response.content.decode('utf-8')"
   ]
  },
  {
   "cell_type": "code",
   "execution_count": null,
   "id": "321efd31-584a-441e-b50f-1e1ec152af49",
   "metadata": {},
   "outputs": [],
   "source": [
    "# html 파싱\n",
    "from bs4 import BeautifulSoup\n",
    "soup=BeautifulSoup(response.content,\"html.parser\")\n",
    "soup"
   ]
  },
  {
   "cell_type": "code",
   "execution_count": null,
   "id": "259de9e2-2c66-4cca-b15f-98174274e495",
   "metadata": {},
   "outputs": [],
   "source": [
    "el = soup.select_one('h1')\n",
    "print(el)\n",
    "print('el.text :', el.text)\n",
    "print('el의 속성들 :', el.attrs)\n",
    "print('el의 class속성 :', el.attrs['class'])\n",
    "print('el의 name :', el.name)"
   ]
  },
  {
   "cell_type": "code",
   "execution_count": null,
   "id": "73707a0c-f6cf-4b83-9180-56fabe4d398e",
   "metadata": {},
   "outputs": [],
   "source": [
    "# h1태그들 다 : 없는 태그는 빈스트링. 한 엘리먼트만 있어도 리스트로 반환\n",
    "el = soup.select(\"h1\")\n",
    "print('el : ', el)\n",
    "print('el의 text들 :', [e.text for e in el])\n",
    "print('el의 string :', [e.string for e in el])\n",
    "print('el의 속성들 :', [e.attrs for e in el])\n",
    "print('el의 class속성들 :', [e.attrs['class'] for e in el])"
   ]
  },
  {
   "cell_type": "markdown",
   "id": "bb4451d3-7617-49c8-a501-af2a29a53671",
   "metadata": {},
   "source": [
    "# 2절. 정적 웹 데이터 수집\n",
    "## 2.1 request 모듈 : 네이버 환율정보 가져오기"
   ]
  },
  {
   "cell_type": "code",
   "execution_count": null,
   "id": "6db84983-5625-450c-8e96-fa11a42faa26",
   "metadata": {},
   "outputs": [],
   "source": [
    "import requests\n",
    "from bs4 import BeautifulSoup\n",
    "from numpy import round\n",
    "url = \"https://finance.naver.com/marketindex\"\n",
    "marketindex = requests.get(url)\n",
    "soup = BeautifulSoup(marketindex.content, \"html.parser\")\n",
    "price = soup.select(\"div.head_info > span.value\")\n",
    "for idx in range(len(price)):\n",
    "    print(price[idx].text)"
   ]
  },
  {
   "cell_type": "code",
   "execution_count": null,
   "id": "0014e88a-030e-4a87-90d4-793eb0c2d4c1",
   "metadata": {},
   "outputs": [],
   "source": [
    "title = soup.select('h3.h_lst > span.blind')\n",
    "for idx in range(len(title)):\n",
    "    print(title[idx].text)"
   ]
  },
  {
   "cell_type": "code",
   "execution_count": null,
   "id": "30a71e04-fb0c-4c99-8e88-8a421968e7df",
   "metadata": {},
   "outputs": [],
   "source": [
    "unit = soup.select('div.head_info > span > span.blind')\n",
    "unit = [u.text for u in unit]\n",
    "unit.insert(7,'')\n",
    "unit"
   ]
  },
  {
   "cell_type": "code",
   "execution_count": null,
   "id": "dcfd4e29-82ee-447b-9230-c02229f0d87c",
   "metadata": {},
   "outputs": [],
   "source": [
    "status = soup.select('div.head_info > span.blind')\n",
    "for idx in range(len(status)):\n",
    "    print(status[idx].text, end=', ')"
   ]
  },
  {
   "cell_type": "code",
   "execution_count": null,
   "id": "06eb451e-21b8-4fb8-a7c1-659f9259b5a2",
   "metadata": {},
   "outputs": [],
   "source": [
    "len(title), len(price), len(unit), len(status)"
   ]
  },
  {
   "cell_type": "code",
   "execution_count": null,
   "id": "94cca83c-c552-484a-92f7-b94799a6c98c",
   "metadata": {},
   "outputs": [],
   "source": [
    "for idx in range(len(title)):\n",
    "    print(\"{} : {}{} - {}\".format(title[idx].text, price[idx].text, \n",
    "                                 unit[idx], status[idx].text))"
   ]
  },
  {
   "cell_type": "markdown",
   "id": "151d00cb-a1c8-4e99-89e9-12d7c1944b74",
   "metadata": {},
   "source": [
    "# 2.2 yest24의 베스트 셀러를 출력"
   ]
  },
  {
   "cell_type": "code",
   "execution_count": null,
   "id": "612abca9-ee0d-4a66-919b-9ae7e879fa07",
   "metadata": {},
   "outputs": [],
   "source": [
    "import requests\n",
    "from urllib.request import urlopen\n",
    "from bs4 import BeautifulSoup\n",
    "url = \"http://www.yes24.com/24/category/bestseller\"\n",
    "# bestseller = requests.get(url)\n",
    "# soup = BeautifulSoup(bestseller.content, \"html.parser\")\n",
    "bestseller = urlopen(url)\n",
    "soup = BeautifulSoup(bestseller, \"html.parser\")\n",
    "authors_ = soup.select(\"div.info_row > span.info_auth.authPub\")\n",
    "for idx in range(len(el)):\n",
    "    print(el[idx].select_one('a').text, end=\"\\n\\n\")"
   ]
  },
  {
   "cell_type": "code",
   "execution_count": null,
   "id": "21b2dca3-163b-4366-b3bd-9243952d3368",
   "metadata": {},
   "outputs": [],
   "source": [
    "import requests\n",
    "from urllib.request import urlopen\n",
    "from bs4 import BeautifulSoup\n",
    "url = \"http://www.yes24.com/24/category/bestseller\"\n",
    "# bestseller = requests.get(url)\n",
    "# soup = BeautifulSoup(bestseller.content, \"html.parser\")\n",
    "bestseller = urlopen(url)\n",
    "soup = BeautifulSoup(bestseller, \"html.parser\")\n",
    "titles=soup.select(\"div.item_info > div.info_row > a.gd_name\")\n",
    "# authors = soup.select(\"div.info_row > span.info_auth.authPub > a\")\n",
    "authors_wrap = soup.select(\"div.info_row > span.info_auth.authPub\")\n",
    "prices = soup.select(\"div.info_row > strong.txt_num > em.yes_b\")\n",
    "# 화면출력\n",
    "print(\"순위,책이름,저자및출판사,가격\")\n",
    "title = []\n",
    "author = []\n",
    "price = []\n",
    "for idx in range(len(titles)):\n",
    "    authors = authors_wrap[idx].select_one('a')\n",
    "    print(\"{},{},{},{}\".format(idx+1, titles[idx].text, authors.text,  prices[idx].text))\n",
    "    # print(\"{},{},{},{}\".format(idx+1, titles[idx].text, authors[idx].text,  prices[idx].text))\n",
    "    title.append(titles[idx].text)\n",
    "    author.append(authors.text)\n",
    "    price.append(prices[idx].text)"
   ]
  },
  {
   "cell_type": "code",
   "execution_count": null,
   "id": "d4ee07d1-2d6d-4aa7-8251-8a6a09b245d2",
   "metadata": {},
   "outputs": [],
   "source": [
    "import pandas as pd\n",
    "df = pd.DataFrame({'순위':range(1,25),\n",
    "                   '책이름':title,\n",
    "                   '저자및출판사':author,\n",
    "                   '가격':price})\n",
    "df"
   ]
  },
  {
   "cell_type": "code",
   "execution_count": null,
   "id": "c078a8bd-cdde-42e3-b8cd-8463e6177121",
   "metadata": {},
   "outputs": [],
   "source": [
    "df.to_csv('data/yes24.csv', encoding='utf-8', index=False)"
   ]
  },
  {
   "cell_type": "code",
   "execution_count": null,
   "id": "19348671-6bf6-4057-8a31-223bc437edc6",
   "metadata": {},
   "outputs": [],
   "source": []
  }
 ],
 "metadata": {
  "kernelspec": {
   "display_name": "Python 3 (ipykernel)",
   "language": "python",
   "name": "python3"
  },
  "language_info": {
   "codemirror_mode": {
    "name": "ipython",
    "version": 3
   },
   "file_extension": ".py",
   "mimetype": "text/x-python",
   "name": "python",
   "nbconvert_exporter": "python",
   "pygments_lexer": "ipython3",
   "version": "3.11.7"
  }
 },
 "nbformat": 4,
 "nbformat_minor": 5
}
