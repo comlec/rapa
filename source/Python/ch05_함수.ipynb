{
 "cells": [
  {
   "cell_type": "code",
   "execution_count": 1,
   "id": "f2493d92-ec86-4655-9fae-bb8c0a2964a1",
   "metadata": {},
   "outputs": [
    {
     "data": {
      "text/html": [
       "\n",
       "<style>\n",
       "div.jp-WindowedPanel-outer.lm-Widget{padding:5px;}\n",
       "div.lm-Widget{width:100%;font-size:19pt;}\n",
       "div.cm-content {font-family:Consolas; font-size:17pt;}\n",
       "div.jp-OutputArea-output pre {font-size:19pt; font-weight:bold;}\n",
       "input.jp-Stdin-input {font-family:Consolas; font-size:19pt;}\n",
       "</style>\n"
      ],
      "text/plain": [
       "<IPython.core.display.HTML object>"
      ]
     },
     "metadata": {},
     "output_type": "display_data"
    }
   ],
   "source": [
    "from IPython.display import display, HTML\n",
    "display(HTML(\"\"\"\n",
    "<style>\n",
    "div.jp-WindowedPanel-outer.lm-Widget{padding:5px;}\n",
    "div.lm-Widget{width:100%;font-size:19pt;}\n",
    "div.cm-content {font-family:Consolas; font-size:17pt;}\n",
    "div.jp-OutputArea-output pre {font-size:19pt; font-weight:bold;}\n",
    "input.jp-Stdin-input {font-family:Consolas; font-size:19pt;}\n",
    "</style>\n",
    "\"\"\"))"
   ]
  },
  {
   "cell_type": "markdown",
   "id": "a9da8bc9-b74b-44e9-90fb-456ff1848bf8",
   "metadata": {},
   "source": [
    "<font size=\"6\" color=\"red\"><b>ch05. 함수</b></font>\n",
    "- 반복해서 사용할 코드를 묶어서 구현해 놓은 것\n",
    "- 같은 이름의 함수는 덮어씀(오버로딩 불가)\n",
    "- 함수 정의(구현)\n",
    "  ```\n",
    "    def 함수명([인수1, 인수2, ...]):\n",
    "      명령어1\n",
    "      명령어2\n",
    "      ...\n",
    "  ```"
   ]
  },
  {
   "cell_type": "markdown",
   "id": "518c81bd-65e2-408d-8305-d189dd97fa6e",
   "metadata": {},
   "source": [
    "# 1절. 함수의 정의 및 사용(호출)\n",
    "## 1.1 함수정의"
   ]
  },
  {
   "cell_type": "code",
   "execution_count": 9,
   "id": "4a6ef4e6-e94c-446e-98fa-2a9eac8a528f",
   "metadata": {},
   "outputs": [],
   "source": [
    "def my_hello(x, msg): # 함수정의\n",
    "    for i in range(x):\n",
    "        print(i, msg)"
   ]
  },
  {
   "cell_type": "code",
   "execution_count": 3,
   "id": "89581bbe-78ac-4647-9d35-debb2fbc6c93",
   "metadata": {},
   "outputs": [
    {
     "name": "stdout",
     "output_type": "stream",
     "text": [
      "0 쉬는 시간입니다\n",
      "1 쉬는 시간입니다\n",
      "2 쉬는 시간입니다\n",
      "3 쉬는 시간입니다\n"
     ]
    }
   ],
   "source": [
    "my_hello(4, '쉬는 시간입니다') # 함수 호출"
   ]
  },
  {
   "cell_type": "code",
   "execution_count": 4,
   "id": "1aeadd0a-5aa6-4128-b697-763b7fd354a5",
   "metadata": {},
   "outputs": [
    {
     "data": {
      "text/plain": [
       "function"
      ]
     },
     "execution_count": 4,
     "metadata": {},
     "output_type": "execute_result"
    }
   ],
   "source": [
    "type(my_hello)"
   ]
  },
  {
   "cell_type": "code",
   "execution_count": 6,
   "id": "e99b6e1a-dc79-4834-8c42-b39ce3b412c0",
   "metadata": {},
   "outputs": [
    {
     "data": {
      "text/plain": [
       "int"
      ]
     },
     "execution_count": 6,
     "metadata": {},
     "output_type": "execute_result"
    }
   ],
   "source": [
    "my_hello = 10\n",
    "type(my_hello)"
   ]
  },
  {
   "cell_type": "code",
   "execution_count": 10,
   "id": "40edaba5-8235-46e9-b0c4-b4853caa5877",
   "metadata": {},
   "outputs": [],
   "source": [
    "def my_hello(x): # 함수정의\n",
    "    for i in range(x):\n",
    "        print(i, \"함수는 복습 필수\")"
   ]
  },
  {
   "cell_type": "code",
   "execution_count": 12,
   "id": "26920b10-af79-423f-94f7-4fdeb8809bb9",
   "metadata": {},
   "outputs": [
    {
     "name": "stdout",
     "output_type": "stream",
     "text": [
      "0 함수는 복습 필수\n",
      "1 함수는 복습 필수\n",
      "2 함수는 복습 필수\n",
      "3 함수는 복습 필수\n"
     ]
    }
   ],
   "source": [
    "my_hello(4)"
   ]
  },
  {
   "cell_type": "code",
   "execution_count": 17,
   "id": "17807345-e0ff-449b-8626-c988e59fd5e4",
   "metadata": {},
   "outputs": [
    {
     "name": "stdout",
     "output_type": "stream",
     "text": [
      "6\n",
      "3\n"
     ]
    }
   ],
   "source": [
    "def my_add(num1, num2, num3=0): # num3은 기본값을 갖는 인수\n",
    "                    # 기본값을 갖는 인수는 순서인수 뒤에\n",
    "    return num1 + num2 + num3\n",
    "print(my_add(1, 2, 3))\n",
    "print(my_add(1,2))"
   ]
  },
  {
   "cell_type": "markdown",
   "id": "b65d7193-f2a2-4f0c-a62e-d09c60442e29",
   "metadata": {},
   "source": [
    "## 1.2 docstring\n",
    "- 함수 도움말 (shift+tab로 볼 수 있음)"
   ]
  },
  {
   "cell_type": "code",
   "execution_count": 18,
   "id": "ba9524f3-bbe1-4146-98e2-755c1162d9c4",
   "metadata": {},
   "outputs": [],
   "source": [
    "def fibonacci(n):\n",
    "    \"\"\"\"\n",
    "    인수로 들어온 n값 미만의 피보나치 수열을 출력하는 함수\n",
    "    ex. 인수로 10 : 0, 1, 1, 2, 3, 5, 8\n",
    "    ex. 인수로  5 : 0, 1, 1, 2, 3\n",
    "    \"\"\"\n",
    "    a, b = 0, 1\n",
    "    while a<n:\n",
    "        print(a, end=\". \")\n",
    "        a, b = b, a+b\n",
    "    print() # 개행"
   ]
  },
  {
   "cell_type": "code",
   "execution_count": 19,
   "id": "eb47c04b-1366-4d43-96fc-ed85b97f32b6",
   "metadata": {},
   "outputs": [
    {
     "name": "stdout",
     "output_type": "stream",
     "text": [
      "0. 1. 1. 2. 3. 5. 8. 13. 21. 34. 55. 89. \n"
     ]
    }
   ],
   "source": [
    "fibonacci(100)"
   ]
  },
  {
   "cell_type": "code",
   "execution_count": 20,
   "id": "30bddd2a-28ff-416c-a5cf-70221700d1cf",
   "metadata": {},
   "outputs": [
    {
     "data": {
      "text/plain": [
       "function"
      ]
     },
     "execution_count": 20,
     "metadata": {},
     "output_type": "execute_result"
    }
   ],
   "source": [
    "type(fibonacci)"
   ]
  },
  {
   "cell_type": "code",
   "execution_count": 21,
   "id": "cd89b436-3d73-41b9-87b8-358a0b7a102c",
   "metadata": {},
   "outputs": [
    {
     "data": {
      "text/plain": [
       "<function __main__.fibonacci(n)>"
      ]
     },
     "execution_count": 21,
     "metadata": {},
     "output_type": "execute_result"
    }
   ],
   "source": [
    "fibonacci"
   ]
  },
  {
   "cell_type": "code",
   "execution_count": 22,
   "id": "55223814-b539-40bb-8159-0c6849a64c4a",
   "metadata": {},
   "outputs": [
    {
     "data": {
      "text/plain": [
       "'__main__'"
      ]
     },
     "execution_count": 22,
     "metadata": {},
     "output_type": "execute_result"
    }
   ],
   "source": [
    "__name__"
   ]
  },
  {
   "cell_type": "code",
   "execution_count": 23,
   "id": "0dd816c1-10a1-4a43-922d-cad0d7e46051",
   "metadata": {},
   "outputs": [
    {
     "name": "stdout",
     "output_type": "stream",
     "text": [
      "0. 1. 1. 2. 3. 5. 8. 13. 21. 34. 55. 89. \n"
     ]
    }
   ],
   "source": [
    "if __name__ == '__main__':\n",
    "    fibonacci(100)"
   ]
  },
  {
   "cell_type": "code",
   "execution_count": 42,
   "id": "3266249c-25fe-4684-91b7-cd13b1b18f33",
   "metadata": {},
   "outputs": [],
   "source": [
    "import fibonacci as fibo# fibonacci.py가 해석되서 메모리 로드"
   ]
  },
  {
   "cell_type": "code",
   "execution_count": 44,
   "id": "9641fd17-239d-446c-810f-2de0e3144338",
   "metadata": {},
   "outputs": [
    {
     "name": "stdout",
     "output_type": "stream",
     "text": [
      "0. 1. 1. 2. 3. 5. 8. 13. 21. 34. 55. 89. \n"
     ]
    }
   ],
   "source": [
    "fibo.fibonacci(100)"
   ]
  },
  {
   "cell_type": "markdown",
   "id": "c526e609-1c5f-4498-8740-3e4e5e4df1e6",
   "metadata": {},
   "source": [
    "## 1.3 지역변수(local var)와 전역변수(global var)"
   ]
  },
  {
   "cell_type": "code",
   "execution_count": 29,
   "id": "d1e2dded-9160-4a85-ad7e-29fa8ca8babd",
   "metadata": {},
   "outputs": [
    {
     "name": "stdout",
     "output_type": "stream",
     "text": [
      "100\n",
      "100\n"
     ]
    }
   ],
   "source": [
    "global_var = 100 # 전역변수\n",
    "def func1():\n",
    "    print(global_var)\n",
    "func1()\n",
    "print(global_var)"
   ]
  },
  {
   "cell_type": "code",
   "execution_count": 31,
   "id": "017fa91e-0c94-4a57-a6f2-b985dfca4002",
   "metadata": {},
   "outputs": [
    {
     "name": "stdout",
     "output_type": "stream",
     "text": [
      "100\n"
     ]
    }
   ],
   "source": [
    "def func2():\n",
    "    local_var = 100 # 지역변수 : 함수내에서만 사용 가능한 변수\n",
    "    print(local_var)\n",
    "func2()"
   ]
  },
  {
   "cell_type": "code",
   "execution_count": 32,
   "id": "e6db54d2-09e0-47f2-8da0-a361f7da089d",
   "metadata": {},
   "outputs": [
    {
     "ename": "NameError",
     "evalue": "name 'local_var' is not defined",
     "output_type": "error",
     "traceback": [
      "\u001b[1;31m------------------------------------------------------------\u001b[0m",
      "\u001b[1;31mNameError\u001b[0m                  Traceback (most recent call last)",
      "Cell \u001b[1;32mIn[32], line 1\u001b[0m\n\u001b[1;32m----> 1\u001b[0m local_var\n",
      "\u001b[1;31mNameError\u001b[0m: name 'local_var' is not defined"
     ]
    }
   ],
   "source": [
    "local_var"
   ]
  },
  {
   "cell_type": "code",
   "execution_count": 33,
   "id": "af037f4d-25b1-4796-b255-0888368e08be",
   "metadata": {},
   "outputs": [
    {
     "name": "stdout",
     "output_type": "stream",
     "text": [
      "200\n"
     ]
    }
   ],
   "source": [
    "g_var = 100 # 전역변수\n",
    "def func3():\n",
    "    g_var = 200 # 지역변수 선언\n",
    "    print(g_var)\n",
    "func3()"
   ]
  },
  {
   "cell_type": "code",
   "execution_count": 34,
   "id": "798e53b9-15b9-4d7e-aca2-8b84aca5b9fc",
   "metadata": {},
   "outputs": [
    {
     "data": {
      "text/plain": [
       "100"
      ]
     },
     "execution_count": 34,
     "metadata": {},
     "output_type": "execute_result"
    }
   ],
   "source": [
    "g_var"
   ]
  },
  {
   "cell_type": "markdown",
   "id": "bde36563-9727-4698-ac50-b06005be1bf1",
   "metadata": {},
   "source": [
    "## 4.1 Lexical 특성"
   ]
  },
  {
   "cell_type": "code",
   "execution_count": 35,
   "id": "848bbf7f-3c72-44c3-8ed4-8ec7b3bbb3f4",
   "metadata": {},
   "outputs": [
    {
     "ename": "UnboundLocalError",
     "evalue": "cannot access local variable 'g_var' where it is not associated with a value",
     "output_type": "error",
     "traceback": [
      "\u001b[1;31m------------------------------------------------------------\u001b[0m",
      "\u001b[1;31mUnboundLocalError\u001b[0m          Traceback (most recent call last)",
      "Cell \u001b[1;32mIn[35], line 6\u001b[0m\n\u001b[0;32m      4\u001b[0m     g_var \u001b[38;5;241m=\u001b[39m \u001b[38;5;241m200\u001b[39m \u001b[38;5;66;03m# 지역변수 선언\u001b[39;00m\n\u001b[0;32m      5\u001b[0m     \u001b[38;5;28mprint\u001b[39m(g_var)\n\u001b[1;32m----> 6\u001b[0m func3()\n",
      "Cell \u001b[1;32mIn[35], line 3\u001b[0m, in \u001b[0;36mfunc3\u001b[1;34m()\u001b[0m\n\u001b[0;32m      2\u001b[0m \u001b[38;5;28;01mdef\u001b[39;00m \u001b[38;5;21mfunc3\u001b[39m():\n\u001b[1;32m----> 3\u001b[0m     \u001b[38;5;28mprint\u001b[39m(g_var)\n\u001b[0;32m      4\u001b[0m     g_var \u001b[38;5;241m=\u001b[39m \u001b[38;5;241m200\u001b[39m \u001b[38;5;66;03m# 지역변수 선언\u001b[39;00m\n\u001b[0;32m      5\u001b[0m     \u001b[38;5;28mprint\u001b[39m(g_var)\n",
      "\u001b[1;31mUnboundLocalError\u001b[0m: cannot access local variable 'g_var' where it is not associated with a value"
     ]
    }
   ],
   "source": [
    "g_var = 100 # 전역변수\n",
    "def func3():\n",
    "    print(g_var)\n",
    "    g_var = 200 # 지역변수 선언\n",
    "    print(g_var)\n",
    "func3()"
   ]
  },
  {
   "cell_type": "markdown",
   "id": "8e76fc7c-f2ff-4528-91b1-9d17e13e11a5",
   "metadata": {},
   "source": [
    "## 1.5 전역변수 수정"
   ]
  },
  {
   "cell_type": "code",
   "execution_count": 40,
   "id": "b21278af-0431-4463-b0bb-110ffa018415",
   "metadata": {},
   "outputs": [
    {
     "name": "stdout",
     "output_type": "stream",
     "text": [
      "100\n",
      "200\n"
     ]
    }
   ],
   "source": [
    "g_var = 100 # 전역변수\n",
    "def func3():\n",
    "    global g_var # 함수내에서의 g_var는 전역변수를 쓸거야\n",
    "    print(g_var)\n",
    "    g_var = 200 # 전역변수에 값을 할당\n",
    "    print(g_var)\n",
    "func3()"
   ]
  },
  {
   "cell_type": "code",
   "execution_count": 39,
   "id": "79207a4a-5bfd-44fb-baed-3c9b5ba5e762",
   "metadata": {},
   "outputs": [
    {
     "data": {
      "text/plain": [
       "200"
      ]
     },
     "execution_count": 39,
     "metadata": {},
     "output_type": "execute_result"
    }
   ],
   "source": [
    "g_var"
   ]
  },
  {
   "cell_type": "markdown",
   "id": "be1ff9f5-0a24-46d8-8f47-904ae6961c29",
   "metadata": {},
   "source": [
    "## 1.6 값에 의한 호출 (call by value)\n",
    "- 함수에 인수로 전달되는 변수가 스칼라 변수(숫자, 문자, 논리)일 경우"
   ]
  },
  {
   "cell_type": "code",
   "execution_count": 41,
   "id": "ad8c541e-5257-4ee0-9e14-210db51d9b58",
   "metadata": {},
   "outputs": [
    {
     "data": {
      "text/plain": [
       "2187939483952"
      ]
     },
     "execution_count": 41,
     "metadata": {},
     "output_type": "execute_result"
    }
   ],
   "source": [
    "foo = 'ab' #스칼라 변수\n",
    "id(foo)"
   ]
  },
  {
   "cell_type": "code",
   "execution_count": 46,
   "id": "cf6b9491-6f5f-4203-9b60-1e9a8f7fe7e3",
   "metadata": {},
   "outputs": [
    {
     "name": "stdout",
     "output_type": "stream",
     "text": [
      "Before : ab의 주소는 2187939483952\n",
      "after : ababab의 주소는 2188019500400\n",
      "함수 호출 후 foo : ab의 주소는 2187939483952\n"
     ]
    }
   ],
   "source": [
    "def func1(f):\n",
    "    print(\"Before : {}의 주소는 {}\".format(f, id(f) ) )\n",
    "    f *= 3 # 매개변수는 지역변수\n",
    "    print(\"after : {}의 주소는 {}\".format(f, id(f) ) )\n",
    "func1(foo)\n",
    "print(\"함수 호출 후 foo : {}의 주소는 {}\".format(foo, id(foo) ) )"
   ]
  },
  {
   "cell_type": "markdown",
   "id": "0a003f50-51f2-473e-9f54-ba6c8eccdddf",
   "metadata": {},
   "source": [
    "## 1.7 참조에 의한 호출(call by reference)\n",
    "- 함수에 전달되는 인수가 리스트, 딕셔너리, 셋일 경우"
   ]
  },
  {
   "cell_type": "code",
   "execution_count": 47,
   "id": "f9b9cb6c-8fc2-4ab2-b437-8989ac67d9cd",
   "metadata": {},
   "outputs": [
    {
     "name": "stdout",
     "output_type": "stream",
     "text": [
      "L의 내용은 [1, 2, 3], 주소는 2188019344704\n"
     ]
    }
   ],
   "source": [
    "L = [1,2,3]\n",
    "print(\"L의 내용은 {}, 주소는 {}\".format(L, id(L) ) )"
   ]
  },
  {
   "cell_type": "code",
   "execution_count": 48,
   "id": "ca64c20c-d5e0-4d46-bf41-7f4367607538",
   "metadata": {},
   "outputs": [
    {
     "name": "stdout",
     "output_type": "stream",
     "text": [
      "함수 내 befer : L의 내용은 [1, 2, 3], 주소는 2188019344704\n",
      "함수 내 after : L의 내용은 [1, 2, 3, 4], 주소는 2188019344704\n",
      "L의 내용은 [1, 2, 3, 4], 주소는 2188019344704\n"
     ]
    }
   ],
   "source": [
    "def func2(f):\n",
    "    print(\"함수 내 befer : L의 내용은 {}, 주소는 {}\".format(L, id(L) ) )\n",
    "    f.append(4)\n",
    "    print(\"함수 내 after : L의 내용은 {}, 주소는 {}\".format(L, id(L) ) )\n",
    "func2(L)\n",
    "print(\"L의 내용은 {}, 주소는 {}\".format(L, id(L) ) )"
   ]
  },
  {
   "cell_type": "markdown",
   "id": "714ab1c4-1d75-4eaf-86c4-050f621a90ba",
   "metadata": {},
   "source": [
    "# 2절. 함수의 실행결과를 반환하는 return\n",
    "- 여러 개의 값을 반환할 수 있다(하나의 튜플로 반환)"
   ]
  },
  {
   "cell_type": "code",
   "execution_count": 50,
   "id": "03f2594b-e0e8-49c3-bac8-88b5a2f593dd",
   "metadata": {},
   "outputs": [],
   "source": [
    "# 여러값을 return\n",
    "def swap(a, b):\n",
    "    return b, a"
   ]
  },
  {
   "cell_type": "code",
   "execution_count": 51,
   "id": "31fb90b9-122c-4854-bd00-7c24cbf78eb2",
   "metadata": {},
   "outputs": [
    {
     "name": "stdout",
     "output_type": "stream",
     "text": [
      "함수 실행 전 x=5, y=10\n",
      "함수 실행 후 x=10, y=5\n"
     ]
    }
   ],
   "source": [
    "x, y = 5, 10\n",
    "print(\"함수 실행 전 x={}, y={}\".format(x, y))\n",
    "x, y = swap(x, y)\n",
    "print(\"함수 실행 후 x={}, y={}\".format(x, y))"
   ]
  },
  {
   "cell_type": "markdown",
   "id": "2a3bef17-afb4-4641-a5e8-5ef4df460c48",
   "metadata": {},
   "source": [
    "# 3절. 함수의 매개변수 ★\n",
    "## 3.1 기본값을 갖는 매개변수"
   ]
  },
  {
   "cell_type": "code",
   "execution_count": 52,
   "id": "631ff08c-fb10-4297-a996-e26d90e20432",
   "metadata": {},
   "outputs": [],
   "source": [
    "def make_url(ip, port=80):\n",
    "    # 순서인수, 기본값을 갖는 인수 순으로 \n",
    "    return \"http://{}:{}\".format(ip, port)"
   ]
  },
  {
   "cell_type": "code",
   "execution_count": 54,
   "id": "caf972a3-4499-4b1e-af77-34546a3cd57a",
   "metadata": {},
   "outputs": [
    {
     "name": "stdout",
     "output_type": "stream",
     "text": [
      "http://localhost:80\n",
      "http://localhost:8090\n",
      "http://localhost:8090\n"
     ]
    }
   ],
   "source": [
    "print(make_url(\"localhost\"))\n",
    "print(make_url(\"localhost\",8090))\n",
    "print(make_url(port=8090, ip=\"localhost\"))"
   ]
  },
  {
   "cell_type": "markdown",
   "id": "bea3e039-64b7-4e88-8aab-c9ca4bce4aeb",
   "metadata": {},
   "source": [
    "## 2. 튜플 매개변수로 이용한 가변인수(인수갯수가 가변) 설정"
   ]
  },
  {
   "cell_type": "code",
   "execution_count": 60,
   "id": "817895a8-8a23-41e9-aa05-7ff8bfc36c04",
   "metadata": {},
   "outputs": [
    {
     "name": "stdout",
     "output_type": "stream",
     "text": [
      "Hello world\n"
     ]
    }
   ],
   "source": [
    "print( 'Hello', 'world' ) # 인수의 갯수가 가변 = 가변인수"
   ]
  },
  {
   "cell_type": "code",
   "execution_count": 66,
   "id": "18e6780f-249b-4981-9dd5-31e924d07227",
   "metadata": {},
   "outputs": [],
   "source": [
    "# args앞에 * : args가 튜플로 전달 : 튜플매개변수\n",
    "def add(*args):\n",
    "    # print(\"전달받은 args :\", args)\n",
    "    # print(type(args))\n",
    "    sum = 0\n",
    "    for num in args:\n",
    "        sum += num;\n",
    "    return sum"
   ]
  },
  {
   "cell_type": "code",
   "execution_count": 69,
   "id": "560f7bf7-a6ea-4471-9511-7b3141eb62b0",
   "metadata": {},
   "outputs": [
    {
     "name": "stdout",
     "output_type": "stream",
     "text": [
      "21\n",
      "1\n",
      "3\n"
     ]
    }
   ],
   "source": [
    "print(add( 1,2,3,4,5,6 ))\n",
    "print(add( 1))\n",
    "print(add( 1,2 ))"
   ]
  },
  {
   "cell_type": "code",
   "execution_count": null,
   "id": "f6996471-9331-4e26-9c19-8a90df4fe992",
   "metadata": {},
   "outputs": [],
   "source": []
  },
  {
   "cell_type": "code",
   "execution_count": null,
   "id": "cc2e623d-37df-4b98-b0ee-086f427bb824",
   "metadata": {},
   "outputs": [],
   "source": []
  },
  {
   "cell_type": "code",
   "execution_count": null,
   "id": "ca525c87-95f5-49cf-857c-f8788d438a26",
   "metadata": {},
   "outputs": [],
   "source": []
  },
  {
   "cell_type": "code",
   "execution_count": null,
   "id": "eee68c45-df0a-46de-b1d3-9bfef7fb6545",
   "metadata": {},
   "outputs": [],
   "source": []
  },
  {
   "cell_type": "code",
   "execution_count": null,
   "id": "a6d329f9-32d3-4910-9699-a59b30a9be3b",
   "metadata": {},
   "outputs": [],
   "source": []
  },
  {
   "cell_type": "code",
   "execution_count": null,
   "id": "04650a42-899f-4105-a8b1-3d0ec8ed2ed5",
   "metadata": {},
   "outputs": [],
   "source": []
  },
  {
   "cell_type": "code",
   "execution_count": null,
   "id": "3e5067ad-930c-4690-8c32-5d28bc83b837",
   "metadata": {},
   "outputs": [],
   "source": []
  },
  {
   "cell_type": "code",
   "execution_count": null,
   "id": "3d507b6b-2323-4777-89ac-476a553b0a65",
   "metadata": {},
   "outputs": [],
   "source": []
  },
  {
   "cell_type": "code",
   "execution_count": null,
   "id": "5c4ad96e-0516-4604-a34d-f5023b245e2d",
   "metadata": {},
   "outputs": [],
   "source": []
  },
  {
   "cell_type": "code",
   "execution_count": null,
   "id": "d6a76a91-6af7-491d-8867-83e58e915a36",
   "metadata": {},
   "outputs": [],
   "source": []
  }
 ],
 "metadata": {
  "kernelspec": {
   "display_name": "Python 3 (ipykernel)",
   "language": "python",
   "name": "python3"
  },
  "language_info": {
   "codemirror_mode": {
    "name": "ipython",
    "version": 3
   },
   "file_extension": ".py",
   "mimetype": "text/x-python",
   "name": "python",
   "nbconvert_exporter": "python",
   "pygments_lexer": "ipython3",
   "version": "3.11.7"
  }
 },
 "nbformat": 4,
 "nbformat_minor": 5
}
