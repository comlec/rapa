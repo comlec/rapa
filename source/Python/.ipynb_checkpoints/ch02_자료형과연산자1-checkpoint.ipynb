{
 "cells": [
  {
   "cell_type": "code",
   "execution_count": 53,
   "id": "dbc0361d-ee9a-47c1-81af-8ed8534dbbcb",
   "metadata": {},
   "outputs": [
    {
     "data": {
      "text/html": [
       "\n",
       "<style>\n",
       "div.jp-WindowedPanel-outer.lm-Widget{padding:5px;}\n",
       "div.lm-Widget{width:100%;font-size:19pt;}\n",
       "div.cm-content {font-family:Consolas; font-size:17pt;}\n",
       "div.jp-OutputArea-output pre {font-size:19pt; font-weight:bold;}\n",
       "input.jp-Stdin-input {font-family:Consolas; font-size:19pt;}\n",
       "</style>\n"
      ],
      "text/plain": [
       "<IPython.core.display.HTML object>"
      ]
     },
     "metadata": {},
     "output_type": "display_data"
    }
   ],
   "source": [
    "from IPython.display import display, HTML\n",
    "display(HTML(\"\"\"\n",
    "<style>\n",
    "div.jp-WindowedPanel-outer.lm-Widget{padding:5px;}\n",
    "div.lm-Widget{width:100%;font-size:19pt;}\n",
    "div.cm-content {font-family:Consolas; font-size:17pt;}\n",
    "div.jp-OutputArea-output pre {font-size:19pt; font-weight:bold;}\n",
    "input.jp-Stdin-input {font-family:Consolas; font-size:19pt;}\n",
    "</style>\n",
    "\"\"\"))"
   ]
  },
  {
   "cell_type": "markdown",
   "id": "ffb519e0-a932-42c0-bd36-7f9ddc131c3c",
   "metadata": {},
   "source": [
    "<font size=\"8\" color=\"red\"><b>ch02. 자료형과 연산자</b></font>"
   ]
  },
  {
   "cell_type": "markdown",
   "id": "730337e4-0650-4885-b251-2f98434d6802",
   "metadata": {},
   "source": [
    "# 1절. 변수\n",
    "## 1.1 변수선언\n",
    "    - 별도의 변수 선언과정 없음\n",
    "## 1.2 변수 할당\n",
    "    - 대입연산자(=) 사용"
   ]
  },
  {
   "cell_type": "code",
   "execution_count": 7,
   "id": "879ad8ec-4d95-4799-8400-fc6d457f8576",
   "metadata": {},
   "outputs": [
    {
     "name": "stdout",
     "output_type": "stream",
     "text": [
      "제공되는 pi값은 3.141592653589793\n",
      "계산된 넓이는 78.53981633974483\n",
      "area타입은 <class 'float'>\n",
      "area 주소는 1273592635920\n"
     ]
    }
   ],
   "source": [
    "import numpy as np\n",
    "print('제공되는 pi값은', np.pi)\n",
    "r = 5\n",
    "area = np.pi * r * r\n",
    "# printf(\"계산된 넓이는 %lf\", area)\n",
    "print(\"계산된 넓이는\", area)\n",
    "print('area타입은', type(area) )\n",
    "print('area 주소는', id(area))"
   ]
  },
  {
   "cell_type": "code",
   "execution_count": 8,
   "id": "296ba3b5-c510-4ad9-8fc3-cf946201fc39",
   "metadata": {},
   "outputs": [
    {
     "name": "stdout",
     "output_type": "stream",
     "text": [
      "area 값은 10\n",
      "area타입은 <class 'int'>\n",
      "area 주소는 140727940924488\n"
     ]
    }
   ],
   "source": [
    "area = 10\n",
    "print(\"area 값은\", area)\n",
    "print('area타입은', type(area) )\n",
    "print('area 주소는', id(area))"
   ]
  },
  {
   "cell_type": "code",
   "execution_count": 9,
   "id": "62bee36e-243f-4997-a830-afbf0ca0f475",
   "metadata": {},
   "outputs": [
    {
     "name": "stdout",
     "output_type": "stream",
     "text": [
      "area 값은 파이썬은 좋아요\n",
      "area타입은 <class 'str'>\n",
      "area 주소는 1273563428880\n"
     ]
    }
   ],
   "source": [
    "area = '파이썬은 좋아요'\n",
    "print(\"area 값은\", area)\n",
    "print('area타입은', type(area) )\n",
    "print('area 주소는', id(area))"
   ]
  },
  {
   "cell_type": "markdown",
   "id": "3d352eb7-0fba-42c1-9123-77e1e874222b",
   "metadata": {},
   "source": [
    "## 1.3 변수이름 규칙\n",
    "    - 문자(특수문자는 _제외하고 안됨), 숫자, _로 명명.\n",
    "    - 문자로 시작\n",
    "    - 파이썬에서 제공되는 기본 함수명 피하자. 꼭 써야한다면 int_식으로 _를 붙임\n",
    "    - 파이썬 예약어는 변수명 불가(ex. if)"
   ]
  },
  {
   "cell_type": "code",
   "execution_count": 10,
   "id": "e8bda766-831e-4600-8c38-26d372652589",
   "metadata": {},
   "outputs": [
    {
     "data": {
      "text/plain": [
       "'북한'"
      ]
     },
     "execution_count": 10,
     "metadata": {},
     "output_type": "execute_result"
    }
   ],
   "source": [
    "불용어 = '북한'\n",
    "불용어"
   ]
  },
  {
   "cell_type": "code",
   "execution_count": 11,
   "id": "10b70f2f-8751-47b9-bc04-f9e0432a8d14",
   "metadata": {},
   "outputs": [
    {
     "ename": "SyntaxError",
     "evalue": "invalid syntax (1720054281.py, line 1)",
     "output_type": "error",
     "traceback": [
      "\u001b[1;36m  Cell \u001b[1;32mIn[11], line 1\u001b[1;36m\u001b[0m\n\u001b[1;33m    if = 4\u001b[0m\n\u001b[1;37m       ^\u001b[0m\n\u001b[1;31mSyntaxError\u001b[0m\u001b[1;31m:\u001b[0m invalid syntax\n"
     ]
    }
   ],
   "source": [
    "if = 4"
   ]
  },
  {
   "cell_type": "code",
   "execution_count": 12,
   "id": "96b43b0e-5c0b-4b24-a6ba-c19f74cc1cd9",
   "metadata": {},
   "outputs": [
    {
     "name": "stdout",
     "output_type": "stream",
     "text": [
      "북한\n"
     ]
    }
   ],
   "source": [
    "print(불용어)"
   ]
  },
  {
   "cell_type": "code",
   "execution_count": 18,
   "id": "5ea1cbca-783b-4aa2-9f80-a28f15bd4e19",
   "metadata": {},
   "outputs": [],
   "source": [
    "# 파이썬 변수는 함수 할당\n",
    "print = 5"
   ]
  },
  {
   "cell_type": "code",
   "execution_count": 19,
   "id": "38cf36a6-fc67-4401-a2c6-1a3942790d6e",
   "metadata": {},
   "outputs": [
    {
     "ename": "TypeError",
     "evalue": "'int' object is not callable",
     "output_type": "error",
     "traceback": [
      "\u001b[1;31m---------------------------------------------------------------------------\u001b[0m",
      "\u001b[1;31mTypeError\u001b[0m                                 Traceback (most recent call last)",
      "Cell \u001b[1;32mIn[19], line 1\u001b[0m\n\u001b[1;32m----> 1\u001b[0m \u001b[38;5;28mprint\u001b[39m(불용어)\n",
      "\u001b[1;31mTypeError\u001b[0m: 'int' object is not callable"
     ]
    }
   ],
   "source": [
    "print(불용어)"
   ]
  },
  {
   "cell_type": "code",
   "execution_count": 20,
   "id": "2316bd14-291f-4f26-ae71-596b4df4f5e2",
   "metadata": {},
   "outputs": [],
   "source": [
    "del print # print 변수 삭제"
   ]
  },
  {
   "cell_type": "code",
   "execution_count": 21,
   "id": "edd55533-2dbf-4769-bbb7-089f97db05ed",
   "metadata": {},
   "outputs": [
    {
     "name": "stdout",
     "output_type": "stream",
     "text": [
      "북한\n"
     ]
    }
   ],
   "source": [
    "print(불용어)"
   ]
  },
  {
   "cell_type": "code",
   "execution_count": 22,
   "id": "064f6471-9c94-430c-9f01-4671dc2ea16e",
   "metadata": {},
   "outputs": [
    {
     "data": {
      "text/plain": [
       "complex"
      ]
     },
     "execution_count": 22,
     "metadata": {},
     "output_type": "execute_result"
    }
   ],
   "source": [
    "i = 3 + 3j # 복소수\n",
    "type(i)"
   ]
  },
  {
   "cell_type": "code",
   "execution_count": 23,
   "id": "99b730c4-9f32-49ce-aaf2-65d49dea87bb",
   "metadata": {},
   "outputs": [],
   "source": [
    "a = 10\n",
    "b = 20"
   ]
  },
  {
   "cell_type": "code",
   "execution_count": 24,
   "id": "0cc41a99-b5f2-472f-9cc2-a8b9ba5cd187",
   "metadata": {},
   "outputs": [],
   "source": [
    "a, b = 10, 20 # 다중 선언"
   ]
  },
  {
   "cell_type": "code",
   "execution_count": 25,
   "id": "df1d5a03-b040-4fdf-aa8e-08033eb1d321",
   "metadata": {},
   "outputs": [
    {
     "data": {
      "text/plain": [
       "(10, 20)"
      ]
     },
     "execution_count": 25,
     "metadata": {},
     "output_type": "execute_result"
    }
   ],
   "source": [
    "a, b"
   ]
  },
  {
   "cell_type": "code",
   "execution_count": 26,
   "id": "eeb42c9c-1627-4010-a423-376eb97fea11",
   "metadata": {},
   "outputs": [
    {
     "name": "stdout",
     "output_type": "stream",
     "text": [
      "a= 20 \t b= 30\n"
     ]
    }
   ],
   "source": [
    "a, b = b, a+b # 다중 선언\n",
    "print('a=',a,'\\t b=', b)"
   ]
  },
  {
   "cell_type": "markdown",
   "id": "ffc34eaa-978a-4370-aae8-98bdf862140c",
   "metadata": {},
   "source": [
    "## 1.4 도움말"
   ]
  },
  {
   "cell_type": "code",
   "execution_count": 27,
   "id": "5bbdfcd2-bbef-4b50-84d4-f56767f71e35",
   "metadata": {},
   "outputs": [
    {
     "name": "stdout",
     "output_type": "stream",
     "text": [
      "Help on built-in function print in module builtins:\n",
      "\n",
      "print(*args, sep=' ', end='\\n', file=None, flush=False)\n",
      "    Prints the values to a stream, or to sys.stdout by default.\n",
      "    \n",
      "    sep\n",
      "      string inserted between values, default a space.\n",
      "    end\n",
      "      string appended after the last value, default a newline.\n",
      "    file\n",
      "      a file-like object (stream); defaults to the current sys.stdout.\n",
      "    flush\n",
      "      whether to forcibly flush the stream.\n",
      "\n"
     ]
    }
   ],
   "source": [
    "help(print)"
   ]
  },
  {
   "cell_type": "code",
   "execution_count": 28,
   "id": "245a0af9-e3aa-4e8d-9748-adaf653ac5e2",
   "metadata": {},
   "outputs": [
    {
     "data": {
      "text/plain": [
       "\u001b[1;31mSignature:\u001b[0m \u001b[0mprint\u001b[0m\u001b[1;33m(\u001b[0m\u001b[1;33m*\u001b[0m\u001b[0margs\u001b[0m\u001b[1;33m,\u001b[0m \u001b[0msep\u001b[0m\u001b[1;33m=\u001b[0m\u001b[1;34m' '\u001b[0m\u001b[1;33m,\u001b[0m \u001b[0mend\u001b[0m\u001b[1;33m=\u001b[0m\u001b[1;34m'\\n'\u001b[0m\u001b[1;33m,\u001b[0m \u001b[0mfile\u001b[0m\u001b[1;33m=\u001b[0m\u001b[1;32mNone\u001b[0m\u001b[1;33m,\u001b[0m \u001b[0mflush\u001b[0m\u001b[1;33m=\u001b[0m\u001b[1;32mFalse\u001b[0m\u001b[1;33m)\u001b[0m\u001b[1;33m\u001b[0m\u001b[1;33m\u001b[0m\u001b[0m\n",
       "\u001b[1;31mDocstring:\u001b[0m\n",
       "Prints the values to a stream, or to sys.stdout by default.\n",
       "\n",
       "sep\n",
       "  string inserted between values, default a space.\n",
       "end\n",
       "  string appended after the last value, default a newline.\n",
       "file\n",
       "  a file-like object (stream); defaults to the current sys.stdout.\n",
       "flush\n",
       "  whether to forcibly flush the stream.\n",
       "\u001b[1;31mType:\u001b[0m      builtin_function_or_method"
      ]
     },
     "metadata": {},
     "output_type": "display_data"
    }
   ],
   "source": [
    "print?"
   ]
  },
  {
   "cell_type": "code",
   "execution_count": 30,
   "id": "0750e6ff-41c6-488c-92fd-e6b82fbb12c1",
   "metadata": {},
   "outputs": [
    {
     "name": "stdout",
     "output_type": "stream",
     "text": [
      "a~b\n"
     ]
    }
   ],
   "source": [
    "# 도움말 기능 : 함수내에서 shift+tab키\n",
    "print('a','b', sep='~')"
   ]
  },
  {
   "cell_type": "code",
   "execution_count": 31,
   "id": "2ddfe91f-745f-40cc-aa4c-69f7116453ed",
   "metadata": {},
   "outputs": [],
   "source": [
    "def make_number(x, y=0):\n",
    "    \"\"\"doc string(함수의 도움말)\n",
    "    매개변수 2개를 이용해서 2자리 정수를 만들어요\n",
    "    x = 10의 자리수\n",
    "    y = 1의 자리수 (default값 0)\n",
    "    \"\"\"\n",
    "    return x*10 + y"
   ]
  },
  {
   "cell_type": "code",
   "execution_count": 32,
   "id": "a3765b72-2348-46d1-a7a0-105a029572eb",
   "metadata": {},
   "outputs": [
    {
     "data": {
      "text/plain": [
       "32"
      ]
     },
     "execution_count": 32,
     "metadata": {},
     "output_type": "execute_result"
    }
   ],
   "source": [
    "make_number(3, 2)"
   ]
  },
  {
   "cell_type": "code",
   "execution_count": 33,
   "id": "15b15836-ffcd-401c-9c6d-745ecdf2f30e",
   "metadata": {},
   "outputs": [
    {
     "data": {
      "text/plain": [
       "50"
      ]
     },
     "execution_count": 33,
     "metadata": {},
     "output_type": "execute_result"
    }
   ],
   "source": [
    "make_number(5)"
   ]
  },
  {
   "cell_type": "code",
   "execution_count": 34,
   "id": "77fe4ccf-9c94-4f17-89df-add99962903c",
   "metadata": {},
   "outputs": [],
   "source": [
    "make = make_number # 함수를 변수에 할당"
   ]
  },
  {
   "cell_type": "code",
   "execution_count": 35,
   "id": "3d45babf-bda7-4433-862e-fbade6df0fde",
   "metadata": {},
   "outputs": [
    {
     "data": {
      "text/plain": [
       "60"
      ]
     },
     "execution_count": 35,
     "metadata": {},
     "output_type": "execute_result"
    }
   ],
   "source": [
    "make(6)"
   ]
  },
  {
   "cell_type": "markdown",
   "id": "5d692c1d-7c96-41f3-98f0-c53300ffc4d5",
   "metadata": {},
   "source": [
    "## 1.5 변수 삭제"
   ]
  },
  {
   "cell_type": "code",
   "execution_count": 36,
   "id": "e29ab697-f8bc-4ccb-892a-c4c0355e9a12",
   "metadata": {},
   "outputs": [],
   "source": [
    "del make"
   ]
  },
  {
   "cell_type": "code",
   "execution_count": 37,
   "id": "3ebe3317-22de-4292-a1ee-e0fc982bc4ce",
   "metadata": {
    "scrolled": true
   },
   "outputs": [
    {
     "ename": "NameError",
     "evalue": "name 'make' is not defined",
     "output_type": "error",
     "traceback": [
      "\u001b[1;31m---------------------------------------------------------------------------\u001b[0m",
      "\u001b[1;31mNameError\u001b[0m                                 Traceback (most recent call last)",
      "Cell \u001b[1;32mIn[37], line 1\u001b[0m\n\u001b[1;32m----> 1\u001b[0m make(\u001b[38;5;241m6\u001b[39m)\n",
      "\u001b[1;31mNameError\u001b[0m: name 'make' is not defined"
     ]
    }
   ],
   "source": [
    "make(6)"
   ]
  },
  {
   "cell_type": "markdown",
   "id": "b55452ba-c39e-465e-ad50-36413f6b212a",
   "metadata": {},
   "source": [
    "# 2절 화면 I/O"
   ]
  },
  {
   "cell_type": "code",
   "execution_count": 44,
   "id": "c24155e7-ab18-414a-a191-0bc136b0a071",
   "metadata": {},
   "outputs": [
    {
     "name": "stdin",
     "output_type": "stream",
     "text": [
      "첫번째 숫자는? 20\n",
      "두번째 숫자는? 1\n"
     ]
    }
   ],
   "source": [
    "first = int(input('첫번째 숫자는?')) # 문자로 return\n",
    "second = int(input('두번째 숫자는?'))"
   ]
  },
  {
   "cell_type": "code",
   "execution_count": 45,
   "id": "f7d7f869-e699-4398-b217-e402e48627a4",
   "metadata": {},
   "outputs": [
    {
     "name": "stdout",
     "output_type": "stream",
     "text": [
      "두수의 합은 21\n"
     ]
    }
   ],
   "source": [
    "print('두수의 합은 {}'.format(first+second)) #문자+문자"
   ]
  },
  {
   "cell_type": "code",
   "execution_count": 48,
   "id": "0dce8407-7947-4696-8115-2c9163ca37b8",
   "metadata": {},
   "outputs": [
    {
     "name": "stdout",
     "output_type": "stream",
     "text": [
      "Hello~world, Hello Python\n"
     ]
    }
   ],
   "source": [
    "print('Hello', 'world', sep='~', end=', ')\n",
    "print('Hello', 'Python')"
   ]
  },
  {
   "cell_type": "markdown",
   "id": "55da96dc-061e-4f0e-a542-339683c6ed47",
   "metadata": {},
   "source": [
    "# 3. 기본 자료형\n",
    "    - 숫자 : int, float, complex\n",
    "    - 문자 : str\n",
    "    - 논리 : bool\n",
    "    파이썬은 타입을 지칭하는 키워드가 없고, 변수 할당시 타입이 정해져"
   ]
  },
  {
   "cell_type": "markdown",
   "id": "a37a0c23-2c6e-49be-a517-c46e143f9477",
   "metadata": {},
   "source": [
    "## 3.1 숫자형"
   ]
  },
  {
   "cell_type": "code",
   "execution_count": 49,
   "id": "6462d2e4-7ef8-4de8-b69a-3495c4f6b6f3",
   "metadata": {},
   "outputs": [
    {
     "name": "stdout",
     "output_type": "stream",
     "text": [
      "9223372036854775807\n"
     ]
    }
   ],
   "source": [
    "import sys\n",
    "print(sys.maxsize) # 모든 크기의 정수를 다 처리 가능"
   ]
  },
  {
   "cell_type": "code",
   "execution_count": 50,
   "id": "713521f0-6e69-491e-9bd5-52fd3baf89dd",
   "metadata": {},
   "outputs": [
    {
     "name": "stdout",
     "output_type": "stream",
     "text": [
      "값:9223372036854775817 / 주소:1273606319072\n",
      "<class 'int'>\n"
     ]
    }
   ],
   "source": [
    "a = sys.maxsize + 10\n",
    "print(\"값:{} / 주소:{}\".format(a, id(a)))\n",
    "print(type(a))"
   ]
  },
  {
   "cell_type": "code",
   "execution_count": 51,
   "id": "e315fa7a-afa4-441d-9c13-f326d21c5591",
   "metadata": {},
   "outputs": [
    {
     "name": "stdout",
     "output_type": "stream",
     "text": [
      "값:1 / 주소:140727940924200\n",
      "<class 'int'>\n"
     ]
    }
   ],
   "source": [
    "a = 1\n",
    "print(\"값:{} / 주소:{}\".format(a, id(a)))\n",
    "print(type(a))"
   ]
  },
  {
   "cell_type": "code",
   "execution_count": 52,
   "id": "514bf1a1-353d-466e-9717-725f879381f7",
   "metadata": {},
   "outputs": [
    {
     "name": "stdout",
     "output_type": "stream",
     "text": [
      "값:1.5 / 주소:1273591188304\n",
      "<class 'float'>\n"
     ]
    }
   ],
   "source": [
    "a = 3/2 # 정수형/정수형 => 실수형(float)\n",
    "print(\"값:{} / 주소:{}\".format(a, id(a)))\n",
    "print(type(a))"
   ]
  },
  {
   "cell_type": "code",
   "execution_count": 54,
   "id": "192be4f6-33bb-4ecf-869b-e5fb9855ba0b",
   "metadata": {},
   "outputs": [
    {
     "name": "stdout",
     "output_type": "stream",
     "text": [
      "값:1 / 주소:140727940924200\n",
      "<class 'int'>\n"
     ]
    }
   ],
   "source": [
    "a = int(3/2)# C언어 결과처럼하고자 하면 명시적 형변환\n",
    "a = 3 // 2 # C언어 결과처럼하고자 하면 몫연산자\n",
    "print(\"값:{} / 주소:{}\".format(a, id(a)))\n",
    "print(type(a))"
   ]
  },
  {
   "cell_type": "code",
   "execution_count": 56,
   "id": "4522e445-c496-4fdc-9312-37bc5ac2e286",
   "metadata": {},
   "outputs": [
    {
     "name": "stdout",
     "output_type": "stream",
     "text": [
      "1.12e+20\n",
      "1.12e-20\n"
     ]
    }
   ],
   "source": [
    "f = 1.12e20  # 1.12의 10의 20승\n",
    "print(f)\n",
    "f = 1.12e-20 # 1.12의 10의 -20\n",
    "print(f)"
   ]
  },
  {
   "cell_type": "markdown",
   "id": "7d2cfafa-1408-4b7b-8e9c-1d790b34300f",
   "metadata": {},
   "source": [
    "## 3.2 문자형"
   ]
  },
  {
   "cell_type": "code",
   "execution_count": 58,
   "id": "0a6f4d88-08a1-4ea4-be5b-964121efef92",
   "metadata": {},
   "outputs": [
    {
     "name": "stdout",
     "output_type": "stream",
     "text": [
      "홍길동\"님\" 서울시 \"금천구\"  가산디지털1로\n"
     ]
    }
   ],
   "source": [
    "name = \"홍길동'님'\"\n",
    "name = '홍길동\"님\"'\n",
    "address = \"서울시 \\\"금천구\\\"  \\\n",
    "가산디지털1로\"\n",
    "# \\ 다음줄로 계속\n",
    "print(name, address)"
   ]
  },
  {
   "cell_type": "code",
   "execution_count": null,
   "id": "c97d3158-dfa5-4731-b9b2-9abc02fe6c96",
   "metadata": {},
   "outputs": [],
   "source": []
  },
  {
   "cell_type": "code",
   "execution_count": null,
   "id": "d1378f9d-000a-42f6-be6c-054460d29617",
   "metadata": {},
   "outputs": [],
   "source": []
  },
  {
   "cell_type": "code",
   "execution_count": null,
   "id": "122e0a2a-2e6d-4ef5-a286-a1405eb601bf",
   "metadata": {},
   "outputs": [],
   "source": []
  },
  {
   "cell_type": "code",
   "execution_count": null,
   "id": "a32ed491-96fd-4d2d-96b2-24e3acbfd756",
   "metadata": {},
   "outputs": [],
   "source": []
  },
  {
   "cell_type": "code",
   "execution_count": null,
   "id": "53a3cd31-9a5c-45ae-af01-ee946e96673e",
   "metadata": {},
   "outputs": [],
   "source": []
  },
  {
   "cell_type": "code",
   "execution_count": null,
   "id": "61f86656-a5a1-43e6-85ef-3677e039ddb9",
   "metadata": {},
   "outputs": [],
   "source": []
  },
  {
   "cell_type": "code",
   "execution_count": null,
   "id": "cac3297c-cc10-4bf5-9281-def762eb1056",
   "metadata": {},
   "outputs": [],
   "source": []
  },
  {
   "cell_type": "code",
   "execution_count": null,
   "id": "2bc5bb55-3055-41d5-be48-2958e9b89292",
   "metadata": {},
   "outputs": [],
   "source": []
  },
  {
   "cell_type": "code",
   "execution_count": null,
   "id": "c65b50a6-b1c8-44ed-b068-9a8d4e36f420",
   "metadata": {},
   "outputs": [],
   "source": []
  },
  {
   "cell_type": "code",
   "execution_count": null,
   "id": "dc8d58a5-fd54-489d-8ca7-8b4277336f0b",
   "metadata": {},
   "outputs": [],
   "source": []
  },
  {
   "cell_type": "code",
   "execution_count": null,
   "id": "1e3e96cc-4435-4e57-8bc5-6f184abd45d1",
   "metadata": {},
   "outputs": [],
   "source": []
  },
  {
   "cell_type": "code",
   "execution_count": null,
   "id": "277a5041-d11f-45dd-b4bc-822e3b71de48",
   "metadata": {},
   "outputs": [],
   "source": []
  }
 ],
 "metadata": {
  "kernelspec": {
   "display_name": "Python 3 (ipykernel)",
   "language": "python",
   "name": "python3"
  },
  "language_info": {
   "codemirror_mode": {
    "name": "ipython",
    "version": 3
   },
   "file_extension": ".py",
   "mimetype": "text/x-python",
   "name": "python",
   "nbconvert_exporter": "python",
   "pygments_lexer": "ipython3",
   "version": "3.11.7"
  }
 },
 "nbformat": 4,
 "nbformat_minor": 5
}
