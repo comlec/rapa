{
 "cells": [
  {
   "cell_type": "code",
   "execution_count": 1,
   "id": "f2493d92-ec86-4655-9fae-bb8c0a2964a1",
   "metadata": {},
   "outputs": [
    {
     "data": {
      "text/html": [
       "\n",
       "<style>\n",
       "div.jp-WindowedPanel-outer.lm-Widget{padding:5px;}\n",
       "div.lm-Widget{width:100%;font-size:19pt;}\n",
       "div.cm-content {font-family:Consolas; font-size:17pt;}\n",
       "div.jp-OutputArea-output pre {font-size:19pt; font-weight:bold;}\n",
       "input.jp-Stdin-input {font-family:Consolas; font-size:19pt;}\n",
       "</style>\n"
      ],
      "text/plain": [
       "<IPython.core.display.HTML object>"
      ]
     },
     "metadata": {},
     "output_type": "display_data"
    }
   ],
   "source": [
    "from IPython.display import display, HTML\n",
    "display(HTML(\"\"\"\n",
    "<style>\n",
    "div.jp-WindowedPanel-outer.lm-Widget{padding:5px;}\n",
    "div.lm-Widget{width:100%;font-size:19pt;}\n",
    "div.cm-content {font-family:Consolas; font-size:17pt;}\n",
    "div.jp-OutputArea-output pre {font-size:19pt; font-weight:bold;}\n",
    "input.jp-Stdin-input {font-family:Consolas; font-size:19pt;}\n",
    "</style>\n",
    "\"\"\"))"
   ]
  },
  {
   "cell_type": "markdown",
   "id": "a9da8bc9-b74b-44e9-90fb-456ff1848bf8",
   "metadata": {},
   "source": [
    "<font size=\"6\" color=\"red\"><b>ch05. 함수</b></font>\n",
    "- 반복해서 사용할 코드를 묶어서 구현해 놓은 것\n",
    "- 같은 이름의 함수는 덮어씀(오버로딩 불가)\n",
    "- 함수 정의(구현)\n",
    "  ```\n",
    "    def 함수명([인수1, 인수2, ...]):\n",
    "      명령어1\n",
    "      명령어2\n",
    "      ...\n",
    "  ```"
   ]
  },
  {
   "cell_type": "markdown",
   "id": "518c81bd-65e2-408d-8305-d189dd97fa6e",
   "metadata": {},
   "source": [
    "# 1절. 함수의 정의 및 사용(호출)\n",
    "## 1.1 함수정의"
   ]
  },
  {
   "cell_type": "code",
   "execution_count": 2,
   "id": "4a6ef4e6-e94c-446e-98fa-2a9eac8a528f",
   "metadata": {},
   "outputs": [],
   "source": [
    "def my_hello(x, msg): # 함수정의\n",
    "    for i in range(x):\n",
    "        print(i, msg)"
   ]
  },
  {
   "cell_type": "code",
   "execution_count": 3,
   "id": "89581bbe-78ac-4647-9d35-debb2fbc6c93",
   "metadata": {},
   "outputs": [
    {
     "name": "stdout",
     "output_type": "stream",
     "text": [
      "0 쉬는 시간입니다\n",
      "1 쉬는 시간입니다\n",
      "2 쉬는 시간입니다\n",
      "3 쉬는 시간입니다\n"
     ]
    }
   ],
   "source": [
    "my_hello(4, '쉬는 시간입니다')"
   ]
  },
  {
   "cell_type": "code",
   "execution_count": null,
   "id": "1aeadd0a-5aa6-4128-b697-763b7fd354a5",
   "metadata": {},
   "outputs": [],
   "source": []
  },
  {
   "cell_type": "code",
   "execution_count": null,
   "id": "e99b6e1a-dc79-4834-8c42-b39ce3b412c0",
   "metadata": {},
   "outputs": [],
   "source": []
  },
  {
   "cell_type": "code",
   "execution_count": null,
   "id": "40edaba5-8235-46e9-b0c4-b4853caa5877",
   "metadata": {},
   "outputs": [],
   "source": []
  },
  {
   "cell_type": "code",
   "execution_count": null,
   "id": "26920b10-af79-423f-94f7-4fdeb8809bb9",
   "metadata": {},
   "outputs": [],
   "source": []
  },
  {
   "cell_type": "code",
   "execution_count": null,
   "id": "d4c32be3-e931-49a8-bea6-c18b8ac5139f",
   "metadata": {},
   "outputs": [],
   "source": []
  },
  {
   "cell_type": "code",
   "execution_count": null,
   "id": "17807345-e0ff-449b-8626-c988e59fd5e4",
   "metadata": {},
   "outputs": [],
   "source": []
  },
  {
   "cell_type": "code",
   "execution_count": null,
   "id": "196c2363-059a-4ef5-ad05-225084baaaeb",
   "metadata": {},
   "outputs": [],
   "source": []
  },
  {
   "cell_type": "code",
   "execution_count": null,
   "id": "ba9524f3-bbe1-4146-98e2-755c1162d9c4",
   "metadata": {},
   "outputs": [],
   "source": []
  },
  {
   "cell_type": "code",
   "execution_count": null,
   "id": "eb47c04b-1366-4d43-96fc-ed85b97f32b6",
   "metadata": {},
   "outputs": [],
   "source": []
  },
  {
   "cell_type": "code",
   "execution_count": null,
   "id": "30bddd2a-28ff-416c-a5cf-70221700d1cf",
   "metadata": {},
   "outputs": [],
   "source": []
  },
  {
   "cell_type": "code",
   "execution_count": null,
   "id": "cd89b436-3d73-41b9-87b8-358a0b7a102c",
   "metadata": {},
   "outputs": [],
   "source": []
  },
  {
   "cell_type": "code",
   "execution_count": null,
   "id": "55223814-b539-40bb-8159-0c6849a64c4a",
   "metadata": {},
   "outputs": [],
   "source": []
  },
  {
   "cell_type": "code",
   "execution_count": null,
   "id": "0dd816c1-10a1-4a43-922d-cad0d7e46051",
   "metadata": {},
   "outputs": [],
   "source": []
  },
  {
   "cell_type": "code",
   "execution_count": null,
   "id": "e6db54d2-09e0-47f2-8da0-a361f7da089d",
   "metadata": {},
   "outputs": [],
   "source": []
  },
  {
   "cell_type": "code",
   "execution_count": null,
   "id": "af037f4d-25b1-4796-b255-0888368e08be",
   "metadata": {},
   "outputs": [],
   "source": []
  }
 ],
 "metadata": {
  "kernelspec": {
   "display_name": "Python 3 (ipykernel)",
   "language": "python",
   "name": "python3"
  },
  "language_info": {
   "codemirror_mode": {
    "name": "ipython",
    "version": 3
   },
   "file_extension": ".py",
   "mimetype": "text/x-python",
   "name": "python",
   "nbconvert_exporter": "python",
   "pygments_lexer": "ipython3",
   "version": "3.11.7"
  }
 },
 "nbformat": 4,
 "nbformat_minor": 5
}
