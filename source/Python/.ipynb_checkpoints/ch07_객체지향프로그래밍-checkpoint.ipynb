{
 "cells": [
  {
   "cell_type": "code",
   "execution_count": 1,
   "id": "6b85d02b-5728-4c34-b70d-8a27901026e0",
   "metadata": {},
   "outputs": [
    {
     "data": {
      "text/html": [
       "\n",
       "<style>\n",
       "div.jp-WindowedPanel-outer.lm-Widget{padding:5px;}\n",
       "div.lm-Widget{font-size:15pt;}\n",
       "div.cm-content {font-family:Consolas; font-size:17pt;}\n",
       "div.jp-OutputArea-output pre {font-size:19pt; font-weight:bold;}\n",
       "input.jp-Stdin-input {font-family:Consolas; font-size:19pt;}\n",
       "</style>\n"
      ],
      "text/plain": [
       "<IPython.core.display.HTML object>"
      ]
     },
     "metadata": {},
     "output_type": "display_data"
    }
   ],
   "source": [
    "from IPython.display import display, HTML\n",
    "display(HTML(\"\"\"\n",
    "<style>\n",
    "div.jp-WindowedPanel-outer.lm-Widget{padding:5px;}\n",
    "div.lm-Widget{font-size:15pt;}\n",
    "div.cm-content {font-family:Consolas; font-size:17pt;}\n",
    "div.jp-OutputArea-output pre {font-size:19pt; font-weight:bold;}\n",
    "input.jp-Stdin-input {font-family:Consolas; font-size:19pt;}\n",
    "</style>\n",
    "\"\"\"))"
   ]
  },
  {
   "cell_type": "markdown",
   "id": "e01d851d-7243-4f91-9828-4e34dc071569",
   "metadata": {},
   "source": [
    "<font size=\"6\" color=\"red\"><b>ch07. 객체지향 프로그래밍</b></font>"
   ]
  },
  {
   "cell_type": "markdown",
   "id": "9f72018e-4e20-491d-a742-973a070918f8",
   "metadata": {},
   "source": [
    "# 1절. 객체와 클래스\n",
    "```\n",
    "class 클래스명(상속받을 클래스명):\n",
    "    변수나 함수들을 선언\n",
    "```"
   ]
  },
  {
   "cell_type": "code",
   "execution_count": 3,
   "id": "d7880bfd-22c9-4224-9fa2-7d90d95bdb80",
   "metadata": {},
   "outputs": [],
   "source": [
    "class Person:\n",
    "    \"Person 클래스는 어쩌구 저쩌구 여러 줄 설명하는 독스트링\"\n",
    "    pass\n",
    "p1 = Person()"
   ]
  },
  {
   "cell_type": "code",
   "execution_count": null,
   "id": "a6ea0054-9d75-4e23-936a-c634768d5d02",
   "metadata": {},
   "outputs": [],
   "source": [
    "class Person:\n",
    "    'Person은 이름과 성별 멤버변수가 있는 객체타입입니다'\n",
    "    def __init__(self, name='홍길동', gender='남자'): # 생성자함수\n",
    "        self.name = name\n",
    "        self.gender = gender\n",
    "        print(\"{}, {} Person 객체가 생성되었습니다\".format(self.name, self.gender))\n",
    "    def print_info(self):\n",
    "        print(\"{}님은 {}입니다\".format(self.name, self.gender) )\n",
    "    "
   ]
  },
  {
   "cell_type": "code",
   "execution_count": null,
   "id": "f5909286-dadd-4ed6-92f5-300e02617bc9",
   "metadata": {},
   "outputs": [],
   "source": [
    "p1 = Person(\"성춘향\", \"여자\")"
   ]
  },
  {
   "cell_type": "code",
   "execution_count": null,
   "id": "7c12dfde-4349-41c7-acdc-bd4d0b988887",
   "metadata": {},
   "outputs": [],
   "source": []
  },
  {
   "cell_type": "code",
   "execution_count": null,
   "id": "cbb8309c-2958-4e30-8f13-0d171d5db84b",
   "metadata": {},
   "outputs": [],
   "source": []
  },
  {
   "cell_type": "code",
   "execution_count": null,
   "id": "4e421110-2da9-4fe7-aba6-9fd52ae5bd15",
   "metadata": {},
   "outputs": [],
   "source": []
  },
  {
   "cell_type": "code",
   "execution_count": null,
   "id": "4672dd20-a17e-4cbe-ae3f-1f5e81773213",
   "metadata": {},
   "outputs": [],
   "source": []
  },
  {
   "cell_type": "code",
   "execution_count": null,
   "id": "b143c331-cb20-4601-9f30-97c753e79e27",
   "metadata": {},
   "outputs": [],
   "source": []
  },
  {
   "cell_type": "code",
   "execution_count": null,
   "id": "8a71b96b-1689-4df9-9018-d6b241e5b1c1",
   "metadata": {},
   "outputs": [],
   "source": []
  },
  {
   "cell_type": "code",
   "execution_count": null,
   "id": "09f678af-ab8b-4f62-92c3-d853fe85dcdd",
   "metadata": {},
   "outputs": [],
   "source": []
  }
 ],
 "metadata": {
  "kernelspec": {
   "display_name": "Python 3 (ipykernel)",
   "language": "python",
   "name": "python3"
  },
  "language_info": {
   "codemirror_mode": {
    "name": "ipython",
    "version": 3
   },
   "file_extension": ".py",
   "mimetype": "text/x-python",
   "name": "python",
   "nbconvert_exporter": "python",
   "pygments_lexer": "ipython3",
   "version": "3.11.7"
  }
 },
 "nbformat": 4,
 "nbformat_minor": 5
}
