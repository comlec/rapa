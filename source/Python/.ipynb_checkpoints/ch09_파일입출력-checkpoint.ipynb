{
 "cells": [
  {
   "cell_type": "code",
   "execution_count": 3,
   "id": "feaa179e-4f1f-476d-9252-880cfe3c07c0",
   "metadata": {},
   "outputs": [
    {
     "data": {
      "text/html": [
       "\n",
       "<style>\n",
       "div.container{width:97% !important;}\n",
       "div.CodeMirror {font-family:Consolas; font-size:22pt;}\n",
       "div.output {font-size:22pt; font-weight:bold;}\n",
       "div.input {font-family:Consolas; font-size:22pt;}\n",
       "div.prompt {min-width:70px;}\n",
       "</style>\n"
      ],
      "text/plain": [
       "<IPython.core.display.HTML object>"
      ]
     },
     "metadata": {},
     "output_type": "display_data"
    }
   ],
   "source": [
    "# 주피터 노트북 구버전\n",
    "from IPython.display import display, HTML\n",
    "display(HTML(\"\"\"\n",
    "<style>\n",
    "div.container{width:97% !important;}\n",
    "div.CodeMirror {font-family:Consolas; font-size:22pt;}\n",
    "div.output {font-size:22pt; font-weight:bold;}\n",
    "div.input {font-family:Consolas; font-size:22pt;}\n",
    "div.prompt {min-width:70px;}\n",
    "</style>\n",
    "\"\"\"))"
   ]
  },
  {
   "cell_type": "code",
   "execution_count": 5,
   "id": "7eff99c0-0440-45be-8e79-3b3ec5cd47b0",
   "metadata": {},
   "outputs": [
    {
     "data": {
      "text/html": [
       "\n",
       "<style>\n",
       "div.jp-WindowedPanel-outer.lm-Widget{padding:5px;}\n",
       "div.lm-Widget{font-size:19pt;}\n",
       "div.cm-content {font-family:Consolas; font-size:19pt;}\n",
       "div.jp-OutputArea-output pre {font-size:19pt; font-weight:bold;}\n",
       "input.jp-Stdin-input {font-family:Consolas; font-size:19pt;}\n",
       "</style>\n"
      ],
      "text/plain": [
       "<IPython.core.display.HTML object>"
      ]
     },
     "metadata": {},
     "output_type": "display_data"
    }
   ],
   "source": [
    "# 주피터 노트북 새버전\n",
    "from IPython.display import display, HTML\n",
    "display(HTML(\"\"\"\n",
    "<style>\n",
    "div.jp-WindowedPanel-outer.lm-Widget{padding:5px;}\n",
    "div.lm-Widget{font-size:19pt;}\n",
    "div.cm-content {font-family:Consolas; font-size:19pt;}\n",
    "div.jp-OutputArea-output pre {font-size:19pt; font-weight:bold;}\n",
    "input.jp-Stdin-input {font-family:Consolas; font-size:19pt;}\n",
    "</style>\n",
    "\"\"\"))"
   ]
  },
  {
   "cell_type": "markdown",
   "id": "4f28057f-5311-4399-80c8-229cb2ad672a",
   "metadata": {},
   "source": [
    "<font color=\"red\" size=\"6\"><b>ch09. 파일 입출력</b></font>"
   ]
  },
  {
   "cell_type": "markdown",
   "id": "8e5c2eae-d0c7-4f78-8f33-a8283ecea1cb",
   "metadata": {},
   "source": [
    "# 1절. 파일에 데이터를 저장하고 불러오기"
   ]
  },
  {
   "cell_type": "code",
   "execution_count": 14,
   "id": "c21730ea-f050-4764-8d8c-f7b756a66671",
   "metadata": {},
   "outputs": [
    {
     "name": "stdout",
     "output_type": "stream",
     "text": [
      "True\n"
     ]
    }
   ],
   "source": [
    "# w : 있는 파일은 기존의 파일에 덮어쓰고 없는 파일은 생성 (쓰기 전용)\n",
    "# a : 있는 파일은 추가 / 없는 파일은 생성(쓰기 전용)\n",
    "# r : 읽기 전용\n",
    "f = open('data/ch09.txt', 'a') # encoding 기본값 CP949\n",
    "print(f.writable())"
   ]
  },
  {
   "cell_type": "code",
   "execution_count": 15,
   "id": "ce8fab33-e50d-40ca-8a7d-a250ba1228fb",
   "metadata": {},
   "outputs": [],
   "source": [
    "f.write('Hello\\nWorld\\n반갑습니다\\n') # 한글은 cp949\n",
    "f.write('여러번 write가능\\n') # 한글은 cp949\n",
    "f.close()"
   ]
  },
  {
   "cell_type": "code",
   "execution_count": 16,
   "id": "b83be31c-c2c1-4f01-b974-13bd8b5cc6c0",
   "metadata": {},
   "outputs": [
    {
     "name": "stdout",
     "output_type": "stream",
     "text": [
      "['Hello\\n', 'World\\n', 'Hello\\n', 'Python\\n', '반갑습니다\\n', 'Hello\\n', 'World\\n', 'Hello\\n', 'Python\\n', '반갑습니다\\n', '여러번 write가능\\n', 'Hello\\n', 'World\\n', '반갑습니다\\n', '여러번 write가능\\n', 'Hello\\n', 'World\\n', '반갑습니다\\n', '여러번 write가능\\n']\n"
     ]
    }
   ],
   "source": [
    "with open('data/ch09.txt', 'r') as f:\n",
    "    data = f.readlines()\n",
    "    print(data)"
   ]
  },
  {
   "cell_type": "code",
   "execution_count": 18,
   "id": "53256884-48c1-4162-b199-dfd773e20c26",
   "metadata": {},
   "outputs": [],
   "source": [
    "with open('data/ch09.txt','w') as f:\n",
    "    print(\"Python is easy\\n\", file=f)"
   ]
  },
  {
   "cell_type": "code",
   "execution_count": null,
   "id": "c24df68b-ce02-4d4c-9445-da1807a18770",
   "metadata": {},
   "outputs": [],
   "source": []
  },
  {
   "cell_type": "code",
   "execution_count": null,
   "id": "766d729e-ff2c-4b65-8309-5ac0568d0654",
   "metadata": {},
   "outputs": [],
   "source": []
  },
  {
   "cell_type": "code",
   "execution_count": null,
   "id": "9a7f19d5-2803-412c-9b36-c55c08d80a61",
   "metadata": {},
   "outputs": [],
   "source": []
  },
  {
   "cell_type": "code",
   "execution_count": null,
   "id": "98eb6e78-80e8-474c-9162-1d0d888506ac",
   "metadata": {},
   "outputs": [],
   "source": []
  },
  {
   "cell_type": "code",
   "execution_count": null,
   "id": "6bfdbb3f-bfa8-4d1a-947f-e2440e06cd34",
   "metadata": {},
   "outputs": [],
   "source": []
  },
  {
   "cell_type": "code",
   "execution_count": null,
   "id": "24648c1d-ed21-465c-99cd-783710294714",
   "metadata": {},
   "outputs": [],
   "source": []
  },
  {
   "cell_type": "code",
   "execution_count": null,
   "id": "c85d43a3-baf4-4ac0-8c2b-6f7a8f2d9b1a",
   "metadata": {},
   "outputs": [],
   "source": []
  }
 ],
 "metadata": {
  "kernelspec": {
   "display_name": "Python 3 (ipykernel)",
   "language": "python",
   "name": "python3"
  },
  "language_info": {
   "codemirror_mode": {
    "name": "ipython",
    "version": 3
   },
   "file_extension": ".py",
   "mimetype": "text/x-python",
   "name": "python",
   "nbconvert_exporter": "python",
   "pygments_lexer": "ipython3",
   "version": "3.11.7"
  }
 },
 "nbformat": 4,
 "nbformat_minor": 5
}
