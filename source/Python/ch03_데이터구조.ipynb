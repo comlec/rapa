{
 "cells": [
  {
   "cell_type": "code",
   "execution_count": 1,
   "id": "330b1a2b-5c96-451f-bb0b-5ff2f45180f4",
   "metadata": {},
   "outputs": [
    {
     "data": {
      "text/html": [
       "\n",
       "<style>\n",
       "div.jp-WindowedPanel-outer.lm-Widget{padding:5px;}\n",
       "div.lm-Widget{width:100%;font-size:19pt;}\n",
       "div.cm-content {font-family:Consolas; font-size:17pt;}\n",
       "div.jp-OutputArea-output pre {font-size:19pt; font-weight:bold;}\n",
       "input.jp-Stdin-input {font-family:Consolas; font-size:19pt;}\n",
       "</style>\n"
      ],
      "text/plain": [
       "<IPython.core.display.HTML object>"
      ]
     },
     "metadata": {},
     "output_type": "display_data"
    }
   ],
   "source": [
    "from IPython.display import display, HTML\n",
    "display(HTML(\"\"\"\n",
    "<style>\n",
    "div.jp-WindowedPanel-outer.lm-Widget{padding:5px;}\n",
    "div.lm-Widget{width:100%;font-size:19pt;}\n",
    "div.cm-content {font-family:Consolas; font-size:17pt;}\n",
    "div.jp-OutputArea-output pre {font-size:19pt; font-weight:bold;}\n",
    "input.jp-Stdin-input {font-family:Consolas; font-size:19pt;}\n",
    "</style>\n",
    "\"\"\"))"
   ]
  },
  {
   "cell_type": "markdown",
   "id": "0f9a23d8-b298-4d8f-82db-1562835a3338",
   "metadata": {},
   "source": [
    "<font size=\"7\" color=\"red\"><b>ch03. 데이터 구조</b></font>\n",
    "- 리스트 [], 튜플 (), 딕셔너리{구조체와 유사}, 셋(집합)"
   ]
  },
  {
   "cell_type": "markdown",
   "id": "e6ef6726-75a9-42b3-bc5f-cd3732535c3f",
   "metadata": {},
   "source": [
    "# 1절 리스트\n",
    "## 1.1 리스트 만들기\n",
    " - [] 이용\n",
    " - 인덱스 :0부터 시작. -1은 맨 마지막 인덱스\n",
    " - 슬라이싱([from:to:Step])을 이용하여 추출"
   ]
  },
  {
   "cell_type": "code",
   "execution_count": 2,
   "id": "fbb478cc-4ef3-4e2c-a311-b4586c2d9e6d",
   "metadata": {},
   "outputs": [
    {
     "data": {
      "text/plain": [
       "list"
      ]
     },
     "execution_count": 2,
     "metadata": {},
     "output_type": "execute_result"
    }
   ],
   "source": [
    "fruits = ['banana', 'apple','orange','grape',0]\n",
    "type(fruits)"
   ]
  },
  {
   "cell_type": "code",
   "execution_count": 3,
   "id": "7b24ad08-f882-46d1-b593-bf73e2129191",
   "metadata": {},
   "outputs": [
    {
     "name": "stdout",
     "output_type": "stream",
     "text": [
      "['banana', 'apple', 'orange', 'grape', 0]\n"
     ]
    }
   ],
   "source": [
    "print(fruits)"
   ]
  },
  {
   "cell_type": "code",
   "execution_count": 4,
   "id": "bb88ff35-a1ee-4eab-ac81-271401a131a7",
   "metadata": {},
   "outputs": [
    {
     "name": "stdout",
     "output_type": "stream",
     "text": [
      "banana\n"
     ]
    }
   ],
   "source": [
    "print(fruits[0])"
   ]
  },
  {
   "cell_type": "code",
   "execution_count": 5,
   "id": "3cbf6a71-becc-414f-8a47-53cc6cff738c",
   "metadata": {},
   "outputs": [
    {
     "name": "stdout",
     "output_type": "stream",
     "text": [
      "['mango', 'apple', 'orange', 'grape', 0]\n"
     ]
    }
   ],
   "source": [
    "fruits[0] = 'mango'\n",
    "print(fruits)"
   ]
  },
  {
   "cell_type": "code",
   "execution_count": 6,
   "id": "6ff69109-d120-4f22-8eb5-6e0cf736a0a7",
   "metadata": {},
   "outputs": [
    {
     "name": "stdout",
     "output_type": "stream",
     "text": [
      "mango\n",
      "apple\n",
      "orange\n",
      "grape\n",
      "0\n"
     ]
    }
   ],
   "source": [
    "# ★\n",
    "for fruit in fruits:\n",
    "    print(fruit)"
   ]
  },
  {
   "cell_type": "code",
   "execution_count": null,
   "id": "f91cf1f0-5c7f-4ffd-a618-1136d1f055dd",
   "metadata": {},
   "outputs": [],
   "source": [
    "for(int i=0 ; i<5 ; i++){\n",
    "    printf(\"%d번째 %d\\n\", i, fruits[i])\n",
    "}"
   ]
  },
  {
   "cell_type": "code",
   "execution_count": 10,
   "id": "6864dfea-4259-428d-8fe5-8563aa77b2aa",
   "metadata": {},
   "outputs": [
    {
     "data": {
      "text/plain": [
       "range(0, 5)"
      ]
     },
     "execution_count": 10,
     "metadata": {},
     "output_type": "execute_result"
    }
   ],
   "source": [
    "range(5)"
   ]
  },
  {
   "cell_type": "code",
   "execution_count": 13,
   "id": "a3c928a1-329e-4902-9d9d-b0e512982658",
   "metadata": {},
   "outputs": [
    {
     "data": {
      "text/plain": [
       "5"
      ]
     },
     "execution_count": 13,
     "metadata": {},
     "output_type": "execute_result"
    }
   ],
   "source": [
    "len(fruits) # list fruits 요소의 갯수"
   ]
  },
  {
   "cell_type": "code",
   "execution_count": 14,
   "id": "7680f773-d68e-4deb-8d76-0db64f3098bb",
   "metadata": {},
   "outputs": [
    {
     "data": {
      "text/plain": [
       "[0, 1, 2, 3, 4]"
      ]
     },
     "execution_count": 14,
     "metadata": {},
     "output_type": "execute_result"
    }
   ],
   "source": [
    "list(range(len(fruits)))"
   ]
  },
  {
   "cell_type": "code",
   "execution_count": 16,
   "id": "1994a247-82ef-4b50-a4dd-a800d0dd5259",
   "metadata": {},
   "outputs": [
    {
     "name": "stdout",
     "output_type": "stream",
     "text": [
      "0번째 과일은 mango\n",
      "1번째 과일은 apple\n",
      "2번째 과일은 orange\n",
      "3번째 과일은 grape\n",
      "4번째 과일은 0\n"
     ]
    }
   ],
   "source": [
    "for i in range(len(fruits)):\n",
    "    print(\"{}번째 과일은 {}\".format(i, fruits[i]))"
   ]
  },
  {
   "cell_type": "code",
   "execution_count": 17,
   "id": "140339ce-4218-4351-9643-23bf2ceb645e",
   "metadata": {},
   "outputs": [
    {
     "name": "stdout",
     "output_type": "stream",
     "text": [
      "0번째 과일은 mango\n",
      "1번째 과일은 apple\n",
      "2번째 과일은 orange\n",
      "3번째 과일은 grape\n",
      "4번째 과일은 0\n"
     ]
    }
   ],
   "source": [
    "# ★\n",
    "for idx, value in enumerate(fruits):\n",
    "    print(\"{}번째 과일은 {}\".format(idx, value))"
   ]
  },
  {
   "cell_type": "markdown",
   "id": "0d401ae0-98b2-4ef0-85c1-f7cc0787306e",
   "metadata": {},
   "source": [
    "## 1.2 기본정보 조회"
   ]
  },
  {
   "cell_type": "code",
   "execution_count": 19,
   "id": "0ab2672c-927e-47e2-8aba-fd1513600b43",
   "metadata": {},
   "outputs": [
    {
     "name": "stdout",
     "output_type": "stream",
     "text": [
      "요소의 수 : 5\n",
      "최소값 : 1\n",
      "최대값 : 5\n"
     ]
    }
   ],
   "source": [
    "numbers = [1,2,3,4,5]\n",
    "print(\"요소의 수 :\", len(numbers))\n",
    "print(\"최소값 :\", min(numbers))\n",
    "print(\"최대값 :\", max(numbers))"
   ]
  },
  {
   "cell_type": "markdown",
   "id": "7e6d73f8-38e1-4a6d-95ba-a527bdee5963",
   "metadata": {},
   "source": [
    "## 1.3 요소 추가"
   ]
  },
  {
   "cell_type": "code",
   "execution_count": 20,
   "id": "4c0e75b4-8204-4bd8-bb1b-0119338b8d9e",
   "metadata": {},
   "outputs": [],
   "source": [
    "# + 두 리스트를 연결\n",
    "# 리스트*n : 리스트를 n만큼 반복\n",
    "# append() : 요소 뒤에 추가\n",
    "# extend() : 리스트의 요소별로 뒤에 추가"
   ]
  },
  {
   "cell_type": "code",
   "execution_count": 21,
   "id": "b4f0ac92-a602-460e-8afa-c7d3ea095af3",
   "metadata": {},
   "outputs": [
    {
     "data": {
      "text/plain": [
       "[1, 2, 3, 1, 2, 3]"
      ]
     },
     "execution_count": 21,
     "metadata": {},
     "output_type": "execute_result"
    }
   ],
   "source": [
    "numbers = [1,2,3]\n",
    "numbers = numbers + numbers\n",
    "numbers"
   ]
  },
  {
   "cell_type": "code",
   "execution_count": 22,
   "id": "6464fb91-09f7-43e7-930d-e7e984608a78",
   "metadata": {},
   "outputs": [
    {
     "name": "stdout",
     "output_type": "stream",
     "text": [
      "[1, 2, 3, 1, 2, 3, 1, 2, 3]\n"
     ]
    }
   ],
   "source": [
    "numbers = [1,2,3]\n",
    "print(numbers * 3)"
   ]
  },
  {
   "cell_type": "code",
   "execution_count": 23,
   "id": "ab92ceb5-82a1-4cf5-ae3c-1a73344a1c4e",
   "metadata": {},
   "outputs": [],
   "source": [
    "numbers.append(4)"
   ]
  },
  {
   "cell_type": "code",
   "execution_count": 24,
   "id": "90c4a627-249c-45e0-9c11-edf51b69ba13",
   "metadata": {},
   "outputs": [
    {
     "data": {
      "text/plain": [
       "[1, 2, 3, 4]"
      ]
     },
     "execution_count": 24,
     "metadata": {},
     "output_type": "execute_result"
    }
   ],
   "source": [
    "numbers"
   ]
  },
  {
   "cell_type": "code",
   "execution_count": 25,
   "id": "9a71698a-5aa8-4e7a-a023-ef3f411fc64a",
   "metadata": {},
   "outputs": [
    {
     "data": {
      "text/plain": [
       "[1, 2, 3, 4, [5, 6]]"
      ]
     },
     "execution_count": 25,
     "metadata": {},
     "output_type": "execute_result"
    }
   ],
   "source": [
    "numbers = [1,2,3,4]\n",
    "num = [5,6]\n",
    "# numbers를 [1,2,3,4,5,6] vs [1,2,3,4, [5,6]]\n",
    "numbers.append(num)\n",
    "numbers"
   ]
  },
  {
   "cell_type": "code",
   "execution_count": 26,
   "id": "164f6d26-ca3d-4813-a1f5-64ca88511eae",
   "metadata": {},
   "outputs": [
    {
     "data": {
      "text/plain": [
       "[1, 2, 3, 4, 5, 6]"
      ]
     },
     "execution_count": 26,
     "metadata": {},
     "output_type": "execute_result"
    }
   ],
   "source": [
    "numbers = [1,2,3,4]\n",
    "num = [5,6]\n",
    "# numbers를 [1,2,3,4,5,6] vs [1,2,3,4, [5,6]]\n",
    "numbers.extend(num)\n",
    "numbers"
   ]
  },
  {
   "cell_type": "code",
   "execution_count": 27,
   "id": "19763ed8-8dae-4fdf-b01f-ede40efda7f8",
   "metadata": {},
   "outputs": [
    {
     "data": {
      "text/plain": [
       "[1, 2, 3, 4, 'hello']"
      ]
     },
     "execution_count": 27,
     "metadata": {},
     "output_type": "execute_result"
    }
   ],
   "source": [
    "numbers = [1,2,3,4]\n",
    "numbers.append(\"hello\")\n",
    "numbers"
   ]
  },
  {
   "cell_type": "code",
   "execution_count": 28,
   "id": "a3c134b2-96f9-46e4-b908-69f36981934f",
   "metadata": {},
   "outputs": [
    {
     "data": {
      "text/plain": [
       "[1, 2, 3, 4, 'h', 'e', 'l', 'l', 'o']"
      ]
     },
     "execution_count": 28,
     "metadata": {},
     "output_type": "execute_result"
    }
   ],
   "source": [
    "numbers = [1,2,3,4]\n",
    "numbers.extend(\"hello\")\n",
    "numbers"
   ]
  },
  {
   "cell_type": "markdown",
   "id": "a01eb715-39a5-43ca-8297-f77a68c8729f",
   "metadata": {},
   "source": [
    "## 1.4 인덱싱\n",
    "- index(찾고자하는 값, 1) : 찾고자하는 값이 1번인덱스부터 찾아 그 위치를 반환\n",
    "- count(찾고자하는 값) : 찾고자하는 값이 몇번나오는지 counter"
   ]
  },
  {
   "cell_type": "code",
   "execution_count": 30,
   "id": "8aa21da4-834c-43d0-81d6-ef20b5727c63",
   "metadata": {},
   "outputs": [
    {
     "name": "stdout",
     "output_type": "stream",
     "text": [
      "2가 몇개인지 : 2\n",
      "4가 몇개인지 : 0\n"
     ]
    }
   ],
   "source": [
    "numbers = [1,2,3, [1,2,3], 1,2,3]\n",
    "print(\"2가 몇개인지 : {}\".format(numbers.count(2)))\n",
    "print(\"4가 몇개인지 : {}\".format(numbers.count(4)))"
   ]
  },
  {
   "cell_type": "code",
   "execution_count": 31,
   "id": "03e9ab35-a1f7-4252-8bd1-68b6526cd8be",
   "metadata": {},
   "outputs": [
    {
     "data": {
      "text/plain": [
       "True"
      ]
     },
     "execution_count": 31,
     "metadata": {},
     "output_type": "execute_result"
    }
   ],
   "source": [
    "2 in numbers # numbers안에 2가 있는지 여부"
   ]
  },
  {
   "cell_type": "code",
   "execution_count": 32,
   "id": "ae485d54-1e7e-4dc5-9e34-b10b213f59bb",
   "metadata": {},
   "outputs": [
    {
     "data": {
      "text/plain": [
       "5"
      ]
     },
     "execution_count": 32,
     "metadata": {},
     "output_type": "execute_result"
    }
   ],
   "source": [
    "numbers.index(2, 3) #3번째인덱스부터 2가 처음 나오는 인덱스를 반환"
   ]
  },
  {
   "cell_type": "markdown",
   "id": "6c5928b2-f57d-4345-85b4-34cf08713582",
   "metadata": {},
   "source": [
    "## 1.5 리스트의 원하는 내용만 추출\n",
    "- 슬라이싱 [from:to:step]을 이용 ; 원하는 인덱스의 값 추출\n",
    "- 리스트 컴프리헨션을 이용 ; 원하는 데이터만 추출"
   ]
  },
  {
   "cell_type": "code",
   "execution_count": 33,
   "id": "48d454d8-b3af-4f80-b334-e343a1d30362",
   "metadata": {},
   "outputs": [
    {
     "data": {
      "text/plain": [
       "[20, 19, 18, 13, 12, 10, 9, 5, 3, 1]"
      ]
     },
     "execution_count": 33,
     "metadata": {},
     "output_type": "execute_result"
    }
   ],
   "source": [
    "numbers  = [1,3,5,9,10,12,13,18,19,20]\n",
    "numbers[::-1]"
   ]
  },
  {
   "cell_type": "code",
   "execution_count": 35,
   "id": "f3f8a5df-b1d6-4ba0-9b7d-4ca52fa1ba72",
   "metadata": {},
   "outputs": [
    {
     "data": {
      "text/plain": [
       "[1, 5, 10, 13, 19]"
      ]
     },
     "execution_count": 35,
     "metadata": {},
     "output_type": "execute_result"
    }
   ],
   "source": [
    "numbers[::2] # 인덱스가 짝수인 값을 추출"
   ]
  },
  {
   "cell_type": "code",
   "execution_count": 36,
   "id": "83db23b7-d773-4195-9a87-2f19085d349f",
   "metadata": {},
   "outputs": [
    {
     "data": {
      "text/plain": [
       "[10, 12, 18, 20]"
      ]
     },
     "execution_count": 36,
     "metadata": {},
     "output_type": "execute_result"
    }
   ],
   "source": [
    "# 값이 짝수인 데이터만 추출\n",
    "result = []\n",
    "for num in numbers: #[1,3,5,9,10,12,13,18,19,20]\n",
    "    if num%2 == 0:\n",
    "        result.append(num)\n",
    "result"
   ]
  },
  {
   "cell_type": "code",
   "execution_count": 37,
   "id": "1685bb86-fcaf-473e-a7fb-cb1693f3a07f",
   "metadata": {},
   "outputs": [
    {
     "data": {
      "text/plain": [
       "[10, 12, 18, 20]"
      ]
     },
     "execution_count": 37,
     "metadata": {},
     "output_type": "execute_result"
    }
   ],
   "source": [
    "#리스트 컴프리헨션\n",
    "result = [num for num in numbers if num%2==0]\n",
    "result"
   ]
  },
  {
   "cell_type": "code",
   "execution_count": 39,
   "id": "7ce50856-f938-41ce-b868-9b8e847c8fb4",
   "metadata": {},
   "outputs": [
    {
     "data": {
      "text/plain": [
       "[1, 9, 25]"
      ]
     },
     "execution_count": 39,
     "metadata": {},
     "output_type": "execute_result"
    }
   ],
   "source": [
    "# numbers 리스트의 제곱값을 리스트로 생성하여라(컴프리헨션이용)\n",
    "numbers = [1,3,5]\n",
    "result = [num**2 for num in numbers]\n",
    "result"
   ]
  },
  {
   "cell_type": "code",
   "execution_count": 40,
   "id": "dba23eb2-e700-46bc-8d89-6aef76e3de51",
   "metadata": {},
   "outputs": [
    {
     "data": {
      "text/plain": [
       "['orange', 'apple', 'mango']"
      ]
     },
     "execution_count": 40,
     "metadata": {},
     "output_type": "execute_result"
    }
   ],
   "source": [
    "# 과일의 글자가 5글자 이상인 과일 추출하세요\n",
    "fruits = [\"orange\",\"apple\", \"mango\",\"kiwi\"]\n",
    "[fruit for fruit in fruits if len(fruit)>=5]"
   ]
  },
  {
   "cell_type": "code",
   "execution_count": 41,
   "id": "d54579a9-0ba9-420f-ade6-482209d0757b",
   "metadata": {},
   "outputs": [
    {
     "data": {
      "text/plain": [
       "[6, 5, 5]"
      ]
     },
     "execution_count": 41,
     "metadata": {},
     "output_type": "execute_result"
    }
   ],
   "source": [
    "# 과일의 글자가 5글자 이상인 과일의 글자수를 출력하세요\n",
    "[len(f) for f in fruits if len(f)>=5]"
   ]
  },
  {
   "cell_type": "markdown",
   "id": "630efd86-96c4-4062-a6ef-b317ce0382c6",
   "metadata": {},
   "source": [
    "## 1.6 삭제하기\n",
    "- remove(data) : 해당 data가 제거\n",
    "- del 리스트변수[idx] : idx번째 요소 제거\n",
    "- pop() : 가장 마지막 인덱스 요소가 return 되고 삭제"
   ]
  },
  {
   "cell_type": "code",
   "execution_count": 48,
   "id": "ccd8456a-b00a-4e24-b961-92460b3e2f66",
   "metadata": {},
   "outputs": [
    {
     "name": "stdout",
     "output_type": "stream",
     "text": [
      "4\n",
      "[1, 2, 3]\n"
     ]
    }
   ],
   "source": [
    "numbers = [1,2,3,4]\n",
    "print(numbers.pop())\n",
    "print(numbers)"
   ]
  },
  {
   "cell_type": "code",
   "execution_count": 49,
   "id": "78d7bd38-9f40-47aa-983b-394fcd305ee4",
   "metadata": {},
   "outputs": [
    {
     "name": "stdout",
     "output_type": "stream",
     "text": [
      "[2, 3]\n"
     ]
    }
   ],
   "source": [
    "numbers.remove(1)\n",
    "print(numbers)"
   ]
  },
  {
   "cell_type": "code",
   "execution_count": 50,
   "id": "69f9c177-4e57-426c-9d76-9f29f7a74356",
   "metadata": {},
   "outputs": [
    {
     "ename": "ValueError",
     "evalue": "list.remove(x): x not in list",
     "output_type": "error",
     "traceback": [
      "\u001b[1;31m------------------------------------------------------------\u001b[0m",
      "\u001b[1;31mValueError\u001b[0m                 Traceback (most recent call last)",
      "Cell \u001b[1;32mIn[50], line 1\u001b[0m\n\u001b[1;32m----> 1\u001b[0m numbers\u001b[38;5;241m.\u001b[39mremove(\u001b[38;5;241m9\u001b[39m)\n",
      "\u001b[1;31mValueError\u001b[0m: list.remove(x): x not in list"
     ]
    }
   ],
   "source": [
    "numbers.remove(9) #없는 데이터 remove시 에러"
   ]
  },
  {
   "cell_type": "code",
   "execution_count": 51,
   "id": "c2a823d8-b12d-4376-b6e1-2fabb8acdb46",
   "metadata": {},
   "outputs": [
    {
     "name": "stdout",
     "output_type": "stream",
     "text": [
      "[3]\n"
     ]
    }
   ],
   "source": [
    "del numbers[0]\n",
    "print(numbers)"
   ]
  },
  {
   "cell_type": "code",
   "execution_count": 52,
   "id": "3819bb70-5b2e-4f7c-b88f-1da56b0db414",
   "metadata": {},
   "outputs": [],
   "source": [
    "del numbers"
   ]
  },
  {
   "cell_type": "code",
   "execution_count": 53,
   "id": "be43d4a2-1fc4-488e-9a1c-801ca6c2d009",
   "metadata": {},
   "outputs": [
    {
     "ename": "NameError",
     "evalue": "name 'numbers' is not defined",
     "output_type": "error",
     "traceback": [
      "\u001b[1;31m------------------------------------------------------------\u001b[0m",
      "\u001b[1;31mNameError\u001b[0m                  Traceback (most recent call last)",
      "Cell \u001b[1;32mIn[53], line 1\u001b[0m\n\u001b[1;32m----> 1\u001b[0m numbers\n",
      "\u001b[1;31mNameError\u001b[0m: name 'numbers' is not defined"
     ]
    }
   ],
   "source": [
    "numbers"
   ]
  },
  {
   "cell_type": "markdown",
   "id": "e81421b6-2550-4438-a3c6-a1b646557b51",
   "metadata": {},
   "source": [
    "## 1.7 정렬하기"
   ]
  },
  {
   "cell_type": "code",
   "execution_count": 54,
   "id": "029af905-10f4-4181-95bf-7140e42aa3e4",
   "metadata": {},
   "outputs": [
    {
     "data": {
      "text/plain": [
       "[1, 5, 5, 9, 10]"
      ]
     },
     "execution_count": 54,
     "metadata": {},
     "output_type": "execute_result"
    }
   ],
   "source": [
    "numbers = [9,10,1,5,5]\n",
    "numbers.sort() #오름차순 정렬\n",
    "numbers"
   ]
  },
  {
   "cell_type": "code",
   "execution_count": 55,
   "id": "45c29f4e-8786-4ae5-8dfe-de2914c81ea5",
   "metadata": {},
   "outputs": [
    {
     "data": {
      "text/plain": [
       "[10, 9, 5, 5, 1]"
      ]
     },
     "execution_count": 55,
     "metadata": {},
     "output_type": "execute_result"
    }
   ],
   "source": [
    "numbers = [9,10,1,5,5]\n",
    "numbers.sort(reverse=True) #내림차순 정렬\n",
    "numbers"
   ]
  },
  {
   "cell_type": "markdown",
   "id": "5e0f4367-f432-409e-97c0-82cd06527e42",
   "metadata": {},
   "source": [
    "## 1.8 리스트 복제"
   ]
  },
  {
   "cell_type": "code",
   "execution_count": 56,
   "id": "29c75929-cf9a-453a-a1f4-d0bed568ba2d",
   "metadata": {},
   "outputs": [
    {
     "name": "stdout",
     "output_type": "stream",
     "text": [
      "정렬전 데이터 : [1, 2, 6]\n",
      "정렬후 데이터 : [1, 2, 6]\n"
     ]
    }
   ],
   "source": [
    "numbers = [6,1,2]\n",
    "new_numbers = numbers; # 얕은 복사\n",
    "numbers.sort()\n",
    "print('정렬전 데이터 :', new_numbers)\n",
    "print('정렬후 데이터 :', numbers)"
   ]
  },
  {
   "cell_type": "code",
   "execution_count": null,
   "id": "cbb3a675-5400-4502-8352-c699cc33b9d1",
   "metadata": {},
   "outputs": [],
   "source": [
    "numbers = [6,1,2]\n",
    "new_numbers = numbers.copy(); # 깊은 복사\n",
    "numbers.sort()\n",
    "print('정렬전 데이터 :', new_numbers)\n",
    "print('정렬후 데이터 :', numbers)"
   ]
  },
  {
   "cell_type": "markdown",
   "id": "dd15f49a-21ba-41e6-89fc-12b426c1fe7f",
   "metadata": {},
   "source": [
    "# 2절. 튜플\n",
    "- 리스트와 유사하지만 읽기전용\n",
    "- () 이용해서 생성"
   ]
  },
  {
   "cell_type": "code",
   "execution_count": 57,
   "id": "1c0d3ae2-98dd-4ebb-b1d1-03e6471aa3b7",
   "metadata": {},
   "outputs": [
    {
     "name": "stdout",
     "output_type": "stream",
     "text": [
      "<class 'tuple'>\n",
      "('서울', '부산', '광주', '대전')\n"
     ]
    }
   ],
   "source": [
    "city = ('서울','부산','광주','대전')\n",
    "print(type(city))\n",
    "print(city)"
   ]
  },
  {
   "cell_type": "code",
   "execution_count": 58,
   "id": "c8fa6bb1-5838-47f1-ab72-da05661cedf9",
   "metadata": {},
   "outputs": [
    {
     "data": {
      "text/plain": [
       "'서울~부산~광주~대전'"
      ]
     },
     "execution_count": 58,
     "metadata": {},
     "output_type": "execute_result"
    }
   ],
   "source": [
    "'~'.join(city)"
   ]
  },
  {
   "cell_type": "code",
   "execution_count": 60,
   "id": "3878b5d2-3d59-49d8-a28e-9cd51a5dccc0",
   "metadata": {},
   "outputs": [
    {
     "data": {
      "text/plain": [
       "list"
      ]
     },
     "execution_count": 60,
     "metadata": {},
     "output_type": "execute_result"
    }
   ],
   "source": [
    "list_ = ['서울']\n",
    "type(list_)"
   ]
  },
  {
   "cell_type": "code",
   "execution_count": 62,
   "id": "532d237a-4aa2-4b71-85a4-d14e7675fcd8",
   "metadata": {},
   "outputs": [
    {
     "data": {
      "text/plain": [
       "tuple"
      ]
     },
     "execution_count": 62,
     "metadata": {},
     "output_type": "execute_result"
    }
   ],
   "source": [
    "t = ('서울', ) #요소가 하나인 튜플은 뒤에 컴마(,) 필수\n",
    "type(t)"
   ]
  },
  {
   "cell_type": "markdown",
   "id": "697c1c25-0267-4fde-a3b6-55ea8eea8efe",
   "metadata": {},
   "source": [
    "# 3절 딕셔너리\n",
    "- 구조체와 유사\n",
    "- {}를 이용해서 생성. key-value쌍으로 구성\n",
    "- value(값)은 중복 가능하나 key는 중복 불가\n",
    "- index를 이용한 참조 불가"
   ]
  },
  {
   "cell_type": "code",
   "execution_count": 64,
   "id": "88cb09b3-ef92-4006-b1cf-ff27a2bbfe22",
   "metadata": {},
   "outputs": [
    {
     "name": "stdout",
     "output_type": "stream",
     "text": [
      "<class 'dict'>\n",
      "{'name': '홍길동', 'address': '서울시 금천구'}\n"
     ]
    }
   ],
   "source": [
    "dic = {'name':'홍길동', 'address':'서울시 금천구'}\n",
    "print(type(dic))\n",
    "print(dic)"
   ]
  },
  {
   "cell_type": "code",
   "execution_count": 68,
   "id": "54a724f2-91a1-4236-b1d9-b1a3fa8e6c53",
   "metadata": {},
   "outputs": [
    {
     "data": {
      "text/plain": [
       "('홍길동', '서울시 금천구')"
      ]
     },
     "execution_count": 68,
     "metadata": {},
     "output_type": "execute_result"
    }
   ],
   "source": [
    "dic['name'], dic['address']"
   ]
  },
  {
   "cell_type": "code",
   "execution_count": 69,
   "id": "aa60d3d5-904b-43c4-94e5-2fb238a3edd0",
   "metadata": {},
   "outputs": [
    {
     "ename": "KeyError",
     "evalue": "'score'",
     "output_type": "error",
     "traceback": [
      "\u001b[1;31m------------------------------------------------------------\u001b[0m",
      "\u001b[1;31mKeyError\u001b[0m                   Traceback (most recent call last)",
      "Cell \u001b[1;32mIn[69], line 1\u001b[0m\n\u001b[1;32m----> 1\u001b[0m dic[\u001b[38;5;124m'\u001b[39m\u001b[38;5;124mscore\u001b[39m\u001b[38;5;124m'\u001b[39m]\n",
      "\u001b[1;31mKeyError\u001b[0m: 'score'"
     ]
    }
   ],
   "source": [
    "dic['score']"
   ]
  },
  {
   "cell_type": "code",
   "execution_count": 71,
   "id": "7e63020b-eebc-4dac-a33a-3aff8cd29e2b",
   "metadata": {},
   "outputs": [
    {
     "data": {
      "text/plain": [
       "('홍길동', '서울시 금천구', None)"
      ]
     },
     "execution_count": 71,
     "metadata": {},
     "output_type": "execute_result"
    }
   ],
   "source": [
    "dic.get('name'), dic.get('address'), dic.get('score')"
   ]
  },
  {
   "cell_type": "code",
   "execution_count": 74,
   "id": "51166f31-ddd8-4e29-9c55-51b568a24a8a",
   "metadata": {},
   "outputs": [
    {
     "name": "stdout",
     "output_type": "stream",
     "text": [
      "{'name': '홍길동', 'address': '서울시 금천구', 'score': 100, 'sport': 'sleep'}\n"
     ]
    }
   ],
   "source": [
    "# 수정\n",
    "dic['score'] = 100\n",
    "dic['sport'] = 'sleep'\n",
    "print(dic)"
   ]
  },
  {
   "cell_type": "code",
   "execution_count": 75,
   "id": "5b1f4d86-84dc-4c82-bff0-07f8d78a846b",
   "metadata": {},
   "outputs": [
    {
     "data": {
      "text/plain": [
       "'sleep'"
      ]
     },
     "execution_count": 75,
     "metadata": {},
     "output_type": "execute_result"
    }
   ],
   "source": [
    "dic.pop('sport')"
   ]
  },
  {
   "cell_type": "code",
   "execution_count": 76,
   "id": "8cd992f2-12fd-4425-8c9c-841ee64915dc",
   "metadata": {},
   "outputs": [
    {
     "data": {
      "text/plain": [
       "{'name': '홍길동', 'address': '서울시 금천구', 'score': 100}"
      ]
     },
     "execution_count": 76,
     "metadata": {},
     "output_type": "execute_result"
    }
   ],
   "source": [
    "dic"
   ]
  },
  {
   "cell_type": "code",
   "execution_count": 81,
   "id": "52a4bd0e-4044-486f-864f-7bf3badb27df",
   "metadata": {},
   "outputs": [
    {
     "name": "stdout",
     "output_type": "stream",
     "text": [
      "name\n",
      "address\n",
      "score\n",
      "0 name\n",
      "1 address\n",
      "2 score\n"
     ]
    }
   ],
   "source": [
    "# 리스트(튜플, 셋)방식으로 for문 사용하면 key만 출력\n",
    "for key in dic:\n",
    "    print(key)\n",
    "for idx, value in enumerate(dic):\n",
    "    print(idx, value)"
   ]
  },
  {
   "cell_type": "code",
   "execution_count": 82,
   "id": "3f632372-2406-463e-ad64-3e5ad1e83ca5",
   "metadata": {},
   "outputs": [
    {
     "data": {
      "text/plain": [
       "dict_keys(['name', 'address', 'score'])"
      ]
     },
     "execution_count": 82,
     "metadata": {},
     "output_type": "execute_result"
    }
   ],
   "source": [
    "dic.keys()"
   ]
  },
  {
   "cell_type": "code",
   "execution_count": 83,
   "id": "be2dd76a-f823-482a-8cd6-e39bf964033e",
   "metadata": {},
   "outputs": [
    {
     "data": {
      "text/plain": [
       "dict_values(['홍길동', '서울시 금천구', 100])"
      ]
     },
     "execution_count": 83,
     "metadata": {},
     "output_type": "execute_result"
    }
   ],
   "source": [
    "dic.values()"
   ]
  },
  {
   "cell_type": "code",
   "execution_count": 84,
   "id": "dcd127d9-3072-49fd-9d8d-cc94b9758a87",
   "metadata": {},
   "outputs": [
    {
     "data": {
      "text/plain": [
       "dict_items([('name', '홍길동'), ('address', '서울시 금천구'), ('score', 100)])"
      ]
     },
     "execution_count": 84,
     "metadata": {},
     "output_type": "execute_result"
    }
   ],
   "source": [
    "dic.items() # ★★★★★"
   ]
  },
  {
   "cell_type": "code",
   "execution_count": 85,
   "id": "16a22a86-a8d7-480b-b334-d4117b4c257f",
   "metadata": {},
   "outputs": [
    {
     "name": "stdout",
     "output_type": "stream",
     "text": [
      "홍길동\n",
      "서울시 금천구\n",
      "100\n"
     ]
    }
   ],
   "source": [
    "for data in dic.values():\n",
    "    print(data)"
   ]
  },
  {
   "cell_type": "code",
   "execution_count": 86,
   "id": "afc6e242-4a0f-4690-9259-217a9cf55d8b",
   "metadata": {},
   "outputs": [
    {
     "name": "stdout",
     "output_type": "stream",
     "text": [
      "name : 홍길동\n",
      "address : 서울시 금천구\n",
      "score : 100\n"
     ]
    }
   ],
   "source": [
    "for key, value in dic.items():\n",
    "    print(\"{} : {}\".format(key, value))"
   ]
  },
  {
   "cell_type": "code",
   "execution_count": 87,
   "id": "46f24619-2b78-4023-bcc1-68421105e322",
   "metadata": {},
   "outputs": [
    {
     "data": {
      "text/plain": [
       "True"
      ]
     },
     "execution_count": 87,
     "metadata": {},
     "output_type": "execute_result"
    }
   ],
   "source": [
    "l = ['a','b','c']\n",
    "'c' in l"
   ]
  },
  {
   "cell_type": "code",
   "execution_count": 88,
   "id": "393468d6-c444-46ee-b189-340a0377c524",
   "metadata": {},
   "outputs": [
    {
     "data": {
      "text/plain": [
       "True"
      ]
     },
     "execution_count": 88,
     "metadata": {},
     "output_type": "execute_result"
    }
   ],
   "source": [
    "dic = {'name':'홍길동', 'score':100}\n",
    "'name' in dic"
   ]
  },
  {
   "cell_type": "code",
   "execution_count": 89,
   "id": "1d66e3ea-46b7-4ebb-ac40-9b8ddaf9fede",
   "metadata": {},
   "outputs": [
    {
     "data": {
      "text/plain": [
       "False"
      ]
     },
     "execution_count": 89,
     "metadata": {},
     "output_type": "execute_result"
    }
   ],
   "source": [
    "'홍길동' in dic"
   ]
  },
  {
   "cell_type": "code",
   "execution_count": 90,
   "id": "fba4e671-a632-4b09-9f03-e67a4183ca65",
   "metadata": {},
   "outputs": [
    {
     "data": {
      "text/plain": [
       "2"
      ]
     },
     "execution_count": 90,
     "metadata": {},
     "output_type": "execute_result"
    }
   ],
   "source": [
    "len(dic) #데이터 갯수"
   ]
  },
  {
   "cell_type": "markdown",
   "id": "2b2fd2b7-1121-4f9f-af76-0408933f9262",
   "metadata": {},
   "source": [
    "# 4절. 셋\n",
    "- 중복을 허용하지 않는 집합(순서x = 인덱스X)"
   ]
  },
  {
   "cell_type": "code",
   "execution_count": 94,
   "id": "b498420c-e334-4cb8-9f2c-9dc60b626cfa",
   "metadata": {},
   "outputs": [
    {
     "name": "stdout",
     "output_type": "stream",
     "text": [
      "{0, 'orange', 'banana', 'apple'}\n",
      "<class 'set'>\n"
     ]
    }
   ],
   "source": [
    "fruits = {'apple', 'orange', 'banana', 'banana', 0, 0}\n",
    "print(fruits)\n",
    "print(type(fruits))"
   ]
  },
  {
   "cell_type": "code",
   "execution_count": 95,
   "id": "99314ba7-8b93-4ea2-bd1c-0845bbe67fd0",
   "metadata": {},
   "outputs": [
    {
     "name": "stdout",
     "output_type": "stream",
     "text": [
      "{0, 'banana', 'kiwi', 'apple', 'orange'}\n"
     ]
    }
   ],
   "source": [
    "fruits.add('kiwi')\n",
    "print(fruits)"
   ]
  },
  {
   "cell_type": "code",
   "execution_count": 96,
   "id": "faeaea78-946e-4510-a5c4-c482baae0ee3",
   "metadata": {},
   "outputs": [
    {
     "name": "stdout",
     "output_type": "stream",
     "text": [
      "{0, 'banana', 'kiwi', 'apple', 'orange'}\n"
     ]
    }
   ],
   "source": [
    "fruits.add('banana')\n",
    "print(fruits)"
   ]
  },
  {
   "cell_type": "code",
   "execution_count": 97,
   "id": "bb310db8-1657-4cfd-8d24-b1a228bf0062",
   "metadata": {},
   "outputs": [
    {
     "name": "stdout",
     "output_type": "stream",
     "text": [
      "0:0\n",
      "1:banana\n",
      "2:kiwi\n",
      "3:apple\n",
      "4:orange\n"
     ]
    }
   ],
   "source": [
    "for i, value in enumerate(fruits):\n",
    "    print(\"{}:{}\".format(i, value))"
   ]
  },
  {
   "cell_type": "code",
   "execution_count": null,
   "id": "e6bac8db-7c5a-4e8b-9e63-225eab76986f",
   "metadata": {},
   "outputs": [],
   "source": []
  },
  {
   "cell_type": "code",
   "execution_count": null,
   "id": "7093d7f5-d5c0-49ff-97be-29325bf68f80",
   "metadata": {},
   "outputs": [],
   "source": []
  },
  {
   "cell_type": "code",
   "execution_count": null,
   "id": "c6a21cb2-b36a-44a1-b826-4c943428cd32",
   "metadata": {},
   "outputs": [],
   "source": []
  },
  {
   "cell_type": "code",
   "execution_count": null,
   "id": "07dc2303-e798-4774-8eac-b32b9132e529",
   "metadata": {},
   "outputs": [],
   "source": []
  },
  {
   "cell_type": "code",
   "execution_count": null,
   "id": "cead3efc-7c2c-4d1e-b0f6-6f82481a76de",
   "metadata": {},
   "outputs": [],
   "source": []
  },
  {
   "cell_type": "code",
   "execution_count": null,
   "id": "d55b9045-569f-4641-b9b8-6a046dc2ee32",
   "metadata": {},
   "outputs": [],
   "source": []
  }
 ],
 "metadata": {
  "kernelspec": {
   "display_name": "Python 3 (ipykernel)",
   "language": "python",
   "name": "python3"
  },
  "language_info": {
   "codemirror_mode": {
    "name": "ipython",
    "version": 3
   },
   "file_extension": ".py",
   "mimetype": "text/x-python",
   "name": "python",
   "nbconvert_exporter": "python",
   "pygments_lexer": "ipython3",
   "version": "3.11.7"
  }
 },
 "nbformat": 4,
 "nbformat_minor": 5
}
